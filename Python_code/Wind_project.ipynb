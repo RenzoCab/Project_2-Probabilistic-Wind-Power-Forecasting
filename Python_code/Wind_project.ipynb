{
 "cells": [
  {
   "cell_type": "code",
   "execution_count": 1,
   "metadata": {},
   "outputs": [],
   "source": [
    "import numpy as np\n",
    "import matplotlib.pyplot as plt\n",
    "import pandas as pd\n",
    "import os\n",
    "import scipy as sc"
   ]
  },
  {
   "cell_type": "markdown",
   "metadata": {},
   "source": [
    "## Importing all the data"
   ]
  },
  {
   "cell_type": "code",
   "execution_count": 2,
   "metadata": {},
   "outputs": [],
   "source": [
    "dire0=\"C:/Users/HP/Desktop/EPT/3e/PFE/Work/Renzo_material/Wind_data/Table_Complete.csv\""
   ]
  },
  {
   "cell_type": "code",
   "execution_count": 3,
   "metadata": {},
   "outputs": [],
   "source": [
    "os.chdir(\"C:\\\\Users\\\\HP\\\\Desktop\\\\EPT\\\\3e\\\\PFE\\\\Work\\\\Wind_project\\\\Renzo_material\\\\Wind_data\")"
   ]
  },
  {
   "cell_type": "code",
   "execution_count": 4,
   "metadata": {},
   "outputs": [],
   "source": [
    "all_data=pd.read_csv(\"Table_Complete.csv\",encoding='utf-8')"
   ]
  },
  {
   "cell_type": "code",
   "execution_count": 5,
   "metadata": {},
   "outputs": [],
   "source": [
    "def data(beg,end):\n",
    "    l=[col[0]]\n",
    "    l.extend(col[beg:end])\n",
    "    return(all_data[l])"
   ]
  },
  {
   "cell_type": "code",
   "execution_count": 6,
   "metadata": {},
   "outputs": [],
   "source": [
    "col=all_data.columns.to_list()"
   ]
  },
  {
   "cell_type": "code",
   "execution_count": 7,
   "metadata": {},
   "outputs": [],
   "source": [
    "time=data(1,146)"
   ]
  },
  {
   "cell_type": "code",
   "execution_count": 8,
   "metadata": {},
   "outputs": [],
   "source": [
    "forecast=data(146,291)"
   ]
  },
  {
   "cell_type": "code",
   "execution_count": 9,
   "metadata": {},
   "outputs": [],
   "source": [
    "adme=data(580,725)"
   ]
  },
  {
   "cell_type": "markdown",
   "metadata": {},
   "source": [
    "## Forecast P epsilon"
   ]
  },
  {
   "cell_type": "code",
   "execution_count": 10,
   "metadata": {},
   "outputs": [],
   "source": [
    "eps=0.018"
   ]
  },
  {
   "cell_type": "code",
   "execution_count": 11,
   "metadata": {},
   "outputs": [],
   "source": [
    "def pe(eps,forecast):\n",
    "    col_for=forecast.columns.to_list()\n",
    "    forecast_eps=forecast.copy()\n",
    "    for i in col_for[1:]:\n",
    "        forecast_eps.loc[forecast_eps[i]<eps,i]=eps\n",
    "        forecast_eps.loc[forecast_eps[i]>=(1-eps),i]=1-eps\n",
    "    return(forecast_eps)"
   ]
  },
  {
   "cell_type": "code",
   "execution_count": 12,
   "metadata": {},
   "outputs": [],
   "source": [
    "forecast_eps=pe(eps,forecast)"
   ]
  },
  {
   "cell_type": "code",
   "execution_count": 13,
   "metadata": {},
   "outputs": [],
   "source": [
    "def pe_dot(forecast,dt):\n",
    "    col=forecast.columns.to_list()\n",
    "    forecast_dot=pd.DataFrame(columns=col)\n",
    "    forecast_dot['Date']=forecast['Date']\n",
    "    del col[0]\n",
    "    forecast_dot[col]=(forecast[col].shift(-1)-forecast[col])/dt\n",
    "    forecast_dot=forecast_dot.drop(forecast_dot.index[len(forecast_dot)-1])\n",
    "    return(forecast_dot)"
   ]
  },
  {
   "cell_type": "code",
   "execution_count": 14,
   "metadata": {},
   "outputs": [],
   "source": [
    "dt=0.05"
   ]
  },
  {
   "cell_type": "code",
   "execution_count": 15,
   "metadata": {},
   "outputs": [],
   "source": [
    "forecast_dot=pe_dot(forecast_eps,dt)"
   ]
  },
  {
   "cell_type": "markdown",
   "metadata": {},
   "source": [
    "## Error"
   ]
  },
  {
   "cell_type": "code",
   "execution_count": 16,
   "metadata": {},
   "outputs": [],
   "source": [
    "col_err=['Date']\n",
    "l=['error_'+str(i) for i in range(1,146)]\n",
    "col_err.extend(l)\n",
    "error=pd.DataFrame(columns=col_err)\n",
    "col_adme=adme.columns.to_list()\n",
    "col_for=forecast.columns.to_list()\n",
    "del col_adme[0]\n",
    "del col_for[0]\n",
    "error['Date']=adme['Date']\n",
    "for i in range(len(l)):\n",
    "    error[l[i]]=adme[col_adme[i]]-forecast_eps[col_for[i]]"
   ]
  },
  {
   "cell_type": "markdown",
   "metadata": {},
   "source": [
    "# Moment Matching"
   ]
  },
  {
   "cell_type": "markdown",
   "metadata": {},
   "source": [
    "## First moment"
   ]
  },
  {
   "cell_type": "code",
   "execution_count": 18,
   "metadata": {},
   "outputs": [],
   "source": [
    "def first_moment(v,theta1,theta2,dt,N):\n",
    "    if theta1==theta2:\n",
    "        return(v*np.exp(-theta1*dt))\n",
    "    else:\n",
    "        m=np.zeros(N)\n",
    "        m[0]=v\n",
    "        ds=dt/N\n",
    "        for i in range(1,N):\n",
    "            m[i]=m[i-1]*(1-theta1+(theta2-theta1)*(i/N)*ds)\n",
    "    return(m)"
   ]
  },
  {
   "cell_type": "markdown",
   "metadata": {},
   "source": [
    "## Second moment"
   ]
  },
  {
   "cell_type": "code",
   "execution_count": 22,
   "metadata": {},
   "outputs": [],
   "source": [
    "def second_moment(v,theta1,theta2,p1,p2,alpha,dt,N):\n",
    "    m1=first_moment(v,theta1,theta2,dt,N)\n",
    "    m2=np.zeros(N)\n",
    "    m2[0]=v**2\n",
    "    ds=dt/N\n",
    "    if theta1!=theta2:\n",
    "        for i in range(1,N):\n",
    "            m1=m1*np.exp((i-1)/N)\n",
    "            p=p1+(p2-p1)*((i-1)/N)\n",
    "            m2[i]=m2[i-1]+2*theta1*ds*(-(1+alpha)*m2[i-1])+alpha*m1*(1-2*p)+alpha*p*(2-p)\n",
    "    else:\n",
    "        for i in range(1,N):\n",
    "            theta=theta1+(theta2-theta1)*((i-1)/N)\n",
    "            m1=m1*np.exp((i-1)/N)\n",
    "            p=p1+(p2-p1)*((i-1)/N)\n",
    "            m2[i]=m2[i-1]+2*theta1*ds*(-(1+alpha)*m2[i-1])+alpha*m1*(1-2*p)+alpha*p*(2-p)"
   ]
  },
  {
   "cell_type": "markdown",
   "metadata": {},
   "source": [
    "## Density approximation parameters"
   ]
  },
  {
   "cell_type": "code",
   "execution_count": 23,
   "metadata": {},
   "outputs": [],
   "source": [
    "def moment_matching(m1,m2):\n",
    "    mu=m1\n",
    "    sig2=m2-m1**2\n",
    "    xi1=-((mu+1)*(mu**2+sig2-1))/(2*sig2)\n",
    "    xi2=((mu-1)*(mu**2+sig2-1))/(2*sig2)\n",
    "    return(xi1,xi2)"
   ]
  },
  {
   "cell_type": "code",
   "execution_count": null,
   "metadata": {},
   "outputs": [],
   "source": []
  },
  {
   "cell_type": "markdown",
   "metadata": {},
   "source": [
    "# Initial guess"
   ]
  },
  {
   "cell_type": "code",
   "execution_count": 20,
   "metadata": {},
   "outputs": [],
   "source": [
    "M,N=forecast.shape\n",
    "N-=1\n",
    "theta1=0.1\n",
    "theta2=0.2"
   ]
  },
  {
   "cell_type": "code",
   "execution_count": 21,
   "metadata": {},
   "outputs": [],
   "source": [
    "def initial_guess(adme,M,N,dt):\n",
    "    estimator=0\n",
    "    "
   ]
  },
  {
   "cell_type": "code",
   "execution_count": null,
   "metadata": {},
   "outputs": [],
   "source": [
    "def initial_theta():\n",
    "    "
   ]
  },
  {
   "cell_type": "code",
   "execution_count": null,
   "metadata": {},
   "outputs": [],
   "source": [
    "def initial_theta0():\n",
    "    "
   ]
  }
 ],
 "metadata": {
  "kernelspec": {
   "display_name": "Python 3",
   "language": "python",
   "name": "python3"
  },
  "language_info": {
   "codemirror_mode": {
    "name": "ipython",
    "version": 3
   },
   "file_extension": ".py",
   "mimetype": "text/x-python",
   "name": "python",
   "nbconvert_exporter": "python",
   "pygments_lexer": "ipython3",
   "version": "3.7.4"
  }
 },
 "nbformat": 4,
 "nbformat_minor": 2
}
