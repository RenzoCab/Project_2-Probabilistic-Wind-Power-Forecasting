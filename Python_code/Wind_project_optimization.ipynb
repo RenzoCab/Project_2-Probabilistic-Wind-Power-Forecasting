{
 "cells": [
  {
   "cell_type": "code",
   "execution_count": 1,
   "metadata": {},
   "outputs": [],
   "source": [
    "import numpy as np\n",
    "import matplotlib.pyplot as plt\n",
    "import pandas as pd\n",
    "import os\n",
    "import scipy as sc"
   ]
  },
  {
   "cell_type": "markdown",
   "metadata": {},
   "source": [
    "## Importing all the data"
   ]
  },
  {
   "cell_type": "code",
   "execution_count": 2,
   "metadata": {},
   "outputs": [],
   "source": [
    "all_data=pd.read_csv(\"C:\\\\Users\\\\HP\\\\Documents\\\\GitHub\\\\Wind_Power\\\\Data\\\\Data_for_this_paper\\\\Table_Training_Complete.csv\",encoding='utf-8')"
   ]
  },
  {
   "cell_type": "code",
   "execution_count": 3,
   "metadata": {},
   "outputs": [],
   "source": [
    "def data(beg,end):\n",
    "    l=[col[0]]\n",
    "    l.extend(col[beg:end])\n",
    "    return(all_data[l])"
   ]
  },
  {
   "cell_type": "code",
   "execution_count": 4,
   "metadata": {},
   "outputs": [],
   "source": [
    "test=pd.read_csv(\"C:\\\\Users\\\\HP\\\\Desktop\\\\Classeur1.csv\",encoding='utf-8',header=None)"
   ]
  },
  {
   "cell_type": "code",
   "execution_count": 5,
   "metadata": {},
   "outputs": [],
   "source": [
    "col=all_data.columns.to_list()"
   ]
  },
  {
   "cell_type": "code",
   "execution_count": 6,
   "metadata": {},
   "outputs": [],
   "source": [
    "time=data(1,146)"
   ]
  },
  {
   "cell_type": "code",
   "execution_count": 7,
   "metadata": {},
   "outputs": [],
   "source": [
    "forecast=data(146,291)"
   ]
  },
  {
   "cell_type": "code",
   "execution_count": 8,
   "metadata": {},
   "outputs": [],
   "source": [
    "adme=data(580,725)"
   ]
  },
  {
   "cell_type": "code",
   "execution_count": 9,
   "metadata": {},
   "outputs": [],
   "source": [
    "forecast=forecast.iloc[:127]\n",
    "adme=adme.iloc[:127]"
   ]
  },
  {
   "cell_type": "markdown",
   "metadata": {},
   "source": [
    "### Constants"
   ]
  },
  {
   "cell_type": "code",
   "execution_count": 10,
   "metadata": {},
   "outputs": [],
   "source": [
    "theta1=0.1\n",
    "theta2=0.2\n",
    "dt=0.0069\n",
    "max_change=1.01\n",
    "max_iter2=100\n",
    "max_iter1=50\n",
    "gamma=0.2\n",
    "eps=0.018"
   ]
  },
  {
   "cell_type": "code",
   "execution_count": 11,
   "metadata": {},
   "outputs": [],
   "source": [
    "def I(gamma,x,forecast):\n",
    "    forecast_gamma=forecast.copy()\n",
    "    m=forecast_gamma[x]>=gamma\n",
    "    v=forecast_gamma[x]<=1-gamma\n",
    "    forecast_gamma=forecast_gamma.where(m & v)\n",
    "    #forecast_gamma=forecast_gamma.where(m | v,-1)\n",
    "    forecast_gamma['Date']=forecast['Date']\n",
    "    return(forecast_gamma)"
   ]
  },
  {
   "cell_type": "code",
   "execution_count": 12,
   "metadata": {},
   "outputs": [],
   "source": [
    "def pe(eps,x,forecast):\n",
    "    forecast_eps=forecast.copy()\n",
    "    m=forecast[x]<eps\n",
    "    v=forecast[x]>=1-eps\n",
    "    forecast_eps=forecast_eps.where(~m,eps)\n",
    "    forecast_eps=forecast_eps.where(~v,1-eps)\n",
    "    forecast_eps['Date']=forecast['Date']\n",
    "    return(forecast_eps)"
   ]
  },
  {
   "cell_type": "code",
   "execution_count": 13,
   "metadata": {},
   "outputs": [],
   "source": [
    "def J(eps,x,forecast_eps):\n",
    "    m=forecast_eps[x]==eps\n",
    "    v=forecast_eps[x]==1-eps\n",
    "    forecast_j=forecast_eps.where(m | v)\n",
    "    #forecast_eps=forecast_eps.where(v)\n",
    "    forecast_j['Date']=forecast_eps['Date']\n",
    "    return(forecast_j)"
   ]
  },
  {
   "cell_type": "code",
   "execution_count": 14,
   "metadata": {},
   "outputs": [],
   "source": [
    "def pe_dot(forecast,dt):\n",
    "    col=forecast.columns.to_list()\n",
    "    forecast_dot=pd.DataFrame(columns=col)\n",
    "    forecast_dot['Date']=forecast['Date']\n",
    "    del col[0]\n",
    "    forecast_dot[col]=(forecast[col].shift(-1)-forecast[col])/dt\n",
    "    forecast_dot=forecast_dot.drop(forecast_dot.index[len(forecast_dot)-1])\n",
    "    return(forecast_dot)"
   ]
  },
  {
   "cell_type": "markdown",
   "metadata": {},
   "source": [
    "# Moment Matching"
   ]
  },
  {
   "cell_type": "markdown",
   "metadata": {},
   "source": [
    "## First moment"
   ]
  },
  {
   "cell_type": "code",
   "execution_count": 15,
   "metadata": {},
   "outputs": [],
   "source": [
    "def first_moment(v,theta1,theta2,dt,N):\n",
    "    if theta1==theta2:\n",
    "        return(v*np.exp(-theta1*dt))\n",
    "    else:\n",
    "        m=np.zeros(N)\n",
    "        m[0]=v\n",
    "        ds=dt/N\n",
    "        for i in range(1,N):\n",
    "            m[i]=m[i-1]*(1-theta1+(theta2-theta1)*(i/N)*ds)\n",
    "    return(m)"
   ]
  },
  {
   "cell_type": "markdown",
   "metadata": {},
   "source": [
    "## Second moment"
   ]
  },
  {
   "cell_type": "code",
   "execution_count": 16,
   "metadata": {},
   "outputs": [],
   "source": [
    "def second_moment(v,theta1,theta2,p1,p2,alpha,dt,N):\n",
    "    m1=first_moment(v,theta1,theta2,dt,N)\n",
    "    m2=np.zeros(N)\n",
    "    m2[0]=v**2\n",
    "    ds=dt/N\n",
    "    if theta1!=theta2:\n",
    "        for i in range(1,N):\n",
    "            m1=m1*np.exp((i-1)/N)\n",
    "            p=p1+(p2-p1)*((i-1)/N)\n",
    "            m2[i]=m2[i-1]+2*theta1*ds*(-(1+alpha)*m2[i-1])+alpha*m1*(1-2*p)+alpha*p*(2-p)\n",
    "    else:\n",
    "        for i in range(1,N):\n",
    "            theta=theta1+(theta2-theta1)*((i-1)/N)\n",
    "            m1=m1*np.exp((i-1)/N)\n",
    "            p=p1+(p2-p1)*((i-1)/N)\n",
    "            m2[i]=m2[i-1]+2*theta1*ds*(-(1+alpha)*m2[i-1])+alpha*m1*(1-2*p)+alpha*p*(2-p)"
   ]
  },
  {
   "cell_type": "markdown",
   "metadata": {},
   "source": [
    "## Density approximation"
   ]
  },
  {
   "cell_type": "markdown",
   "metadata": {},
   "source": [
    "###  Parameters"
   ]
  },
  {
   "cell_type": "code",
   "execution_count": 17,
   "metadata": {},
   "outputs": [],
   "source": [
    "def moment_matching(m1,m2):\n",
    "    mu=m1\n",
    "    sig2=m2-m1**2\n",
    "    xi1=-((mu+1)*(mu**2+sig2-1))/(2*sig2)\n",
    "    xi2=((mu-1)*(mu**2+sig2-1))/(2*sig2)\n",
    "    return(xi1,xi2)"
   ]
  },
  {
   "cell_type": "markdown",
   "metadata": {},
   "source": [
    "### Log density"
   ]
  },
  {
   "cell_type": "code",
   "execution_count": 18,
   "metadata": {},
   "outputs": [],
   "source": [
    "def log_density(v,xi1,xi2):\n",
    "    a=-1\n",
    "    b=1\n",
    "    return(-sc.betaln(xi1,xi2)+(xi1-1)*np.log((v-a)/(b-a))+(xi2-1)*np.log((b-v)/(b-a)))"
   ]
  },
  {
   "cell_type": "code",
   "execution_count": null,
   "metadata": {},
   "outputs": [],
   "source": []
  }
 ],
 "metadata": {
  "kernelspec": {
   "display_name": "Python 3",
   "language": "python",
   "name": "python3"
  },
  "language_info": {
   "codemirror_mode": {
    "name": "ipython",
    "version": 3
   },
   "file_extension": ".py",
   "mimetype": "text/x-python",
   "name": "python",
   "nbconvert_exporter": "python",
   "pygments_lexer": "ipython3",
   "version": "3.7.4"
  }
 },
 "nbformat": 4,
 "nbformat_minor": 2
}
