{
 "cells": [
  {
   "cell_type": "code",
   "execution_count": 1,
   "metadata": {},
   "outputs": [],
   "source": [
    "from multi_path_base import *\n",
    "forecast_with_data=np.load('forecast_with_data.npy')"
   ]
  },
  {
   "cell_type": "code",
   "execution_count": 2,
   "metadata": {},
   "outputs": [
    {
     "name": "stdout",
     "output_type": "stream",
     "text": [
      "paths left 1193\n"
     ]
    }
   ],
   "source": [
    "#cleaning data\n",
    "interpolation_points=150\n",
    "forecast_data_inter= np.zeros((3,forecast_with_data.shape[0], interpolation_points ))\n",
    "x = np.arange(1,72+1,1)\n",
    "xnew = np.linspace(0,72,interpolation_points)\n",
    "counter=0\n",
    "i=0;j=0\n",
    "while j< forecast_with_data.shape[0]: #fix redundant indicies\n",
    "    \n",
    "    y1=forecast_with_data[j,:,1]\n",
    "    y2=forecast_with_data[j,:,2]\n",
    "    inter_1=interpolate.interp1d(x, y1, fill_value='extrapolate')\n",
    "    inter_2=interpolate.interp1d(x, y2, fill_value='extrapolate')\n",
    "    p=inter_1(xnew)\n",
    "    d=inter_2(xnew)\n",
    "    \n",
    "    if  sum(1*np.isnan(p))==0 and \\\n",
    "        sum(1*np.isnan(d))==0 and \\\n",
    "        np.max(p)<=1 and \\\n",
    "        np.min(p)>=0 and \\\n",
    "        np.max(d)<=1 and \\\n",
    "        np.min(d)>=0:\n",
    "        \n",
    "        forecast_data_inter[0,i,:]= p\n",
    "        forecast_data_inter[1,i,:]= d\n",
    "        forecast_data_inter[2,i,0]= forecast_with_data[j,0,0]\n",
    "        i+=1\n",
    "    j+=1\n",
    "n_paths=i\n",
    "print('paths left', i)"
   ]
  },
  {
   "cell_type": "code",
   "execution_count": 3,
   "metadata": {},
   "outputs": [],
   "source": [
    "N=forecast_data_inter.shape[2]\n",
    "#M=forecast_data_inter.shape[1]\n",
    "M=n_paths\n",
    "dt=1\n",
    "\n",
    "#forecast_data_inter[0,:,:] #forecast\n",
    "\n",
    "disct_temp = disct(N,dt,M)\n",
    "p=forecast_data_inter[0,:M,:]\n",
    "V= forecast_data_inter[1,:M,:] -forecast_data_inter[0,:M,:]\n",
    "\n",
    "this_model=model_beta_flex(disct_temp,V, forecast= p)"
   ]
  },
  {
   "cell_type": "code",
   "execution_count": 4,
   "metadata": {},
   "outputs": [
    {
     "data": {
      "text/plain": [
       "(array([7.11947969, 0.82046865]),\n",
       " b'CONVERGENCE: REL_REDUCTION_OF_F_<=_FACTR*EPSMCH')"
      ]
     },
     "execution_count": 4,
     "metadata": {},
     "output_type": "execute_result"
    }
   ],
   "source": [
    "this_model.optimize(param_initial=np.array(( 12.3,2.2 )))"
   ]
  },
  {
   "cell_type": "code",
   "execution_count": null,
   "metadata": {},
   "outputs": [],
   "source": []
  }
 ],
 "metadata": {
  "kernelspec": {
   "display_name": "Python 3",
   "language": "python",
   "name": "python3"
  },
  "language_info": {
   "codemirror_mode": {
    "name": "ipython",
    "version": 3
   },
   "file_extension": ".py",
   "mimetype": "text/x-python",
   "name": "python",
   "nbconvert_exporter": "python",
   "pygments_lexer": "ipython3",
   "version": "3.7.1"
  }
 },
 "nbformat": 4,
 "nbformat_minor": 2
}
