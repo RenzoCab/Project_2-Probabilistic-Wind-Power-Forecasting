{
 "cells": [
  {
   "cell_type": "code",
   "execution_count": null,
   "metadata": {},
   "outputs": [],
   "source": [
    "import numpy as np\n",
    "import matplotlib.pyplot as plt\n",
    "import matplotlib.cm as cm\n",
    "import scipy.stats\n",
    "from scipy.optimize import minimize\n",
    "from scipy.stats import multivariate_normal\n",
    "from mpl_toolkits.mplot3d import Axes3D\n",
    "import operator\n",
    "from scipy.optimize import minimize\n",
    "from scipy.optimize import basinhopping\n",
    "import math\n",
    "import random"
   ]
  },
  {
   "cell_type": "code",
   "execution_count": null,
   "metadata": {},
   "outputs": [],
   "source": [
    "%matplotlib tk "
   ]
  },
  {
   "cell_type": "code",
   "execution_count": null,
   "metadata": {},
   "outputs": [],
   "source": [
    "\n",
    "def likelihood(param,X):\n",
    "    beta_param_alpha,beta_param_beta = param\n",
    "    L_n=0;\n",
    "    a=0;b=0;\n",
    "    N=len(X)\n",
    "    for i in range(1,N):\n",
    "        L_n = L_n +  (beta_param_alpha-1 )*np.log(  (X[i]+1)/2 ) + (beta_param_beta-1)*np.log(1-( X[i] +1)/2 ) -scipy.special.betaln(beta_param_alpha, beta_param_beta) \n",
    "    return(-1*L_n)\n"
   ]
  },
  {
   "cell_type": "code",
   "execution_count": null,
   "metadata": {},
   "outputs": [],
   "source": [
    "X=np.random.beta(350,121,10000);\n",
    "X = -1 + 2*X"
   ]
  },
  {
   "cell_type": "code",
   "execution_count": null,
   "metadata": {
    "scrolled": true
   },
   "outputs": [],
   "source": [
    "fig1 = plt.figure()\n",
    "ax = plt.axes()\n",
    "ax.plot(X)"
   ]
  },
  {
   "cell_type": "code",
   "execution_count": null,
   "metadata": {
    "scrolled": false
   },
   "outputs": [],
   "source": [
    "fig2 = plt.figure()\n",
    "plt.hist(X,bins=100);"
   ]
  },
  {
   "cell_type": "code",
   "execution_count": null,
   "metadata": {},
   "outputs": [],
   "source": [
    "x_cord = np.linspace(500, 600, 100)\n",
    "y_cord = np.linspace(500, 600, 100)\n",
    "X_cord, Y_cord = np.meshgrid(x_cord, y_cord)\n",
    "Z_cord = likelihood(np.array((X_cord,Y_cord)),X)\n",
    "fig3 = plt.figure()\n",
    "ax = plt.axes(projection='3d')\n",
    "#ax.contour3D(X, Y, Z, 1000, cmap='binary')\n",
    "ax.set_xlabel('x');\n",
    "ax.set_ylabel('y');\n",
    "ax.set_zlabel('z');\n",
    "ax.plot_surface(X_cord, Y_cord, Z_cord, rstride=10, cstride=10,cmap='viridis')"
   ]
  },
  {
   "cell_type": "code",
   "execution_count": null,
   "metadata": {},
   "outputs": [],
   "source": [
    "param_initial=np.array((5,5))\n",
    "#L-BFGS-B\n",
    "bnds = ((0, None), (0, None))\n",
    "myfactr = 1\n",
    "min_param=minimize(likelihood,param_initial,X,bounds=bnds, method='L-BFGS-B', options={ 'ftol' : myfactr * np.finfo(float).eps });min_param\n"
   ]
  },
  {
   "cell_type": "code",
   "execution_count": null,
   "metadata": {},
   "outputs": [],
   "source": [
    "likelihood(np.array((500,500)),X)"
   ]
  },
  {
   "cell_type": "code",
   "execution_count": null,
   "metadata": {},
   "outputs": [],
   "source": [
    "x_cord = np.linspace(1e-5, 600, 100)\n",
    "y_cord = np.linspace(1e-5, 600, 100)\n",
    "X_cord, Y_cord = np.meshgrid(x_cord, y_cord)\n",
    "Z_cord = scipy.special.betaln(X_cord, Y_cord) \n",
    "\n",
    "fig = plt.figure()\n",
    "ax = plt.axes(projection='3d')\n",
    "#ax.contour3D(X, Y, Z, 1000, cmap='binary')\n",
    "ax.set_xlabel('x');\n",
    "ax.set_ylabel('y');\n",
    "ax.set_zlabel('z');\n",
    "ax.plot_surface(X_cord, Y_cord, Z_cord, rstride=5, cstride=5,cmap='viridis')\n",
    "#ax.plot_surface(X_cord, Y_cord, Z_cord_1, rstride=50, cstride=5,cmap='viridis')"
   ]
  },
  {
   "cell_type": "code",
   "execution_count": null,
   "metadata": {},
   "outputs": [],
   "source": [
    "    i = 0;y=-10\n",
    "    max_tries=12\n",
    "    try_count = 0\n",
    "    while i < 50:\n",
    "        try:\n",
    "            np.random.beta(y,y,1)\n",
    "            #yield y\n",
    "        except:\n",
    "            try_count += 1\n",
    "            y=y+1\n",
    "            if try_count > max_tries:\n",
    "                raise Exception(\"Unable to connect after %s tries\" % max_tries)\n",
    "        else:\n",
    "            i += 1 # increments only if no exception "
   ]
  },
  {
   "cell_type": "code",
   "execution_count": null,
   "metadata": {},
   "outputs": [],
   "source": [
    "max(int(2*0.1), 2 )"
   ]
  },
  {
   "cell_type": "code",
   "execution_count": null,
   "metadata": {},
   "outputs": [],
   "source": []
  }
 ],
 "metadata": {
  "kernelspec": {
   "display_name": "Python 3",
   "language": "python",
   "name": "python3"
  },
  "language_info": {
   "codemirror_mode": {
    "name": "ipython",
    "version": 3
   },
   "file_extension": ".py",
   "mimetype": "text/x-python",
   "name": "python",
   "nbconvert_exporter": "python",
   "pygments_lexer": "ipython3",
   "version": "3.7.1"
  }
 },
 "nbformat": 4,
 "nbformat_minor": 2
}
