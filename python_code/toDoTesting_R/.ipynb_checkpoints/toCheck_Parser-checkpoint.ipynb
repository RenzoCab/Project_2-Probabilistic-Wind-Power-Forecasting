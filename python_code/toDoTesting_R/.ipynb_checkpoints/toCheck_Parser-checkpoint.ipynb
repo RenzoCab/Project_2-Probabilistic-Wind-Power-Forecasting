{
 "cells": [
  {
   "cell_type": "code",
   "execution_count": 22,
   "metadata": {},
   "outputs": [],
   "source": [
    "import argparse # https://docs.python.org/3/library/argparse.html"
   ]
  },
  {
   "cell_type": "code",
   "execution_count": 23,
   "metadata": {},
   "outputs": [
    {
     "name": "stdout",
     "output_type": "stream",
     "text": [
      "Loading Configuration...\n"
     ]
    }
   ],
   "source": [
    "parser = argparse.ArgumentParser(description = 'Likelihood Evaluator v1.0')\n",
    "# This line is for loading the location of the configuration file (.JSON file with the configuration):\n",
    "parser.add_argument('-filename', help = ' Config file name or path')\n",
    "# The last configuration that worked is: python fit_model.py -f config/beta_config.JSON.\n",
    "\n",
    "# This line is for creating a version command, i.e., python fit_model.py --version:\n",
    "parser.add_argument('--version', action = 'version', version = 'Likelihood Evaluator v1.0')\n",
    "args = parser.parse_args()\n",
    "print('Loading Configuration...')\n",
    "# We load the filename from args into the variable config_file:\n",
    "config_file = open(args.filename)  # filename = config/beta_config.JSON."
   ]
  },
  {
   "cell_type": "code",
   "execution_count": 24,
   "metadata": {},
   "outputs": [],
   "source": [
    "args.filename = '../config/beta_config.JSON'\n",
    "config_file = open(args.filename)  # filename = config/beta_config.JSON."
   ]
  }
 ],
 "metadata": {
  "kernelspec": {
   "display_name": "Python 3",
   "language": "python",
   "name": "python3"
  },
  "language_info": {
   "codemirror_mode": {
    "name": "ipython",
    "version": 3
   },
   "file_extension": ".py",
   "mimetype": "text/x-python",
   "name": "python",
   "nbconvert_exporter": "python",
   "pygments_lexer": "ipython3",
   "version": "3.7.4"
  }
 },
 "nbformat": 4,
 "nbformat_minor": 2
}
