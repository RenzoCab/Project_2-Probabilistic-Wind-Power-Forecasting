{
 "cells": [
  {
   "cell_type": "code",
   "execution_count": 2,
   "metadata": {},
   "outputs": [],
   "source": [
    "from multi_path_base import *\n",
    "from scipy import interpolate\n",
    "forecast_with_data=np.load('forecast_with_data.npy')"
   ]
  },
  {
   "cell_type": "code",
   "execution_count": 3,
   "metadata": {},
   "outputs": [
    {
     "name": "stdout",
     "output_type": "stream",
     "text": [
      "paths left 1193\n"
     ]
    }
   ],
   "source": [
    "#cleaning data\n",
    "interpolation_points=150\n",
    "forecast_data_inter= np.zeros((3,forecast_with_data.shape[0], interpolation_points ))\n",
    "x = np.arange(1,72+1,1)\n",
    "xnew = np.linspace(0,72,interpolation_points)\n",
    "counter=0\n",
    "i=0;j=0\n",
    "while j< forecast_with_data.shape[0]: #fix redundant indicies\n",
    "    \n",
    "    y1=forecast_with_data[j,:,1]\n",
    "    y2=forecast_with_data[j,:,2]\n",
    "    inter_1=interpolate.interp1d(x, y1, fill_value='extrapolate')\n",
    "    inter_2=interpolate.interp1d(x, y2, fill_value='extrapolate')\n",
    "    p=inter_1(xnew)\n",
    "    d=inter_2(xnew)\n",
    "    \n",
    "    if  sum(1*np.isnan(p))==0 and \\\n",
    "        sum(1*np.isnan(d))==0 and \\\n",
    "        np.max(p)<=1 and \\\n",
    "        np.min(p)>=0 and \\\n",
    "        np.max(d)<=1 and \\\n",
    "        np.min(d)>=0:\n",
    "        \n",
    "        forecast_data_inter[0,i,:]= p\n",
    "        forecast_data_inter[1,i,:]= d\n",
    "        forecast_data_inter[2,i,0]= forecast_with_data[j,0,0]\n",
    "        i+=1\n",
    "    j+=1\n",
    "n_paths=i\n",
    "print('paths left', i)"
   ]
  },
  {
   "cell_type": "code",
   "execution_count": 5,
   "metadata": {},
   "outputs": [],
   "source": [
    "N=forecast_data_inter.shape[2]\n",
    "M=forecast_data_inter.shape[1]\n",
    "#M=100\n",
    "dt=1\n",
    "\n",
    "#forecast_data_inter[0,:,:] #forecast\n",
    "\n",
    "disct_temp = disct(N,dt,M)\n",
    "p=forecast_data_inter[0,:,:]\n",
    "V= forecast_data_inter[1,:,:] -forecast_data_inter[0,:,:]\n",
    "\n",
    "this_model=model_beta_flex(disct_temp,V, forecast= p)\n"
   ]
  },
  {
   "cell_type": "code",
   "execution_count": 6,
   "metadata": {},
   "outputs": [],
   "source": [
    "x = np.linspace(1, 15, 100)\n",
    "y = np.linspace(1, 15, 100)\n",
    "\n",
    "X, Y = np.meshgrid(x, y)"
   ]
  },
  {
   "cell_type": "code",
   "execution_count": null,
   "metadata": {
    "scrolled": true
   },
   "outputs": [
    {
     "name": "stderr",
     "output_type": "stream",
     "text": [
      "/Users/alhaddwt/Waleed Dropbox/Waleed Al-Haddad/GitLab/wind-power/python_code/multi_path_base.py:466: RuntimeWarning: divide by zero encountered in double_scalars\n",
      "  beta_param_alpha= - ( (1+a)*(a**2 +b -1)    )/(2*b)\n",
      "/Users/alhaddwt/Waleed Dropbox/Waleed Al-Haddad/GitLab/wind-power/python_code/multi_path_base.py:467: RuntimeWarning: divide by zero encountered in double_scalars\n",
      "  beta_param_beta= ( (a-1)*(a**2 + b -1)  )  /(2*b)\n"
     ]
    }
   ],
   "source": [
    "x = np.linspace(1, 15, 100)\n",
    "y = np.linspace(1, 15, 100)\n",
    "\n",
    "X, Y = np.meshgrid(x, y)\n",
    "\n",
    "Z=np.zeros((len(y), len(x)))\n",
    "for i in range(0,len(x)):\n",
    "    for j in range(0,len(y)):\n",
    "        Z[j,i] = this_model.likelihood(param=np.array((X[j,i],Y[j,i])))"
   ]
  },
  {
   "cell_type": "code",
   "execution_count": null,
   "metadata": {},
   "outputs": [],
   "source": [
    "contours_1=plt.contourf(X, Y, Z, 10, cmap='RdGy')\n",
    "plt.colorbar();\n",
    "\n",
    "plt.savefig('ISO_lines_2.pdf')"
   ]
  },
  {
   "cell_type": "code",
   "execution_count": 90,
   "metadata": {},
   "outputs": [
    {
     "data": {
      "image/png": "[encoded data removed]",
      "text/plain": [
       "<Figure size 432x288 with 2 Axes>"
      ]
     },
     "metadata": {
      "needs_background": "light"
     },
     "output_type": "display_data"
    }
   ],
   "source": [
    "contours=plt.contourf(X, Y, Z, 100, cmap='RdGy')\n",
    "plt.colorbar();\n",
    "plt.title('Beta Distribution Log-likelihood') #,fontsize=24\n",
    "plt.xlabel('$\\\\theta$')\n",
    "plt.ylabel('$\\\\alpha$')\n",
    "plt.scatter(12.32, 2.16, s=10)\n",
    "plt.savefig('ISO_lines_detailed.pdf')"
   ]
  },
  {
   "cell_type": "code",
   "execution_count": 99,
   "metadata": {},
   "outputs": [
    {
     "data": {
      "image/png": "[encoded data removed]",
      "text/plain": [
       "<Figure size 432x288 with 2 Axes>"
      ]
     },
     "metadata": {
      "needs_background": "light"
     },
     "output_type": "display_data"
    }
   ],
   "source": [
    "contours=plt.contourf(X, Y, Z, 200, cmap='RdGy')\n",
    "plt.colorbar();\n",
    "plt.title('Beta Distribution Log-likelihood') #,fontsize=24\n",
    "plt.xlabel('$\\\\theta$')\n",
    "plt.ylabel('$\\\\alpha$')\n",
    "plt.xlim(10, 15)\n",
    "plt.ylim(1, 3)\n",
    "plt.scatter(12.32, 2.16, s=10)\n",
    "plt.savefig('ISO_lines_detailed_zoom.pdf')"
   ]
  },
  {
   "cell_type": "code",
   "execution_count": null,
   "metadata": {},
   "outputs": [],
   "source": [
    "x1 = np.linspace(8, 20, 15)\n",
    "y1 = np.linspace(1, 5, 15)\n",
    "\n",
    "X1, Y1 = np.meshgrid(x1, y1)\n",
    "\n",
    "Z2=np.zeros((len(y1), len(x1)))\n",
    "for i in range(0,len(x1)):\n",
    "    for j in range(0,len(y1)):\n",
    "        Z2[j,i] = this_model.likelihood(param=np.array((X1[j,i],Y1[j,i])))"
   ]
  },
  {
   "cell_type": "code",
   "execution_count": null,
   "metadata": {},
   "outputs": [],
   "source": [
    "contours_3=plt.contourf(X1, Y1, Z2, 40, cmap='RdGy')\n",
    "plt.colorbar();\n",
    "plt.scatter(12.32, 2.16, s=10)\n",
    "\n",
    "plt.savefig('ISO_lines_zoom_3.pdf')"
   ]
  },
  {
   "cell_type": "code",
   "execution_count": 96,
   "metadata": {},
   "outputs": [
    {
     "data": {
      "text/plain": [
       "(10, 10)"
      ]
     },
     "execution_count": 96,
     "metadata": {},
     "output_type": "execute_result"
    }
   ],
   "source": []
  },
  {
   "cell_type": "code",
   "execution_count": null,
   "metadata": {},
   "outputs": [],
   "source": []
  }
 ],
 "metadata": {
  "kernelspec": {
   "display_name": "Python 3",
   "language": "python",
   "name": "python3"
  },
  "language_info": {
   "codemirror_mode": {
    "name": "ipython",
    "version": 3
   },
   "file_extension": ".py",
   "mimetype": "text/x-python",
   "name": "python",
   "nbconvert_exporter": "python",
   "pygments_lexer": "ipython3",
   "version": "3.7.1"
  }
 },
 "nbformat": 4,
 "nbformat_minor": 2
}
