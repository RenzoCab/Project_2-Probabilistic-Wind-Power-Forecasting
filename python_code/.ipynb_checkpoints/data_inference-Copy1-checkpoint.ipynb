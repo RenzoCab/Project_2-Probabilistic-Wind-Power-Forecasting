{
 "cells": [
  {
   "cell_type": "code",
   "execution_count": 1,
   "metadata": {},
   "outputs": [],
   "source": [
    "from multi_path_base import *\n",
    "from joblib import Parallel, delayed\n",
    "%matplotlib tk "
   ]
  },
  {
   "cell_type": "code",
   "execution_count": 2,
   "metadata": {},
   "outputs": [],
   "source": [
    "forecast_with_data=np.load('forecast_with_data.npy')"
   ]
  },
  {
   "cell_type": "code",
   "execution_count": 60,
   "metadata": {},
   "outputs": [],
   "source": [
    "def optimize(M):    \n",
    "    X=forecast_with_data[2:M,:,2] #first two sample paths are bad\n",
    "\n",
    "    disct_temp = disct(N=X.shape[1],dt=1,M=X.shape[0])\n",
    "\n",
    "    this_model=model_beta_data(disct_temp,X, forecast=forecast_with_data[2:M,:,1] )\n",
    "    a1,a2=this_model.optimize()\n",
    "        \n",
    "    \n",
    "    return(M, a1, a2)"
   ]
  },
  {
   "cell_type": "code",
   "execution_count": 66,
   "metadata": {},
   "outputs": [
    {
     "name": "stdout",
     "output_type": "stream",
     "text": [
      "[Parallel(n_jobs=9)]: Using backend LokyBackend with 9 concurrent workers.\n",
      "[Parallel(n_jobs=9)]: Done   1 tasks      | elapsed:   10.9s\n",
      "[Parallel(n_jobs=9)]: Done   2 out of   9 | elapsed:   11.3s remaining:   39.7s\n",
      "[Parallel(n_jobs=9)]: Done   3 out of   9 | elapsed:   11.3s remaining:   22.7s\n",
      "[Parallel(n_jobs=9)]: Done   4 out of   9 | elapsed:   11.6s remaining:   14.5s\n",
      "[Parallel(n_jobs=9)]: Done   5 out of   9 | elapsed:   11.8s remaining:    9.4s\n",
      "[Parallel(n_jobs=9)]: Done   6 out of   9 | elapsed:   18.3s remaining:    9.1s\n",
      "[Parallel(n_jobs=9)]: Done   7 out of   9 | elapsed:  1.1min remaining:   19.1s\n",
      "[Parallel(n_jobs=9)]: Done   9 out of   9 | elapsed:  2.9min remaining:    0.0s\n",
      "[Parallel(n_jobs=9)]: Done   9 out of   9 | elapsed:  2.9min finished\n"
     ]
    },
    {
     "data": {
      "text/plain": [
       "[(200,\n",
       "  array([0.45203881, 0.32303344]),\n",
       "  b'CONVERGENCE: REL_REDUCTION_OF_F_<=_FACTR*EPSMCH'),\n",
       " (200,\n",
       "  array([0.02462129, 0.5739058 ]),\n",
       "  b'CONVERGENCE: REL_REDUCTION_OF_F_<=_FACTR*EPSMCH'),\n",
       " (200,\n",
       "  array([0.83829224, 0.9253342 ]),\n",
       "  b'CONVERGENCE: REL_REDUCTION_OF_F_<=_FACTR*EPSMCH'),\n",
       " (200,\n",
       "  array([0.26215303, 0.96580552]),\n",
       "  b'CONVERGENCE: REL_REDUCTION_OF_F_<=_FACTR*EPSMCH'),\n",
       " (200,\n",
       "  array([0.69349139, 0.58293229]),\n",
       "  b'CONVERGENCE: REL_REDUCTION_OF_F_<=_FACTR*EPSMCH'),\n",
       " (200, array([0.87385934, 0.85206102]), b'ABNORMAL_TERMINATION_IN_LNSRCH'),\n",
       " (200,\n",
       "  array([0.36249145, 0.27192983]),\n",
       "  b'CONVERGENCE: REL_REDUCTION_OF_F_<=_FACTR*EPSMCH'),\n",
       " (200, array([0.05110277, 0.7916913 ]), b'ABNORMAL_TERMINATION_IN_LNSRCH'),\n",
       " (200,\n",
       "  array([0.97089808, 0.89776706]),\n",
       "  b'CONVERGENCE: REL_REDUCTION_OF_F_<=_FACTR*EPSMCH')]"
      ]
     },
     "execution_count": 66,
     "metadata": {},
     "output_type": "execute_result"
    }
   ],
   "source": [
    "#M_test=[100,200,300,400,500,600,700,800,900,1265]\n",
    "M_test=[200,200,200,200,200,200,200,200,200]\n",
    "cores= min(20,len(M_test))\n",
    "out=Parallel(n_jobs=cores, verbose=50)(delayed(optimize)(i) for i in M_test);out"
   ]
  },
  {
   "cell_type": "code",
   "execution_count": null,
   "metadata": {},
   "outputs": [],
   "source": []
  },
  {
   "cell_type": "code",
   "execution_count": 116,
   "metadata": {},
   "outputs": [
    {
     "name": "stdout",
     "output_type": "stream",
     "text": [
      "2 [0.69484466 0.1792574 ] b'CONVERGENCE: NORM_OF_PROJECTED_GRADIENT_<=_PGTOL'\n",
      "4 [0.69433931 1.17992527] b'ABNORMAL_TERMINATION_IN_LNSRCH'\n",
      "6 [0.677286   1.16313671] b'CONVERGENCE: REL_REDUCTION_OF_F_<=_FACTR*EPSMCH'\n",
      "8 [0.68133194 0.31632161] b'CONVERGENCE: REL_REDUCTION_OF_F_<=_FACTR*EPSMCH'\n",
      "10 [0.69488348 0.19004144] b'CONVERGENCE: REL_REDUCTION_OF_F_<=_FACTR*EPSMCH'\n",
      "12 [1.e-05 1.e-05] b'CONVERGENCE: NORM_OF_PROJECTED_GRADIENT_<=_PGTOL'\n",
      "14 [0.69102906 0.18653384] b'CONVERGENCE: REL_REDUCTION_OF_F_<=_FACTR*EPSMCH'\n",
      "16 [0.69485342 0.1800443 ] b'ABNORMAL_TERMINATION_IN_LNSRCH'\n",
      "18 [0.691847  0.1892163] b'ABNORMAL_TERMINATION_IN_LNSRCH'\n",
      "20 [0.68769057 0.18808265] b'ABNORMAL_TERMINATION_IN_LNSRCH'\n",
      "22 [0.69414789 0.19049732] b'ABNORMAL_TERMINATION_IN_LNSRCH'\n",
      "24 [0.69505442 0.18896891] b'CONVERGENCE: REL_REDUCTION_OF_F_<=_FACTR*EPSMCH'\n",
      "26 [0.69540994 0.18987715] b'CONVERGENCE: REL_REDUCTION_OF_F_<=_FACTR*EPSMCH'\n",
      "28 [0.69484466 0.19002378] b'ABNORMAL_TERMINATION_IN_LNSRCH'\n",
      "30 [0.69484466 0.18904162] b'CONVERGENCE: REL_REDUCTION_OF_F_<=_FACTR*EPSMCH'\n",
      "32 [0.69050937 0.1888531 ] b'CONVERGENCE: REL_REDUCTION_OF_F_<=_FACTR*EPSMCH'\n",
      "34 [0.69484466 0.18950691] b'CONVERGENCE: REL_REDUCTION_OF_F_<=_FACTR*EPSMCH'\n",
      "36 [0.69484462 0.18504934] b'CONVERGENCE: REL_REDUCTION_OF_F_<=_FACTR*EPSMCH'\n",
      "38 [0.69484465 0.18926062] b'CONVERGENCE: REL_REDUCTION_OF_F_<=_FACTR*EPSMCH'\n",
      "40 [0.69475603 0.17944419] b'CONVERGENCE: REL_REDUCTION_OF_F_<=_FACTR*EPSMCH'\n",
      "42 [0.69469617 0.17954585] b'ABNORMAL_TERMINATION_IN_LNSRCH'\n",
      "44 [0.69484466 0.18982242] b'ABNORMAL_TERMINATION_IN_LNSRCH'\n",
      "46 [0.69513334 0.18969315] b'CONVERGENCE: REL_REDUCTION_OF_F_<=_FACTR*EPSMCH'\n",
      "48 [0.69484496 0.1794409 ] b'CONVERGENCE: REL_REDUCTION_OF_F_<=_FACTR*EPSMCH'\n",
      "50 [0.69484456 0.18817586] b'CONVERGENCE: REL_REDUCTION_OF_F_<=_FACTR*EPSMCH'\n",
      "52 [0.69484466 0.17992916] b'CONVERGENCE: REL_REDUCTION_OF_F_<=_FACTR*EPSMCH'\n",
      "54 [0.69439739 0.184423  ] b'CONVERGENCE: REL_REDUCTION_OF_F_<=_FACTR*EPSMCH'\n",
      "56 [0.69481551 0.18003163] b'ABNORMAL_TERMINATION_IN_LNSRCH'\n",
      "58 [0.69484466 0.19065284] b'ABNORMAL_TERMINATION_IN_LNSRCH'\n",
      "60 [0.69484466 0.19060843] b'ABNORMAL_TERMINATION_IN_LNSRCH'\n",
      "62 [0.69488389 0.17941357] b'CONVERGENCE: REL_REDUCTION_OF_F_<=_FACTR*EPSMCH'\n",
      "64 [0.89533514 0.00591371] b'ABNORMAL_TERMINATION_IN_LNSRCH'\n",
      "66 [0.69472551 0.19063415] b'ABNORMAL_TERMINATION_IN_LNSRCH'\n",
      "68 [0.69484466 0.19275926] b'ABNORMAL_TERMINATION_IN_LNSRCH'\n",
      "70 [0.69605045 0.1903488 ] b'CONVERGENCE: REL_REDUCTION_OF_F_<=_FACTR*EPSMCH'\n",
      "72 [0.69484466 0.22450286] b'ABNORMAL_TERMINATION_IN_LNSRCH'\n",
      "74 [0.69667195 0.19340315] b'ABNORMAL_TERMINATION_IN_LNSRCH'\n",
      "76 [0.6948777  0.18732742] b'CONVERGENCE: REL_REDUCTION_OF_F_<=_FACTR*EPSMCH'\n",
      "78 [0.69382218 0.18946614] b'CONVERGENCE: REL_REDUCTION_OF_F_<=_FACTR*EPSMCH'\n",
      "80 [0.69484466 0.25399015] b'CONVERGENCE: REL_REDUCTION_OF_F_<=_FACTR*EPSMCH'\n",
      "82 [0.69484466 0.18987022] b'ABNORMAL_TERMINATION_IN_LNSRCH'\n",
      "84 [0.69484466 0.17988747] b'CONVERGENCE: REL_REDUCTION_OF_F_<=_FACTR*EPSMCH'\n",
      "86 [0.69484455 0.1874302 ] b'CONVERGENCE: REL_REDUCTION_OF_F_<=_FACTR*EPSMCH'\n",
      "88 [0.69235547 0.18934451] b'CONVERGENCE: REL_REDUCTION_OF_F_<=_FACTR*EPSMCH'\n",
      "90 [0.69484399 0.18631409] b'CONVERGENCE: REL_REDUCTION_OF_F_<=_FACTR*EPSMCH'\n",
      "92 [0.69484466 0.33002521] b'CONVERGENCE: REL_REDUCTION_OF_F_<=_FACTR*EPSMCH'\n",
      "94 [0.69484466 0.37780273] b'ABNORMAL_TERMINATION_IN_LNSRCH'\n",
      "96 [0.69483213 0.19002211] b'CONVERGENCE: REL_REDUCTION_OF_F_<=_FACTR*EPSMCH'\n",
      "98 [0.69465246 0.18832457] b'CONVERGENCE: REL_REDUCTION_OF_F_<=_FACTR*EPSMCH'\n"
     ]
    }
   ],
   "source": [
    "\n",
    "M_test=np.arange(2,100,2) #,500,10000\n",
    "\n",
    "#models_M=[]\n",
    "results=np.empty( (3,len(M_test)), dtype=object)\n",
    "\n",
    "for j in range(0,len(M_test)):\n",
    "\n",
    "    X=forecast_with_data[2:M_test[j],:,2] #first two sample paths are bad\n",
    "\n",
    "    disct_temp = disct(N=X.shape[1],dt=1,M=X.shape[0])\n",
    "\n",
    "    this_model=model_beta_data(disct_temp,X, forecast=forecast_with_data[2:M_test[j],:,1] )\n",
    "    optimimuim, message=this_model.optimize()\n",
    "    print(M_test[j],optimimuim, message)\n",
    "    results[0,j]=M_test[j]\n",
    "    results[1,j]=optimimuim\n",
    "    results[2,j]= message\n",
    "    del this_model\n",
    "    "
   ]
  },
  {
   "cell_type": "code",
   "execution_count": 117,
   "metadata": {},
   "outputs": [
    {
     "name": "stdout",
     "output_type": "stream",
     "text": [
      "2 [0.69484466 0.1792574 ] b'CONVERGENCE: NORM_OF_PROJECTED_GRADIENT_<=_PGTOL'\n",
      "52 [0.69484466 0.17992916] b'CONVERGENCE: REL_REDUCTION_OF_F_<=_FACTR*EPSMCH'\n",
      "102 [0.69484466 0.1792574 ] b'CONVERGENCE: REL_REDUCTION_OF_F_<=_FACTR*EPSMCH'\n",
      "152 [0.69484466 0.1792574 ] b'CONVERGENCE: REL_REDUCTION_OF_F_<=_FACTR*EPSMCH'\n",
      "202 [0.6608258  0.32233695] b'CONVERGENCE: REL_REDUCTION_OF_F_<=_FACTR*EPSMCH'\n",
      "252 [0.69703027 0.18656581] b'CONVERGENCE: REL_REDUCTION_OF_F_<=_FACTR*EPSMCH'\n",
      "302 [0.82820225 0.1792574 ] b'ABNORMAL_TERMINATION_IN_LNSRCH'\n",
      "352 [0.69484466 0.1792574 ] b'CONVERGENCE: REL_REDUCTION_OF_F_<=_FACTR*EPSMCH'\n",
      "402 [0.69484466 0.1792574 ] b'CONVERGENCE: REL_REDUCTION_OF_F_<=_FACTR*EPSMCH'\n",
      "452 [0.69484466 0.1792574 ] b'CONVERGENCE: REL_REDUCTION_OF_F_<=_FACTR*EPSMCH'\n",
      "502 [0.69484466 0.1792574 ] b'CONVERGENCE: REL_REDUCTION_OF_F_<=_FACTR*EPSMCH'\n",
      "552 [0.69484466 0.1792574 ] b'CONVERGENCE: REL_REDUCTION_OF_F_<=_FACTR*EPSMCH'\n",
      "602 [0.69484466 0.1792574 ] b'CONVERGENCE: REL_REDUCTION_OF_F_<=_FACTR*EPSMCH'\n",
      "652 [0.69484466 0.1792574 ] b'CONVERGENCE: REL_REDUCTION_OF_F_<=_FACTR*EPSMCH'\n",
      "702 [0.69484466 0.1792574 ] b'CONVERGENCE: REL_REDUCTION_OF_F_<=_FACTR*EPSMCH'\n",
      "752 [0.69484466 0.1792574 ] b'CONVERGENCE: REL_REDUCTION_OF_F_<=_FACTR*EPSMCH'\n",
      "802 [0.69484466 0.1792574 ] b'ABNORMAL_TERMINATION_IN_LNSRCH'\n",
      "852 [0.69484466 0.1792574 ] b'ABNORMAL_TERMINATION_IN_LNSRCH'\n",
      "902 [0.69484466 0.1792574 ] b'ABNORMAL_TERMINATION_IN_LNSRCH'\n",
      "952 [0.69484466 0.1792574 ] b'ABNORMAL_TERMINATION_IN_LNSRCH'\n",
      "1002 [0.69484466 0.1792574 ] b'ABNORMAL_TERMINATION_IN_LNSRCH'\n",
      "1052 [0.69484466 0.1792574 ] b'ABNORMAL_TERMINATION_IN_LNSRCH'\n",
      "1102 [0.69484466 0.1792574 ] b'ABNORMAL_TERMINATION_IN_LNSRCH'\n",
      "1152 [0.69484466 0.1792574 ] b'ABNORMAL_TERMINATION_IN_LNSRCH'\n",
      "1202 [0.69484466 0.1792574 ] b'ABNORMAL_TERMINATION_IN_LNSRCH'\n",
      "1252 [0.69484466 0.1792574 ] b'ABNORMAL_TERMINATION_IN_LNSRCH'\n"
     ]
    }
   ],
   "source": [
    "M_test=np.arange(2,1265,50) #,500,10000\n",
    "\n",
    "#models_M=[]\n",
    "results_2=np.empty( (3,len(M_test)), dtype=object)\n",
    "\n",
    "for j in range(0,len(M_test)):\n",
    "\n",
    "    X=forecast_with_data[2:M_test[j],:,2] #first two sample paths are bad\n",
    "\n",
    "    disct_temp = disct(N=X.shape[1],dt=1,M=X.shape[0])\n",
    "\n",
    "    this_model=model_beta_data(disct_temp,X, forecast=forecast_with_data[2:M_test[j],:,1] )\n",
    "    optimimuim, message=this_model.optimize()\n",
    "    print(M_test[j],optimimuim, message)\n",
    "    results_2[0,j]=M_test[j]\n",
    "    results_2[1,j]=optimimuim\n",
    "    results_2[2,j]= message\n",
    "    del this_model\n",
    "    "
   ]
  },
  {
   "cell_type": "code",
   "execution_count": 119,
   "metadata": {},
   "outputs": [
    {
     "data": {
      "text/plain": [
       "array([[2, 4, 6, 8, 10, 12, 14, 16, 18, 20, 22, 24, 26, 28, 30, 32, 34,\n",
       "        36, 38, 40, 42, 44, 46, 48, 50, 52, 54, 56, 58, 60, 62, 64, 66,\n",
       "        68, 70, 72, 74, 76, 78, 80, 82, 84, 86, 88, 90, 92, 94, 96, 98],\n",
       "       [array([0.69484466, 0.1792574 ]), array([0.69433931, 1.17992527]),\n",
       "        array([0.677286  , 1.16313671]), array([0.68133194, 0.31632161]),\n",
       "        array([0.69488348, 0.19004144]), array([1.e-05, 1.e-05]),\n",
       "        array([0.69102906, 0.18653384]), array([0.69485342, 0.1800443 ]),\n",
       "        array([0.691847 , 0.1892163]), array([0.68769057, 0.18808265]),\n",
       "        array([0.69414789, 0.19049732]), array([0.69505442, 0.18896891]),\n",
       "        array([0.69540994, 0.18987715]), array([0.69484466, 0.19002378]),\n",
       "        array([0.69484466, 0.18904162]), array([0.69050937, 0.1888531 ]),\n",
       "        array([0.69484466, 0.18950691]), array([0.69484462, 0.18504934]),\n",
       "        array([0.69484465, 0.18926062]), array([0.69475603, 0.17944419]),\n",
       "        array([0.69469617, 0.17954585]), array([0.69484466, 0.18982242]),\n",
       "        array([0.69513334, 0.18969315]), array([0.69484496, 0.1794409 ]),\n",
       "        array([0.69484456, 0.18817586]), array([0.69484466, 0.17992916]),\n",
       "        array([0.69439739, 0.184423  ]), array([0.69481551, 0.18003163]),\n",
       "        array([0.69484466, 0.19065284]), array([0.69484466, 0.19060843]),\n",
       "        array([0.69488389, 0.17941357]), array([0.89533514, 0.00591371]),\n",
       "        array([0.69472551, 0.19063415]), array([0.69484466, 0.19275926]),\n",
       "        array([0.69605045, 0.1903488 ]), array([0.69484466, 0.22450286]),\n",
       "        array([0.69667195, 0.19340315]), array([0.6948777 , 0.18732742]),\n",
       "        array([0.69382218, 0.18946614]), array([0.69484466, 0.25399015]),\n",
       "        array([0.69484466, 0.18987022]), array([0.69484466, 0.17988747]),\n",
       "        array([0.69484455, 0.1874302 ]), array([0.69235547, 0.18934451]),\n",
       "        array([0.69484399, 0.18631409]), array([0.69484466, 0.33002521]),\n",
       "        array([0.69484466, 0.37780273]), array([0.69483213, 0.19002211]),\n",
       "        array([0.69465246, 0.18832457])],\n",
       "       [b'CONVERGENCE: NORM_OF_PROJECTED_GRADIENT_<=_PGTOL',\n",
       "        b'ABNORMAL_TERMINATION_IN_LNSRCH',\n",
       "        b'CONVERGENCE: REL_REDUCTION_OF_F_<=_FACTR*EPSMCH',\n",
       "        b'CONVERGENCE: REL_REDUCTION_OF_F_<=_FACTR*EPSMCH',\n",
       "        b'CONVERGENCE: REL_REDUCTION_OF_F_<=_FACTR*EPSMCH',\n",
       "        b'CONVERGENCE: NORM_OF_PROJECTED_GRADIENT_<=_PGTOL',\n",
       "        b'CONVERGENCE: REL_REDUCTION_OF_F_<=_FACTR*EPSMCH',\n",
       "        b'ABNORMAL_TERMINATION_IN_LNSRCH',\n",
       "        b'ABNORMAL_TERMINATION_IN_LNSRCH',\n",
       "        b'ABNORMAL_TERMINATION_IN_LNSRCH',\n",
       "        b'ABNORMAL_TERMINATION_IN_LNSRCH',\n",
       "        b'CONVERGENCE: REL_REDUCTION_OF_F_<=_FACTR*EPSMCH',\n",
       "        b'CONVERGENCE: REL_REDUCTION_OF_F_<=_FACTR*EPSMCH',\n",
       "        b'ABNORMAL_TERMINATION_IN_LNSRCH',\n",
       "        b'CONVERGENCE: REL_REDUCTION_OF_F_<=_FACTR*EPSMCH',\n",
       "        b'CONVERGENCE: REL_REDUCTION_OF_F_<=_FACTR*EPSMCH',\n",
       "        b'CONVERGENCE: REL_REDUCTION_OF_F_<=_FACTR*EPSMCH',\n",
       "        b'CONVERGENCE: REL_REDUCTION_OF_F_<=_FACTR*EPSMCH',\n",
       "        b'CONVERGENCE: REL_REDUCTION_OF_F_<=_FACTR*EPSMCH',\n",
       "        b'CONVERGENCE: REL_REDUCTION_OF_F_<=_FACTR*EPSMCH',\n",
       "        b'ABNORMAL_TERMINATION_IN_LNSRCH',\n",
       "        b'ABNORMAL_TERMINATION_IN_LNSRCH',\n",
       "        b'CONVERGENCE: REL_REDUCTION_OF_F_<=_FACTR*EPSMCH',\n",
       "        b'CONVERGENCE: REL_REDUCTION_OF_F_<=_FACTR*EPSMCH',\n",
       "        b'CONVERGENCE: REL_REDUCTION_OF_F_<=_FACTR*EPSMCH',\n",
       "        b'CONVERGENCE: REL_REDUCTION_OF_F_<=_FACTR*EPSMCH',\n",
       "        b'CONVERGENCE: REL_REDUCTION_OF_F_<=_FACTR*EPSMCH',\n",
       "        b'ABNORMAL_TERMINATION_IN_LNSRCH',\n",
       "        b'ABNORMAL_TERMINATION_IN_LNSRCH',\n",
       "        b'ABNORMAL_TERMINATION_IN_LNSRCH',\n",
       "        b'CONVERGENCE: REL_REDUCTION_OF_F_<=_FACTR*EPSMCH',\n",
       "        b'ABNORMAL_TERMINATION_IN_LNSRCH',\n",
       "        b'ABNORMAL_TERMINATION_IN_LNSRCH',\n",
       "        b'ABNORMAL_TERMINATION_IN_LNSRCH',\n",
       "        b'CONVERGENCE: REL_REDUCTION_OF_F_<=_FACTR*EPSMCH',\n",
       "        b'ABNORMAL_TERMINATION_IN_LNSRCH',\n",
       "        b'ABNORMAL_TERMINATION_IN_LNSRCH',\n",
       "        b'CONVERGENCE: REL_REDUCTION_OF_F_<=_FACTR*EPSMCH',\n",
       "        b'CONVERGENCE: REL_REDUCTION_OF_F_<=_FACTR*EPSMCH',\n",
       "        b'CONVERGENCE: REL_REDUCTION_OF_F_<=_FACTR*EPSMCH',\n",
       "        b'ABNORMAL_TERMINATION_IN_LNSRCH',\n",
       "        b'CONVERGENCE: REL_REDUCTION_OF_F_<=_FACTR*EPSMCH',\n",
       "        b'CONVERGENCE: REL_REDUCTION_OF_F_<=_FACTR*EPSMCH',\n",
       "        b'CONVERGENCE: REL_REDUCTION_OF_F_<=_FACTR*EPSMCH',\n",
       "        b'CONVERGENCE: REL_REDUCTION_OF_F_<=_FACTR*EPSMCH',\n",
       "        b'CONVERGENCE: REL_REDUCTION_OF_F_<=_FACTR*EPSMCH',\n",
       "        b'ABNORMAL_TERMINATION_IN_LNSRCH',\n",
       "        b'CONVERGENCE: REL_REDUCTION_OF_F_<=_FACTR*EPSMCH',\n",
       "        b'CONVERGENCE: REL_REDUCTION_OF_F_<=_FACTR*EPSMCH']], dtype=object)"
      ]
     },
     "execution_count": 119,
     "metadata": {},
     "output_type": "execute_result"
    }
   ],
   "source": [
    "results"
   ]
  },
  {
   "cell_type": "code",
   "execution_count": 131,
   "metadata": {},
   "outputs": [],
   "source": [
    "sucess_indicies_2=np.where(results_2[2,:]== b'CONVERGENCE: REL_REDUCTION_OF_F_<=_FACTR*EPSMCH')\n",
    "sucess_indicies=np.where(results[2,:]== b'CONVERGENCE: REL_REDUCTION_OF_F_<=_FACTR*EPSMCH')"
   ]
  },
  {
   "cell_type": "code",
   "execution_count": 134,
   "metadata": {},
   "outputs": [
    {
     "name": "stderr",
     "output_type": "stream",
     "text": [
      "/home/alhaddwt/anaconda3/lib/python3.7/site-packages/ipykernel_launcher.py:1: FutureWarning: elementwise comparison failed; returning scalar instead, but in the future will perform elementwise comparison\n",
      "  \"\"\"Entry point for launching an IPython kernel.\n",
      "/home/alhaddwt/anaconda3/lib/python3.7/site-packages/ipykernel_launcher.py:2: FutureWarning: elementwise comparison failed; returning scalar instead, but in the future will perform elementwise comparison\n",
      "  \n"
     ]
    }
   ],
   "source": []
  },
  {
   "cell_type": "code",
   "execution_count": 133,
   "metadata": {},
   "outputs": [
    {
     "data": {
      "text/plain": [
       "(array([ 2,  3,  4,  6, 11, 12, 14, 15, 16, 17, 18, 19, 22, 23, 24, 25, 26,\n",
       "        30, 34, 37, 38, 39, 41, 42, 43, 44, 45, 47, 48]),)"
      ]
     },
     "execution_count": 133,
     "metadata": {},
     "output_type": "execute_result"
    }
   ],
   "source": [
    "sucess_indicies"
   ]
  },
  {
   "cell_type": "code",
   "execution_count": 138,
   "metadata": {},
   "outputs": [
    {
     "data": {
      "text/plain": [
       "array([[array([0.677286  , 1.16313671]), array([0.677286  , 1.16313671]),\n",
       "        array([0.677286  , 1.16313671]), array([0.677286  , 1.16313671]),\n",
       "        array([0.677286  , 1.16313671]), array([0.677286  , 1.16313671]),\n",
       "        array([0.677286  , 1.16313671]), array([0.677286  , 1.16313671]),\n",
       "        array([0.677286  , 1.16313671]), array([0.677286  , 1.16313671]),\n",
       "        array([0.677286  , 1.16313671]), array([0.677286  , 1.16313671]),\n",
       "        array([0.677286  , 1.16313671]), array([0.677286  , 1.16313671]),\n",
       "        array([0.677286  , 1.16313671]), array([0.677286  , 1.16313671]),\n",
       "        array([0.677286  , 1.16313671]), array([0.677286  , 1.16313671]),\n",
       "        array([0.677286  , 1.16313671]), array([0.677286  , 1.16313671]),\n",
       "        array([0.677286  , 1.16313671]), array([0.677286  , 1.16313671]),\n",
       "        array([0.677286  , 1.16313671]), array([0.677286  , 1.16313671]),\n",
       "        array([0.677286  , 1.16313671]), array([0.677286  , 1.16313671]),\n",
       "        array([0.677286  , 1.16313671]), array([0.677286  , 1.16313671]),\n",
       "        array([0.677286  , 1.16313671])],\n",
       "       [array([0.677286  , 1.16313671]), array([0.68133194, 0.31632161]),\n",
       "        array([0.69488348, 0.19004144]), array([0.69102906, 0.18653384]),\n",
       "        array([0.69505442, 0.18896891]), array([0.69540994, 0.18987715]),\n",
       "        array([0.69484466, 0.18904162]), array([0.69050937, 0.1888531 ]),\n",
       "        array([0.69484466, 0.18950691]), array([0.69484462, 0.18504934]),\n",
       "        array([0.69484465, 0.18926062]), array([0.69475603, 0.17944419]),\n",
       "        array([0.69513334, 0.18969315]), array([0.69484496, 0.1794409 ]),\n",
       "        array([0.69484456, 0.18817586]), array([0.69484466, 0.17992916]),\n",
       "        array([0.69439739, 0.184423  ]), array([0.69488389, 0.17941357]),\n",
       "        array([0.69605045, 0.1903488 ]), array([0.6948777 , 0.18732742]),\n",
       "        array([0.69382218, 0.18946614]), array([0.69484466, 0.25399015]),\n",
       "        array([0.69484466, 0.17988747]), array([0.69484455, 0.1874302 ]),\n",
       "        array([0.69235547, 0.18934451]), array([0.69484399, 0.18631409]),\n",
       "        array([0.69484466, 0.33002521]), array([0.69483213, 0.19002211]),\n",
       "        array([0.69465246, 0.18832457])]], dtype=object)"
      ]
     },
     "execution_count": 138,
     "metadata": {},
     "output_type": "execute_result"
    }
   ],
   "source": [
    "results[1,sucess_indicies]"
   ]
  },
  {
   "cell_type": "code",
   "execution_count": 155,
   "metadata": {},
   "outputs": [],
   "source": [
    "res2=results_2[1,sucess_indicies_2].reshape((28))"
   ]
  },
  {
   "cell_type": "code",
   "execution_count": 196,
   "metadata": {},
   "outputs": [],
   "source": [
    "sucess_indicies_2[0][:]=1"
   ]
  },
  {
   "cell_type": "code",
   "execution_count": 211,
   "metadata": {},
   "outputs": [
    {
     "data": {
      "text/plain": [
       "(array([1, 1, 1, 1, 1, 1, 1, 1, 1, 1, 1, 1, 1, 1]),\n",
       " array([ 1,  2,  3,  4,  5,  7,  8,  9, 10, 11, 12, 13, 14, 15]))"
      ]
     },
     "execution_count": 211,
     "metadata": {},
     "output_type": "execute_result"
    }
   ],
   "source": [
    "sucess_indicies_2"
   ]
  },
  {
   "cell_type": "code",
   "execution_count": 209,
   "metadata": {},
   "outputs": [
    {
     "data": {
      "text/plain": [
       "array([-0.36406696, -1.71519207])"
      ]
     },
     "execution_count": 209,
     "metadata": {},
     "output_type": "execute_result"
    }
   ],
   "source": [
    "sucess_indicies_2[0][:]=1\n",
    "for i in range(0, )\n",
    "    np.log(results_2[sucess_indicies_2][0])"
   ]
  },
  {
   "cell_type": "code",
   "execution_count": 146,
   "metadata": {},
   "outputs": [
    {
     "ename": "AttributeError",
     "evalue": "'numpy.ndarray' object has no attribute 'log'",
     "output_type": "error",
     "traceback": [
      "\u001b[0;31m---------------------------------------------------------------------------\u001b[0m",
      "\u001b[0;31mAttributeError\u001b[0m                            Traceback (most recent call last)",
      "\u001b[0;32m<ipython-input-146-ed091db4e503>\u001b[0m in \u001b[0;36m<module>\u001b[0;34m\u001b[0m\n\u001b[0;32m----> 1\u001b[0;31m \u001b[0mnp\u001b[0m\u001b[0;34m.\u001b[0m\u001b[0mlog\u001b[0m\u001b[0;34m(\u001b[0m\u001b[0mresults_2\u001b[0m\u001b[0;34m[\u001b[0m\u001b[0;36m1\u001b[0m\u001b[0;34m,\u001b[0m\u001b[0msucess_indicies_2\u001b[0m\u001b[0;34m]\u001b[0m\u001b[0;34m[\u001b[0m\u001b[0;34m:\u001b[0m\u001b[0;34m]\u001b[0m\u001b[0;34m)\u001b[0m\u001b[0;34m\u001b[0m\u001b[0;34m\u001b[0m\u001b[0m\n\u001b[0m",
      "\u001b[0;31mAttributeError\u001b[0m: 'numpy.ndarray' object has no attribute 'log'"
     ]
    }
   ],
   "source": [
    "np.log(results_2[1,sucess_indicies_2][:])"
   ]
  },
  {
   "cell_type": "code",
   "execution_count": 67,
   "metadata": {},
   "outputs": [
    {
     "data": {
      "text/plain": [
       "(array([0.6866388 , 0.17792916]),\n",
       " b'CONVERGENCE: REL_REDUCTION_OF_F_<=_FACTR*EPSMCH')"
      ]
     },
     "execution_count": 67,
     "metadata": {},
     "output_type": "execute_result"
    }
   ],
   "source": [
    "M=200\n",
    "\n",
    "\n",
    "X=forecast_with_data[2:M,:,2] #first two sample paths are bad\n",
    "\n",
    "disct_temp = disct(N=X.shape[1],dt=1,M=X.shape[0])\n",
    "        \n",
    "this_model=model_beta_data(disct_temp,X, forecast=forecast_with_data[2:M,:,1] )\n",
    "this_model.optimize()\n"
   ]
  },
  {
   "cell_type": "code",
   "execution_count": 13,
   "metadata": {},
   "outputs": [],
   "source": [
    "M=100\n",
    "\n",
    "\n",
    "X=forecast_with_data[2:M,:,2] #first two sample paths are corrupt\n",
    "\n",
    "disct_temp = disct(N=X.shape[1],dt=1,M=X.shape[0])\n",
    "        \n",
    "this_model=model_beta_data(disct_temp,X, forecast=forecast_with_data[2:M,:,1] )\n",
    "a1,a2=this_model.optimize()\n"
   ]
  },
  {
   "cell_type": "code",
   "execution_count": 16,
   "metadata": {},
   "outputs": [
    {
     "data": {
      "text/plain": [
       "array([0.69484466, 0.22375551])"
      ]
     },
     "execution_count": 16,
     "metadata": {},
     "output_type": "execute_result"
    }
   ],
   "source": []
  },
  {
   "cell_type": "code",
   "execution_count": 17,
   "metadata": {},
   "outputs": [
    {
     "data": {
      "text/plain": [
       "b'ABNORMAL_TERMINATION_IN_LNSRCH'"
      ]
     },
     "execution_count": 17,
     "metadata": {},
     "output_type": "execute_result"
    }
   ],
   "source": []
  },
  {
   "cell_type": "code",
   "execution_count": 12,
   "metadata": {},
   "outputs": [
    {
     "data": {
      "text/plain": [
       "(array([0.69484466, 0.22375551]), b'ABNORMAL_TERMINATION_IN_LNSRCH')"
      ]
     },
     "execution_count": 12,
     "metadata": {},
     "output_type": "execute_result"
    }
   ],
   "source": []
  },
  {
   "cell_type": "code",
   "execution_count": null,
   "metadata": {},
   "outputs": [],
   "source": []
  }
 ],
 "metadata": {
  "kernelspec": {
   "display_name": "Python 3",
   "language": "python",
   "name": "python3"
  },
  "language_info": {
   "codemirror_mode": {
    "name": "ipython",
    "version": 3
   },
   "file_extension": ".py",
   "mimetype": "text/x-python",
   "name": "python",
   "nbconvert_exporter": "python",
   "pygments_lexer": "ipython3",
   "version": "3.7.1"
  }
 },
 "nbformat": 4,
 "nbformat_minor": 2
}
