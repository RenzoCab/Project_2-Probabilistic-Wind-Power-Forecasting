{
 "cells": [
  {
   "cell_type": "code",
   "execution_count": 1,
   "metadata": {},
   "outputs": [],
   "source": [
    "from multi_path_base import *\n",
    "from scipy import interpolate\n",
    "forecast_with_data=np.load('forecast_with_data.npy')"
   ]
  },
  {
   "cell_type": "code",
   "execution_count": 2,
   "metadata": {},
   "outputs": [],
   "source": [
    "interp_points=1\n",
    "forecast_data_inter= np.zeros((2,1217, interp_points*72 ))\n",
    "x = np.arange(1,72+1,1)\n",
    "xnew = np.arange(1,72+1,1/interp_points)\n",
    "counter=0\n",
    "i=0;j=0\n",
    "while j< forecast_with_data.shape[0]:\n",
    "    if  sum(1*np.isnan(forecast_with_data[j,:,1]))==0 and \\\n",
    "        sum(1*np.isnan(forecast_with_data[j,:,2]))==0 and \\\n",
    "        np.max(forecast_with_data[j,:,1])<=1 and \\\n",
    "        np.min(forecast_with_data[j,:,1])>=0 and \\\n",
    "        np.max(forecast_with_data[j,:,2])<=1 and \\\n",
    "        np.min(forecast_with_data[j,:,2])>=0:\n",
    "        \n",
    "        #tck_forecast = interpolate.splrep(x, forecast_with_data[j,:,1], s=0)\n",
    "        #tck_data = interpolate.splrep(x, forecast_with_data[j,:,2], s=0)\n",
    "        #forecast_data_inter[0,i,:]= interpolate.splev(xnew, tck_forecast, der=0)\n",
    "        #forecast_data_inter[1,i,:]= interpolate.splev(xnew, tck_data, der=0)\n",
    "        forecast_data_inter[0,i,:]= forecast_with_data[j,:,1]\n",
    "        forecast_data_inter[1,i,:]= forecast_with_data[j,:,2]\n",
    "        i+=1\n",
    "    j+=1"
   ]
  },
  {
   "cell_type": "code",
   "execution_count": 3,
   "metadata": {},
   "outputs": [],
   "source": [
    "N=forecast_data_inter.shape[2]\n",
    "M=forecast_data_inter.shape[1]\n",
    "#M=100\n",
    "dt=1\n",
    "\n",
    "#forecast_data_inter[0,:,:] #forecast\n",
    "\n",
    "disct_temp = disct(N,dt,M)\n",
    "p=forecast_data_inter[0,:,:]\n",
    "V= forecast_data_inter[1,:,:] -forecast_data_inter[0,:,:]\n",
    "\n",
    "this_model=model_beta_flex(disct_temp,V, forecast= p)\n"
   ]
  },
  {
   "cell_type": "code",
   "execution_count": null,
   "metadata": {
    "scrolled": true
   },
   "outputs": [],
   "source": [
    "x = np.linspace(1, 15, 100)\n",
    "y = np.linspace(1, 15, 100)\n",
    "\n",
    "X, Y = np.meshgrid(x, y)\n",
    "\n",
    "Z=np.zeros((len(y), len(x)))\n",
    "for i in range(0,len(x)):\n",
    "    for j in range(0,len(y)):\n",
    "        Z[j,i] = this_model.likelihood(param=np.array((X[j,i],Y[j,i])))"
   ]
  },
  {
   "cell_type": "code",
   "execution_count": null,
   "metadata": {},
   "outputs": [],
   "source": [
    "plt.contourf(X, Y, Z, 10, cmap='RdGy')\n",
    "plt.colorbar()"
   ]
  },
  {
   "cell_type": "code",
   "execution_count": 26,
   "metadata": {},
   "outputs": [
    {
     "data": {
      "text/plain": [
       "array([1., 2., 3., 4., 5.])"
      ]
     },
     "execution_count": 26,
     "metadata": {},
     "output_type": "execute_result"
    }
   ],
   "source": []
  },
  {
   "cell_type": "code",
   "execution_count": null,
   "metadata": {},
   "outputs": [],
   "source": []
  }
 ],
 "metadata": {
  "kernelspec": {
   "display_name": "Python 3",
   "language": "python",
   "name": "python3"
  },
  "language_info": {
   "codemirror_mode": {
    "name": "ipython",
    "version": 3
   },
   "file_extension": ".py",
   "mimetype": "text/x-python",
   "name": "python",
   "nbconvert_exporter": "python",
   "pygments_lexer": "ipython3",
   "version": "3.7.1"
  }
 },
 "nbformat": 4,
 "nbformat_minor": 2
}
