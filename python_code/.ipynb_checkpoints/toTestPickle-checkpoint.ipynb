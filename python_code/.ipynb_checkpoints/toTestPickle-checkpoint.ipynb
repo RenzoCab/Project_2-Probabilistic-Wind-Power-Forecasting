{
 "cells": [
  {
   "cell_type": "code",
   "execution_count": 3,
   "metadata": {},
   "outputs": [],
   "source": [
    "import pickle\n",
    "import xlsxwriter"
   ]
  },
  {
   "cell_type": "code",
   "execution_count": 2,
   "metadata": {},
   "outputs": [],
   "source": [
    "toLoad = open('allBatches.pckl','rb')\n",
    "batch = pickle.load(toLoad)\n",
    "toLoad.close()"
   ]
  },
  {
   "cell_type": "code",
   "execution_count": 3,
   "metadata": {},
   "outputs": [],
   "source": [
    "big_list = []\n",
    "for i in range(0,22000):\n",
    "    aux_list = [0,1,2,3,4,5]\n",
    "    for j in range(0,3):\n",
    "        for k in range(0,2):\n",
    "            aux_list[2*j+k] = batch[i][j][k]\n",
    "    big_list.insert(len(big_list),aux_list)\n",
    "    \n",
    "with xlsxwriter.Workbook('allBatches.xlsx') as workbook:\n",
    "    worksheet = workbook.add_worksheet()\n",
    "    for row_num, data in enumerate(big_list):\n",
    "        worksheet.write_row(row_num, 0, data)"
   ]
  },
  {
   "cell_type": "code",
   "execution_count": 1,
   "metadata": {},
   "outputs": [],
   "source": [
    "# Now we will check the data p, X, and V:"
   ]
  },
  {
   "cell_type": "code",
   "execution_count": 13,
   "metadata": {},
   "outputs": [],
   "source": [
    "toLoad = open('data_p.pckl','rb')\n",
    "data_p = pickle.load(toLoad)\n",
    "toLoad.close()\n",
    "toLoad = open('data_X.pckl','rb')\n",
    "data_X = pickle.load(toLoad)\n",
    "toLoad.close()\n",
    "toLoad = open('data_V.pckl','rb')\n",
    "data_V = pickle.load(toLoad)\n",
    "toLoad.close()"
   ]
  },
  {
   "cell_type": "code",
   "execution_count": 15,
   "metadata": {},
   "outputs": [],
   "source": [
    "with xlsxwriter.Workbook('data_p.xlsx') as workbook:\n",
    "    worksheet = workbook.add_worksheet()\n",
    "    for row_num, data in enumerate(data_p):\n",
    "        worksheet.write_row(row_num, 0, data)\n",
    "with xlsxwriter.Workbook('data_X.xlsx') as workbook:\n",
    "    worksheet = workbook.add_worksheet()\n",
    "    for row_num, data in enumerate(data_X):\n",
    "        worksheet.write_row(row_num, 0, data)\n",
    "with xlsxwriter.Workbook('data_V.xlsx') as workbook:\n",
    "    worksheet = workbook.add_worksheet()\n",
    "    for row_num, data in enumerate(data_V):\n",
    "        worksheet.write_row(row_num, 0, data)"
   ]
  },
  {
   "cell_type": "code",
   "execution_count": null,
   "metadata": {},
   "outputs": [],
   "source": []
  }
 ],
 "metadata": {
  "kernelspec": {
   "display_name": "Python 3",
   "language": "python",
   "name": "python3"
  },
  "language_info": {
   "codemirror_mode": {
    "name": "ipython",
    "version": 3
   },
   "file_extension": ".py",
   "mimetype": "text/x-python",
   "name": "python",
   "nbconvert_exporter": "python",
   "pygments_lexer": "ipython3",
   "version": "3.7.4"
  }
 },
 "nbformat": 4,
 "nbformat_minor": 2
}
