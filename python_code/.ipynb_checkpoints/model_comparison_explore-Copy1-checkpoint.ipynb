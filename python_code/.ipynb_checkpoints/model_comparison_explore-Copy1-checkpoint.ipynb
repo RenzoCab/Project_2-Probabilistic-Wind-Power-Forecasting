{
 "cells": [
  {
   "cell_type": "code",
   "execution_count": 8,
   "metadata": {},
   "outputs": [],
   "source": [
    "from multi_path_base import *\n",
    "from joblib import Parallel, delayed\n",
    "%matplotlib tk \n",
    "%matplotlib tk "
   ]
  },
  {
   "cell_type": "code",
   "execution_count": 38,
   "metadata": {},
   "outputs": [],
   "source": [
    "forecast_with_data=np.load('forecast_with_data.npy')"
   ]
  },
  {
   "cell_type": "code",
   "execution_count": 39,
   "metadata": {},
   "outputs": [],
   "source": [
    "interpolation_points=10000\n",
    "x = np.arange(1,72+1,1)\n",
    "\n",
    "y = forecast_with_data[80,:,1] #X[j,:]\n",
    "tck = interpolate.splrep(x, y, s=0)\n",
    "\n",
    "xnew=np.linspace(1,72,interpolation_points)\n",
    "p_inter = interpolate.splev(xnew, tck, der=0)\n",
    "p=p_inter\n",
    "\n",
    "N=len(p_inter)\n",
    "dt=1\n",
    "M_test=1\n",
    "real_1 = real(0.16,0.0001)\n",
    "disct_temp = disct(N,dt,M_test)"
   ]
  },
  {
   "cell_type": "code",
   "execution_count": 40,
   "metadata": {},
   "outputs": [],
   "source": [
    "L=50\n",
    "beta_X = np.empty((L,len(p_inter)))\n",
    "beta_X_derivative_tracking = np.empty((L,len(p_inter)))\n",
    "beta_V = np.empty((L,len(p_inter)))\n",
    "\n",
    "normal_X = np.empty((L,len(p_inter)))\n",
    "normal_X_derivative_tracking = np.empty((L,len(p_inter)))\n",
    "normal_V = np.empty((L,len(p_inter)))\n",
    "\n",
    "for j in range(0,L):\n",
    "    beta_X[j,:]=gen_X_beta(X0=p_inter[0], disct=disct_temp,real=real_1, forecast=p_inter )\n",
    "    beta_X_derivative_tracking[j,:]=gen_X_beta_derivative_tracking(X0=p_inter[0], disct=disct_temp,real=real_1, forecast=p_inter )\n",
    "    beta_V[j,:]=gen_path_beta_robust(X0=0, disct=disct_temp,real=real_1, forecast=p_inter )\n",
    "    \n",
    "    normal_X[j,:]=gen_X_normal(X0=p_inter[0], disct=disct_temp,real=real_1, forecast=p_inter )\n",
    "    normal_X_derivative_tracking[j,:]=gen_X_normal_derivative_tracking(X0=p_inter[0], disct=disct_temp,real=real_1, forecast=p_inter )\n",
    "    normal_V[j,:]=gen_path_normal_robust(X0=0, disct=disct_temp,real=real_1, forecast=p_inter )\n"
   ]
  },
  {
   "cell_type": "code",
   "execution_count": 43,
   "metadata": {},
   "outputs": [],
   "source": [
    "fig = plt.figure(100)\n",
    "fig.clf()\n",
    "\n",
    "L=50\n",
    "ax = fig.add_subplot(3,2,1)\n",
    "plt.xlim(0, 72)\n",
    "plt.ylim(0, 1)\n",
    "for j in range(0,L):\n",
    "    plt.plot(xnew,beta_X[j,:], 'k-')\n",
    "plt.plot(xnew,beta_X[j,:], 'k-', label='simulated forecast')\n",
    "plt.plot(xnew,p, 'r-', label='forecast')\n",
    "plt.title('Beta transitions on forecast')\n",
    "plt.legend()\n",
    "\n",
    "ax = fig.add_subplot(3,2,4)\n",
    "plt.xlim(0, 72)\n",
    "plt.ylim(0, 1)\n",
    "for j in range(0,L):\n",
    "    plt.plot(xnew,beta_X_derivative_tracking[j,:], 'k-')\n",
    "plt.plot(xnew,p, 'r-')\n",
    "plt.title('Beta transitions on forecast with derivative tracking')\n",
    "\n",
    "ax = fig.add_subplot(3,2,5)\n",
    "plt.xlim(0, 72)\n",
    "plt.ylim(0, 1)\n",
    "for j in range(0,L):\n",
    "    plt.plot(xnew,beta_V[j,:]+p, 'k-')\n",
    "plt.plot(xnew,p, 'r-')\n",
    "plt.title('Beta transitions on forecast errors')\n",
    "\n",
    "\n",
    "ax = fig.add_subplot(3,2,2)\n",
    "plt.xlim(0, 72)\n",
    "plt.ylim(0, 1)\n",
    "for j in range(0,L):\n",
    "    plt.plot(xnew,normal_X[j,:], 'k-')\n",
    "plt.plot(xnew,p, 'r-')\n",
    "plt.title('Gaussian transitions on forecast')\n",
    "\n",
    "ax = fig.add_subplot(3,2,3)\n",
    "plt.xlim(0, 72)\n",
    "plt.ylim(0, 1)\n",
    "for j in range(0,L):\n",
    "    plt.plot(xnew,normal_X_derivative_tracking[j,:], 'k-')\n",
    "plt.plot(xnew,p, 'r-')\n",
    "plt.title('Gaussian transitions on forecast with derivative tracking')\n",
    "\n",
    "\n",
    "ax = fig.add_subplot(3,2,6)\n",
    "plt.xlim(0, 72)\n",
    "plt.ylim(0, 1)\n",
    "for j in range(0,L):\n",
    "    plt.plot(xnew,normal_V[j,:]+p, 'k-')\n",
    "plt.plot(xnew,normal_V[j,:]+p, 'k-', label='simulated forecast')\n",
    "plt.plot(xnew,p, 'r-', label='forecast')\n",
    "plt.title('Gaussian transitions on forecast errors')\n",
    "\n",
    "fig.suptitle('Comparison of Models \\n $\\\\mu=0.16, \\\\alpha=0.0001$',fontsize=24)\n",
    "\n",
    "plt.savefig('model_comparison.pdf')\n",
    "#plt.legend()"
   ]
  },
  {
   "cell_type": "code",
   "execution_count": null,
   "metadata": {},
   "outputs": [],
   "source": []
  }
 ],
 "metadata": {
  "kernelspec": {
   "display_name": "Python 3",
   "language": "python",
   "name": "python3"
  },
  "language_info": {
   "codemirror_mode": {
    "name": "ipython",
    "version": 3
   },
   "file_extension": ".py",
   "mimetype": "text/x-python",
   "name": "python",
   "nbconvert_exporter": "python",
   "pygments_lexer": "ipython3",
   "version": "3.7.1"
  }
 },
 "nbformat": 4,
 "nbformat_minor": 2
}
