{
 "cells": [
  {
   "cell_type": "code",
   "execution_count": 1,
   "metadata": {},
   "outputs": [],
   "source": [
    "from multi_path_base import *\n",
    "from joblib import Parallel, delayed\n",
    "%matplotlib tk "
   ]
  },
  {
   "cell_type": "code",
   "execution_count": 2,
   "metadata": {},
   "outputs": [],
   "source": [
    "forecast_with_data=np.load('forecast_with_data.npy')"
   ]
  },
  {
   "cell_type": "code",
   "execution_count": null,
   "metadata": {},
   "outputs": [],
   "source": [
    "def optimize(M):    \n",
    "    X=forecast_with_data[2:M,:,2] #first two sample paths are bad\n",
    "\n",
    "    disct_temp = disct(N=X.shape[1],dt=1,M=X.shape[0])\n",
    "\n",
    "    this_model=model_beta_data(disct_temp,X, forecast=forecast_with_data[2:M,:,1] )\n",
    "    a1,a2=this_model.optimize()\n",
    "        \n",
    "    \n",
    "    return(M, a1, a2)"
   ]
  },
  {
   "cell_type": "code",
   "execution_count": null,
   "metadata": {},
   "outputs": [],
   "source": [
    "#M_test=[100,200,300,400,500,600,700,800,900,1265]\n",
    "M_test=[200,200,200,200,200,200,200,200,200]\n",
    "cores= min(20,len(M_test))\n",
    "out=Parallel(n_jobs=cores, verbose=50)(delayed(optimize)(i) for i in M_test);out"
   ]
  },
  {
   "cell_type": "code",
   "execution_count": null,
   "metadata": {},
   "outputs": [],
   "source": []
  },
  {
   "cell_type": "code",
   "execution_count": null,
   "metadata": {
    "scrolled": true
   },
   "outputs": [],
   "source": [
    "\n",
    "M_test=np.arange(2,100,2) #,500,10000\n",
    "\n",
    "#models_M=[]\n",
    "results=np.empty( (3,len(M_test)), dtype=object)\n",
    "\n",
    "for j in range(0,len(M_test)):\n",
    "\n",
    "    X=forecast_with_data[2:M_test[j],:,2] - forecast_with_data[2:M_test[j],:,1] \n",
    "    disct_temp = disct(N=X.shape[1],dt=1,M=X.shape[0])\n",
    "\n",
    "    this_model=model_beta_data(disct_temp,X, forecast=forecast_with_data[2:M_test[j],:,1] )\n",
    "    optimimuim, message=this_model.optimize()\n",
    "    print(M_test[j],optimimuim, message)\n",
    "    results[0,j]=M_test[j]\n",
    "    results[1,j]=optimimuim\n",
    "    results[2,j]= message\n",
    "    del this_model\n",
    "    "
   ]
  },
  {
   "cell_type": "code",
   "execution_count": 7,
   "metadata": {},
   "outputs": [
    {
     "name": "stdout",
     "output_type": "stream",
     "text": [
      "2 [0.162244   0.41093973] b'CONVERGENCE: NORM_OF_PROJECTED_GRADIENT_<=_PGTOL'\n",
      "52 [0.18694283 0.42469825] b'CONVERGENCE: REL_REDUCTION_OF_F_<=_FACTR*EPSMCH'\n",
      "102 [0.36352719 0.61161148] b'ABNORMAL_TERMINATION_IN_LNSRCH'\n",
      "152 [0.44245005 0.8071443 ] b'CONVERGENCE: REL_REDUCTION_OF_F_<=_FACTR*EPSMCH'\n",
      "202 [0.26451093 0.86212008] b'ABNORMAL_TERMINATION_IN_LNSRCH'\n",
      "252 [0.70533772 1.25060328] b'ABNORMAL_TERMINATION_IN_LNSRCH'\n",
      "302 [0.58609089 1.24450045] b'CONVERGENCE: REL_REDUCTION_OF_F_<=_FACTR*EPSMCH'\n",
      "352 [0.72268326 1.23913527] b'ABNORMAL_TERMINATION_IN_LNSRCH'\n",
      "402 [0.89955478 1.17055268] b'ABNORMAL_TERMINATION_IN_LNSRCH'\n",
      "452 [1.11540631 0.92725643] b'ABNORMAL_TERMINATION_IN_LNSRCH'\n",
      "502 [0.16151503 1.40828413] b'CONVERGENCE: REL_REDUCTION_OF_F_<=_FACTR*EPSMCH'\n",
      "552 [0.15878588 1.40043092] b'CONVERGENCE: REL_REDUCTION_OF_F_<=_FACTR*EPSMCH'\n",
      "602 [0.14699541 1.35705469] b'ABNORMAL_TERMINATION_IN_LNSRCH'\n",
      "652 [0.15983062 1.40963905] b'CONVERGENCE: REL_REDUCTION_OF_F_<=_FACTR*EPSMCH'\n",
      "702 [0.15846653 1.39762503] b'CONVERGENCE: REL_REDUCTION_OF_F_<=_FACTR*EPSMCH'\n",
      "752 [0.16142489 1.40763976] b'CONVERGENCE: REL_REDUCTION_OF_F_<=_FACTR*EPSMCH'\n",
      "802 [0.162244   0.41093973] b'ABNORMAL_TERMINATION_IN_LNSRCH'\n",
      "852 [0.162244   0.41093973] b'ABNORMAL_TERMINATION_IN_LNSRCH'\n",
      "902 [0.162244   0.41093973] b'ABNORMAL_TERMINATION_IN_LNSRCH'\n",
      "952 [0.162244   0.41093973] b'ABNORMAL_TERMINATION_IN_LNSRCH'\n",
      "1002 [0.162244   0.41093973] b'ABNORMAL_TERMINATION_IN_LNSRCH'\n",
      "1052 [0.162244   0.41093973] b'ABNORMAL_TERMINATION_IN_LNSRCH'\n",
      "1102 [0.162244   0.41093973] b'ABNORMAL_TERMINATION_IN_LNSRCH'\n",
      "1152 [0.162244   0.41093973] b'ABNORMAL_TERMINATION_IN_LNSRCH'\n",
      "1202 [0.162244   0.41093973] b'ABNORMAL_TERMINATION_IN_LNSRCH'\n",
      "1252 [0.162244   0.41093973] b'ABNORMAL_TERMINATION_IN_LNSRCH'\n"
     ]
    }
   ],
   "source": [
    "M_test=np.arange(2,1265,50) #,500,10000\n",
    "\n",
    "#models_M=[]\n",
    "results_2=np.empty( (3,len(M_test)), dtype=object)\n",
    "\n",
    "for j in range(0,len(M_test)):\n",
    "\n",
    "    #X=forecast_with_data[2:M_test[j],:,2] #first two sample paths are bad\n",
    "    \n",
    "    X=forecast_with_data[2:M_test[j],:,2] - forecast_with_data[2:M_test[j],:,1] \n",
    "\n",
    "    disct_temp = disct(N=X.shape[1],dt=1,M=X.shape[0])\n",
    "\n",
    "    this_model=model_beta_data(disct_temp,X, forecast=forecast_with_data[2:M_test[j],:,1] )\n",
    "    optimimuim, message=this_model.optimize()\n",
    "    print(M_test[j],optimimuim, message)\n",
    "    results_2[0,j]=M_test[j]\n",
    "    results_2[1,j]=optimimuim\n",
    "    results_2[2,j]= message\n",
    "    del this_model\n",
    "    "
   ]
  },
  {
   "cell_type": "code",
   "execution_count": null,
   "metadata": {},
   "outputs": [],
   "source": []
  },
  {
   "cell_type": "code",
   "execution_count": null,
   "metadata": {},
   "outputs": [],
   "source": [
    "sucess_indicies_2=np.where(results_2[2,:]== b'CONVERGENCE: REL_REDUCTION_OF_F_<=_FACTR*EPSMCH')\n",
    "sucess_indicies=np.where(results[2,:]== b'CONVERGENCE: REL_REDUCTION_OF_F_<=_FACTR*EPSMCH')"
   ]
  },
  {
   "cell_type": "code",
   "execution_count": null,
   "metadata": {},
   "outputs": [],
   "source": []
  },
  {
   "cell_type": "code",
   "execution_count": null,
   "metadata": {},
   "outputs": [],
   "source": [
    "sucess_indicies"
   ]
  },
  {
   "cell_type": "code",
   "execution_count": null,
   "metadata": {},
   "outputs": [],
   "source": [
    "results[1,sucess_indicies]"
   ]
  },
  {
   "cell_type": "code",
   "execution_count": null,
   "metadata": {},
   "outputs": [],
   "source": [
    "res2=results_2[1,sucess_indicies_2].reshape((28))"
   ]
  },
  {
   "cell_type": "code",
   "execution_count": null,
   "metadata": {},
   "outputs": [],
   "source": [
    "sucess_indicies_2[0][:]=1"
   ]
  },
  {
   "cell_type": "code",
   "execution_count": null,
   "metadata": {},
   "outputs": [],
   "source": [
    "sucess_indicies_2"
   ]
  },
  {
   "cell_type": "code",
   "execution_count": null,
   "metadata": {},
   "outputs": [],
   "source": [
    "sucess_indicies_2[0][:]=1\n",
    "for i in range(0, )\n",
    "    np.log(results_2[sucess_indicies_2][0])"
   ]
  },
  {
   "cell_type": "code",
   "execution_count": null,
   "metadata": {},
   "outputs": [],
   "source": [
    "real_1 = real(0.5,0.1)\n",
    "N=72\n",
    "dt=1\n",
    "\n",
    "#sandy=np.linspace(1e-3,60,N)\n",
    "\n",
    "#forecast=lambda x: 0.5 +0.25*np.sin(0.1*x)\n",
    "#p= forecast(sandy)\n",
    "\n",
    "M_test=100\n",
    "\n",
    "p=forecast_with_data[2:M_test,:,1]\n",
    "\n",
    "disct_temp = disct(N,dt,p.shape[0])\n",
    "        \n",
    "X=gen_path_beta_robust(X0=0, disct=disct_temp,real=real_1, forecast= p)\n",
    "\n",
    "\n",
    "#disct_temp = disct(N=X.shape[1],dt=1,M=X.shape[0])\n",
    "        \n",
    "this_model=model_beta_data(disct_temp,X, forecast=p )\n",
    "\n",
    "this_model.optimize()\n"
   ]
  },
  {
   "cell_type": "code",
   "execution_count": null,
   "metadata": {},
   "outputs": [],
   "source": [
    "plt.plot(X[1,:])"
   ]
  },
  {
   "cell_type": "code",
   "execution_count": null,
   "metadata": {},
   "outputs": [],
   "source": [
    "\n",
    "np.log(results_2[1,sucess_indicies_2][:])"
   ]
  },
  {
   "cell_type": "code",
   "execution_count": 6,
   "metadata": {},
   "outputs": [
    {
     "data": {
      "text/plain": [
       "(array([0.14195036, 1.33950776]),\n",
       " b'CONVERGENCE: REL_REDUCTION_OF_F_<=_FACTR*EPSMCH')"
      ]
     },
     "execution_count": 6,
     "metadata": {},
     "output_type": "execute_result"
    }
   ],
   "source": [
    "M=600\n",
    "\n",
    "#first two sample paths are bad\n",
    "\n",
    "X=forecast_with_data[2:M,:,2] - forecast_with_data[2:M,:,1] \n",
    "\n",
    "disct_temp = disct(N=X.shape[1],dt=1,M=X.shape[0])\n",
    "        \n",
    "this_model=model_beta_data(disct_temp,X, forecast=forecast_with_data[2:M,:,1] )\n",
    "\n",
    "this_model.optimize()\n"
   ]
  },
  {
   "cell_type": "code",
   "execution_count": null,
   "metadata": {},
   "outputs": [],
   "source": []
  },
  {
   "cell_type": "code",
   "execution_count": 3,
   "metadata": {},
   "outputs": [
    {
     "name": "stderr",
     "output_type": "stream",
     "text": [
      "/home/alhaddwt/anaconda3/lib/python3.7/site-packages/scipy/optimize/optimize.py:663: RuntimeWarning: invalid value encountered in double_scalars\n",
      "  grad[k] = (f(*((xk + d,) + args)) - f0) / d[k]\n"
     ]
    }
   ],
   "source": [
    "M=100\n",
    "\n",
    "\n",
    "X=forecast_with_data[2:M,:,2] #first two sample paths are corrupt\n",
    "\n",
    "disct_temp = disct(N=X.shape[1],dt=1,M=X.shape[0])\n",
    "        \n",
    "this_model=model_beta_data(disct_temp,X, forecast=forecast_with_data[2:M,:,1] )\n",
    "a1,a2=this_model.optimize()\n"
   ]
  },
  {
   "cell_type": "code",
   "execution_count": 4,
   "metadata": {},
   "outputs": [
    {
     "data": {
      "text/plain": [
       "array([0.2520508 , 0.43775943])"
      ]
     },
     "execution_count": 4,
     "metadata": {},
     "output_type": "execute_result"
    }
   ],
   "source": [
    "a1"
   ]
  },
  {
   "cell_type": "code",
   "execution_count": 5,
   "metadata": {},
   "outputs": [
    {
     "data": {
      "text/plain": [
       "b'CONVERGENCE: REL_REDUCTION_OF_F_<=_FACTR*EPSMCH'"
      ]
     },
     "execution_count": 5,
     "metadata": {},
     "output_type": "execute_result"
    }
   ],
   "source": [
    "a2"
   ]
  },
  {
   "cell_type": "code",
   "execution_count": null,
   "metadata": {},
   "outputs": [],
   "source": []
  },
  {
   "cell_type": "code",
   "execution_count": null,
   "metadata": {},
   "outputs": [],
   "source": []
  }
 ],
 "metadata": {
  "kernelspec": {
   "display_name": "Python 3",
   "language": "python",
   "name": "python3"
  },
  "language_info": {
   "codemirror_mode": {
    "name": "ipython",
    "version": 3
   },
   "file_extension": ".py",
   "mimetype": "text/x-python",
   "name": "python",
   "nbconvert_exporter": "python",
   "pygments_lexer": "ipython3",
   "version": "3.7.1"
  }
 },
 "nbformat": 4,
 "nbformat_minor": 2
}
