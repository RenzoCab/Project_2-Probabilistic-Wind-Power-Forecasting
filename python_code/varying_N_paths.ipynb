{
 "cells": [
  {
   "cell_type": "code",
   "execution_count": null,
   "metadata": {},
   "outputs": [],
   "source": [
    "import numpy as np\n",
    "import matplotlib.pyplot as plt\n",
    "import matplotlib.cm as cm\n",
    "import scipy.stats\n",
    "from scipy.optimize import minimize\n",
    "from scipy.stats import multivariate_normal\n",
    "from mpl_toolkits.mplot3d import Axes3D\n",
    "import operator\n",
    "from scipy.optimize import minimize\n",
    "import math"
   ]
  },
  {
   "cell_type": "code",
   "execution_count": null,
   "metadata": {},
   "outputs": [],
   "source": [
    "def gen_dx(mu_real,sig_real,dt,N):\n",
    "    N=np.int64(N)\n",
    "    dW=np.sqrt(dt)*np.random.normal(0, 1, N)\n",
    "    e= mu_real*dt+ sig_real*dW\n",
    "    return(e)"
   ]
  },
  {
   "cell_type": "code",
   "execution_count": null,
   "metadata": {},
   "outputs": [],
   "source": [
    "def liklihood(param,data, disc):\n",
    "    L=0\n",
    "    e=data\n",
    "    N,dt=disc;\n",
    "    N=np.int64(N)\n",
    "    mu,sig =param;\n",
    "    for i in range(0,N):\n",
    "        L = L  - (e[i]-mu*dt )**2/(2*dt*sig**2) -0.5*np.log(2*math.pi*sig**2*dt)\n",
    "    return(-1*L)"
   ]
  },
  {
   "cell_type": "code",
   "execution_count": null,
   "metadata": {},
   "outputs": [],
   "source": [
    "def gen_paths(mu_real,sig_real,dt,N,num_paths=1):\n",
    "    L = np.zeros((num_paths,N))\n",
    "    for i in range(0,num_paths):\n",
    "        L[i]=gen_dx(mu_real,sig_real,dt,N)\n",
    "    return(L)"
   ]
  },
  {
   "cell_type": "code",
   "execution_count": null,
   "metadata": {},
   "outputs": [],
   "source": [
    "def covergence_test(disc ,param_real, param_initial):\n",
    "    \n",
    "    N,dt=disc;\n",
    "    mu_real,sig_real=param_real\n",
    "    mu_initial,sig_initial=param_initial\n",
    "    \n",
    "    e=gen_dx(mu_real,sig_real,dt,N)\n",
    "    \n",
    "    args=(e,disc)\n",
    "    x0=param_initial\n",
    "    bnds = ((None, None), (1e-5, None))\n",
    "    \n",
    "    min_param=minimize(liklihood,x0,args,bounds=bnds,tol=1e-24);min_param\n",
    "    #min_param=minimize(liklihood,x0,args,method='SLSQP',bounds=bnds,\\\n",
    "                   #tol=1e-24,options={  'ftol': 1e-24,  'eps': 1e-12});min_param\n",
    "    error = np.divide ( abs(min_param.x - param_real),param_real )\n",
    "    \n",
    "    return(min_param.x, error)"
   ]
  },
  {
   "cell_type": "code",
   "execution_count": null,
   "metadata": {},
   "outputs": [],
   "source": [
    "#varying number of samples\n",
    "\n",
    "def convergence_in_N(N_test,fix_dt,param_real_test,param_initial_test):\n",
    "\n",
    "    err_fixeddt=np.zeros((len(N_test),2))\n",
    "    result_fixeddt=np.zeros((len(N_test),2))\n",
    "\n",
    "    for i in range(0,len(N_test)):\n",
    "        disc_test=np.array([N_test[i],fix_dt])\n",
    "        result_fixeddt[i,:],err_fixeddt[i,:]=covergence_test(disc_test,param_real_test,param_initial_test)\n",
    "        \n",
    "    return(result_fixeddt,err_fixeddt)"
   ]
  },
  {
   "cell_type": "code",
   "execution_count": null,
   "metadata": {},
   "outputs": [],
   "source": [
    "#varying number of paths\n",
    "\n",
    "def convergence_in_L(N_test,fix_dt,param_real_test,param_initial_test,num_paths ):\n",
    "    result_fixeddt= np.zeros(( num_paths ,len(N_test),2))\n",
    "    err_fixeddt= np.zeros(( num_paths ,len(N_test),2))\n",
    "\n",
    "    for i in range(0,num_paths):\n",
    "        result_fixeddt[i,:,:],err_fixeddt[i,:,:]=convergence_in_N(N_test,fix_dt,param_real_test,param_initial_test)\n",
    "    return(result_fixeddt, err_fixeddt)"
   ]
  },
  {
   "cell_type": "code",
   "execution_count": null,
   "metadata": {},
   "outputs": [],
   "source": [
    "def abline(slope, intercept):\n",
    "    \"\"\"Plot a line from slope and intercept\"\"\"\n",
    "    axes = plt.gca()\n",
    "    x_vals = np.array(axes.get_xlim())\n",
    "    y_vals = intercept + slope * x_vals\n",
    "    plt.plot(x_vals, y_vals, '--', label='slope='+str(slope))"
   ]
  },
  {
   "cell_type": "code",
   "execution_count": null,
   "metadata": {},
   "outputs": [],
   "source": [
    "#dX paths plot only, not used for computation\n",
    "\n",
    "param_real_test=np.array([100,10])\n",
    "disc_test=np.array([25,1])\n",
    "\n",
    "N,dt=disc_test;\n",
    "mu_real,sig_real=param_real_test\n",
    "num_paths=5\n",
    "\n",
    "L=gen_paths(mu_real,sig_real,dt,N,num_paths)\n",
    "\n",
    "for i in range(0,num_paths):\n",
    "    plt.plot(L[i])\n",
    "    "
   ]
  },
  {
   "cell_type": "code",
   "execution_count": null,
   "metadata": {},
   "outputs": [],
   "source": [
    "#convergence for increasing number of paths and samples\n",
    "\n",
    "N_test=np.array([10,20,50,100]) #,100,500,1000,10000,50000\n",
    "\n",
    "fix_dt=1\n",
    "param_real_test=np.array([100,10])\n",
    "param_initial_test= np.array([13,7])\n",
    "\n",
    "num_paths_test=np.array([10,100,1000]) #,1000,10000\n",
    "\n",
    "\n",
    "result_fixeddt_avg=np.zeros((len(num_paths_test),len(N_test),2))\n",
    "err_fixeddt_avg=np.zeros((len(num_paths_test),len(N_test),2))\n",
    "\n",
    "for i in range(0,len(num_paths_test)):\n",
    "    result_fixeddt,_=convergence_in_L(N_test,fix_dt,param_real_test,param_initial_test,num_paths_test[i] )\n",
    "    #obtain averaging estimator\n",
    "    result_fixeddt_avg[i]=np.average(result_fixeddt, axis=0)\n",
    "    #error estimates\n",
    "    err_fixeddt_avg[i,:,0] = np.divide ( abs(result_fixeddt_avg[i,:,0] - param_real_test[0]), param_real_test[0] )\n",
    "    err_fixeddt_avg[i,:,1]=np.divide ( abs(result_fixeddt_avg[i,:,1] - param_real_test[1]), param_real_test[1] )\n",
    "    "
   ]
  },
  {
   "cell_type": "code",
   "execution_count": null,
   "metadata": {},
   "outputs": [],
   "source": [
    "plt.title('')\n",
    "plt.xlabel('log(N)')\n",
    "plt.ylabel('log(relative error)')\n",
    "for i in range(0, len(num_paths_test)):\n",
    "    mu_label='$\\mu$ '+ str(num_paths_test[i]) +'paths'\n",
    "    sig_label='$\\sigma$ '+ str(num_paths_test[i]) +'paths'\n",
    "    plt.plot(np.log10(N_test),  np.log10(err_fixeddt_avg[i,:,0]), label=mu_label)\n",
    "    #plt.plot(np.log10(N_test),  np.log10(err_fixeddt_avg[i,:,1]) , label=sig_label)\n",
    "abline(-0.5,-1)\n",
    "plt.legend()\n",
    "plt.savefig('multi_path_mu.pdf')"
   ]
  },
  {
   "cell_type": "code",
   "execution_count": null,
   "metadata": {},
   "outputs": [],
   "source": [
    "plt.title('')\n",
    "plt.xlabel('log(N)')\n",
    "plt.ylabel('log(relative error)')\n",
    "for i in range(0, len(num_paths_test)):\n",
    "    mu_label='$\\mu$ '+ str(num_paths_test[i]) +'paths'\n",
    "    sig_label='$\\sigma$ '+ str(num_paths_test[i]) +'paths'\n",
    "    #plt.plot(np.log10(N_test),  np.log10(err_fixeddt_avg[i,:,0]), label=mu_label)\n",
    "    plt.plot(np.log10(N_test),  np.log10(err_fixeddt_avg[i,:,1]) , label=sig_label)\n",
    "abline(-0.5,0)\n",
    "plt.legend()\n",
    "plt.savefig('multi_path_sig.pdf')\n"
   ]
  },
  {
   "cell_type": "code",
   "execution_count": null,
   "metadata": {},
   "outputs": [],
   "source": [
    "plt.title('')\n",
    "plt.xlabel('log(number of paths)')\n",
    "plt.ylabel('log(relative error)')\n",
    "#for i in range(0, len(num_paths_test)):\n",
    "mu_label='$\\mu$ ' + str(N_test[-1]) +' samples'\n",
    "sig_label='$\\sigma$ '+ str(N_test[-1]) +' samples'\n",
    "plt.plot(np.log10(num_paths_test),  np.log10(err_fixeddt_avg[:,-1,0]), label=mu_label)\n",
    "#plt.plot(np.log10(N_test),  np.log10(err_fixeddt_avg[i,:,1]) , label=sig_label)\n",
    "abline(-0.5,-2)\n",
    "plt.legend()\n",
    "plt.savefig('multi_path_mu_fixedN.pdf')"
   ]
  },
  {
   "cell_type": "code",
   "execution_count": null,
   "metadata": {},
   "outputs": [],
   "source": [
    "plt.title('')\n",
    "plt.xlabel('log(number of paths)')\n",
    "plt.ylabel('log(relative error)')\n",
    "#for i in range(0, len(num_paths_test)):\n",
    "#mu_label='$\\mu$ ' + str(N_test[-1]) +' samples'\n",
    "sig_label='$\\sigma$ '+ str(N_test[-1]) +' samples'\n",
    "plt.plot(np.log10(num_paths_test),  np.log10(err_fixeddt_avg[:,-1,1]), label=sig_label)\n",
    "#plt.plot(np.log10(N_test),  np.log10(err_fixeddt_avg[i,:,1]) , label=sig_label)\n",
    "abline(-0.5,-1.5)\n",
    "plt.legend()\n",
    "plt.savefig('multi_path_sig_fixedN.pdf')"
   ]
  },
  {
   "cell_type": "code",
   "execution_count": null,
   "metadata": {},
   "outputs": [],
   "source": [
    "plt.title('')\n",
    "plt.xlabel('log(number of paths)')\n",
    "plt.ylabel('log(relative error)')\n",
    "#for i in range(0, len(num_paths_test)):\n",
    "mu_label='$\\mu$ ' + str(N_test[0]) +' samples'\n",
    "sig_label='$\\sigma$ '+ str(N_test[0]) +' samples'\n",
    "plt.plot(np.log10(num_paths_test),  np.log10(err_fixeddt_avg[:,0,0]), label=mu_label)\n",
    "#plt.plot(np.log10(N_test),  np.log10(err_fixeddt_avg[i,:,1]) , label=sig_label)\n",
    "abline(-0.5,-2)\n",
    "plt.legend()\n",
    "plt.savefig('multi_path_mu_fixedN_0.pdf')"
   ]
  },
  {
   "cell_type": "code",
   "execution_count": null,
   "metadata": {},
   "outputs": [],
   "source": [
    "plt.title('')\n",
    "plt.xlabel('log(number of paths)')\n",
    "plt.ylabel('log(relative error)')\n",
    "#for i in range(0, len(num_paths_test)):\n",
    "#mu_label='$\\mu$ ' + str(N_test[-1]) +' samples'\n",
    "sig_label='$\\sigma$ '+ str(N_test[0]) +' samples'\n",
    "plt.plot(np.log10(num_paths_test),  np.log10(err_fixeddt_avg[:,0,1]), label=sig_label)\n",
    "#plt.plot(np.log10(N_test),  np.log10(err_fixeddt_avg[i,:,1]) , label=sig_label)\n",
    "abline(-0.5,-1.5)\n",
    "plt.legend()\n",
    "plt.savefig('multi_path_sig_fixedN_0.pdf')"
   ]
  },
  {
   "cell_type": "code",
   "execution_count": null,
   "metadata": {},
   "outputs": [],
   "source": []
  }
 ],
 "metadata": {
  "kernelspec": {
   "display_name": "Python 3",
   "language": "python",
   "name": "python3"
  },
  "language_info": {
   "codemirror_mode": {
    "name": "ipython",
    "version": 3
   },
   "file_extension": ".py",
   "mimetype": "text/x-python",
   "name": "python",
   "nbconvert_exporter": "python",
   "pygments_lexer": "ipython3",
   "version": "3.7.1"
  }
 },
 "nbformat": 4,
 "nbformat_minor": 2
}
