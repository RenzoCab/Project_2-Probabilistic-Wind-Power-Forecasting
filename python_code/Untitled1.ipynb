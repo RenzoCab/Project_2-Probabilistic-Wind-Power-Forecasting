{
 "cells": [
  {
   "cell_type": "code",
   "execution_count": 9,
   "metadata": {},
   "outputs": [],
   "source": [
    "from multi_path_base import *\n",
    "%matplotlib tk \n",
    "forecast_with_data=np.load('forecast_with_data.npy')"
   ]
  },
  {
   "cell_type": "code",
   "execution_count": 5,
   "metadata": {},
   "outputs": [],
   "source": [
    "interpolation_points=1000\n",
    "x = np.arange(1,72+1,1)\n",
    "\n",
    "y = forecast_with_data[80,:,1] #X[j,:]\n",
    "tck = interpolate.splrep(x, y, s=0)\n",
    "\n",
    "xnew=np.linspace(1,72,interpolation_points)\n",
    "p_inter = interpolate.splev(xnew, tck, der=0)\n",
    "p=p_inter\n",
    "\n",
    "N=len(p_inter)\n",
    "dt=1\n",
    "M_test=15\n",
    "real_1 = real(12.3, 2.2)\n",
    "#real_1 = real(0.15878588, 1.40043092) \n",
    "#real_1 = real(1e-1,1e-5) \n",
    "\n",
    "\n",
    "disct_temp = disct(N,dt,M_test)"
   ]
  },
  {
   "cell_type": "code",
   "execution_count": 6,
   "metadata": {},
   "outputs": [],
   "source": [
    "%%capture\n",
    "normal_X_derivative_tracking_Euler = np.empty((M_test,len(p_inter)));\n",
    "normal_X_derivative_tracking_Euler= gen_X_normal_euler_derivative_tracking(X0=p_inter[0], disct=disct_temp,real=real_1, forecast=p_inter );\n"
   ]
  },
  {
   "cell_type": "code",
   "execution_count": 10,
   "metadata": {},
   "outputs": [
    {
     "data": {
      "text/plain": [
       "<matplotlib.legend.Legend at 0x7f848406afd0>"
      ]
     },
     "execution_count": 10,
     "metadata": {},
     "output_type": "execute_result"
    }
   ],
   "source": [
    "#plt.plot(X[0,:])\n",
    "fig = plt.figure(0)\n",
    "fig.clf()\n",
    "\n",
    "plt.xlim(0, 72)\n",
    "plt.ylim(0, 1)\n",
    "for j in range(0,M_test):\n",
    "    plt.plot(xnew,normal_X_derivative_tracking_Euler[j,:], 'k-')\n",
    "plt.plot(xnew,normal_X_derivative_tracking_Euler[j,:], 'k-', label='simulated forecast')\n",
    "plt.plot(xnew,p, 'r-', label='forecast')\n",
    "plt.title('Simulated X paths using adaptive $\\\\Delta t$ ',fontsize=24)\n",
    "plt.xlabel('Time [hr]')\n",
    "plt.ylabel('Power')\n",
    "plt.legend()\n",
    "#plt.savefig('simulated_paths_real_param.pdf')"
   ]
  },
  {
   "cell_type": "code",
   "execution_count": null,
   "metadata": {},
   "outputs": [],
   "source": [
    "V=normal_X_derivative_tracking_Euler - p\n",
    "fig = plt.figure(1)\n",
    "fig.clf()\n",
    "for i in range(0,M_test):\n",
    "    plt.plot(V[i,:])"
   ]
  },
  {
   "cell_type": "code",
   "execution_count": null,
   "metadata": {},
   "outputs": [],
   "source": [
    "#this_model=model_beta_flex(disct_temp,V, forecast=p )"
   ]
  },
  {
   "cell_type": "code",
   "execution_count": null,
   "metadata": {},
   "outputs": [],
   "source": [
    "#this_model.optimize()"
   ]
  },
  {
   "cell_type": "code",
   "execution_count": null,
   "metadata": {},
   "outputs": [],
   "source": []
  },
  {
   "cell_type": "code",
   "execution_count": null,
   "metadata": {},
   "outputs": [],
   "source": []
  }
 ],
 "metadata": {
  "kernelspec": {
   "display_name": "Python 3",
   "language": "python",
   "name": "python3"
  },
  "language_info": {
   "codemirror_mode": {
    "name": "ipython",
    "version": 3
   },
   "file_extension": ".py",
   "mimetype": "text/x-python",
   "name": "python",
   "nbconvert_exporter": "python",
   "pygments_lexer": "ipython3",
   "version": "3.7.1"
  }
 },
 "nbformat": 4,
 "nbformat_minor": 2
}
