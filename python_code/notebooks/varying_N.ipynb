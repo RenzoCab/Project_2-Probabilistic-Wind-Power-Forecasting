{
 "cells": [
  {
   "cell_type": "code",
   "execution_count": 8,
   "metadata": {},
   "outputs": [],
   "source": [
    "import numpy as np\n",
    "import matplotlib.pyplot as plt\n",
    "import matplotlib.cm as cm\n",
    "import scipy.stats\n",
    "from scipy.optimize import minimize\n",
    "from scipy.stats import multivariate_normal\n",
    "from mpl_toolkits.mplot3d import Axes3D\n",
    "import operator\n",
    "from scipy.optimize import minimize\n",
    "import math"
   ]
  },
  {
   "cell_type": "code",
   "execution_count": 9,
   "metadata": {},
   "outputs": [],
   "source": [
    "def gen_dx(mu_real,sig_real,dt,N):\n",
    "    N=np.int64(N)\n",
    "    dW=np.sqrt(dt)*np.random.normal(0, 1, N)\n",
    "    e= mu_real*dt+ sig_real*dW\n",
    "    return(e)"
   ]
  },
  {
   "cell_type": "code",
   "execution_count": 10,
   "metadata": {},
   "outputs": [],
   "source": [
    "def liklihood(param,data, disc):\n",
    "    L=0\n",
    "    e=data\n",
    "    N,dt=disc;\n",
    "    N=np.int64(N)\n",
    "    mu,sig =param;\n",
    "    for i in range(0,N):\n",
    "        L = L  - (e[i]-mu*dt )**2/(2*dt*sig**2) -0.5*np.log(2*math.pi*sig**2*dt)\n",
    "    return(-1*L)"
   ]
  },
  {
   "cell_type": "code",
   "execution_count": 11,
   "metadata": {},
   "outputs": [],
   "source": [
    "def abline(slope, intercept):\n",
    "    \"\"\"Plot a line from slope and intercept\"\"\"\n",
    "    axes = plt.gca()\n",
    "    x_vals = np.array(axes.get_xlim())\n",
    "    y_vals = intercept + slope * x_vals\n",
    "    plt.plot(x_vals, y_vals, '--', label='slope='+str(slope))"
   ]
  },
  {
   "cell_type": "code",
   "execution_count": 12,
   "metadata": {},
   "outputs": [],
   "source": [
    "def covergence_test(disc ,param_real, param_initial):\n",
    "    \n",
    "    N,dt=disc;\n",
    "    mu_real,sig_real=param_real\n",
    "    mu_initial,sig_initial=param_initial\n",
    "    \n",
    "    e=gen_dx(mu_real,sig_real,dt,N)\n",
    "    \n",
    "    args=(e,disc)\n",
    "    x0=param_initial\n",
    "    bnds = ((None, None), (1e-5, None))\n",
    "    \n",
    "    min_param=minimize(liklihood,x0,args,bounds=bnds);min_param\n",
    "    #min_param=minimize(liklihood,x0,args,method='SLSQP',bounds=bnds,\\\n",
    "                   #tol=1e-24,options={  'ftol': 1e-24,  'eps': 1e-12});min_param\n",
    "    error = np.divide ( abs(min_param.x - param_real),param_real )\n",
    "    \n",
    "    return(min_param.x, error)"
   ]
  },
  {
   "cell_type": "code",
   "execution_count": 15,
   "metadata": {},
   "outputs": [],
   "source": [
    "#varying number of samples\n",
    "\n",
    "#N_test=np.array([10,50,100,500,1000,5000,10000,50000, 100000,500000, 1000000]) #np.arange(100,10000,1000)\n",
    "N_test=np.array([10,50,100,500,1000,5000,10000,50000]) #np.arange(100,10000,1000)\n",
    "\n",
    "err_fixeddt=np.zeros((len(N_test),2))\n",
    "#res=np.zeros((len(N_test),2))\n",
    "\n",
    "param_real_test=np.array([100,10])\n",
    "param_initial_test= np.array([13,7])\n",
    "\n",
    "fix_dt=1\n",
    "\n",
    "for i in range(0,len(N_test)):\n",
    "    disc_test=np.array([N_test[i],fix_dt])\n",
    "    _,err_fixeddt[i,:]=covergence_test(disc_test,param_real_test,param_initial_test)\n"
   ]
  },
  {
   "cell_type": "code",
   "execution_count": 16,
   "metadata": {},
   "outputs": [
    {
     "data": {
      "image/png": "[encoded data removed]",
      "text/plain": [
       "<Figure size 432x288 with 1 Axes>"
      ]
     },
     "metadata": {
      "needs_background": "light"
     },
     "output_type": "display_data"
    }
   ],
   "source": [
    "plt.title('')\n",
    "plt.xlabel('log(N)')\n",
    "plt.ylabel('log(relative error)')\n",
    "plt.plot(np.log10(N_test),  np.log10(err_fixeddt[:,0]), label='$\\mu$')\n",
    "plt.plot(np.log10(N_test),  np.log10(err_fixeddt[:,1]) , label='$\\sigma$')\n",
    "abline(-0.5,0)\n",
    "plt.legend()\n",
    "plt.savefig('case11test215.pdf')"
   ]
  },
  {
   "cell_type": "code",
   "execution_count": null,
   "metadata": {},
   "outputs": [],
   "source": []
  }
 ],
 "metadata": {
  "kernelspec": {
   "display_name": "Python 3",
   "language": "python",
   "name": "python3"
  },
  "language_info": {
   "codemirror_mode": {
    "name": "ipython",
    "version": 3
   },
   "file_extension": ".py",
   "mimetype": "text/x-python",
   "name": "python",
   "nbconvert_exporter": "python",
   "pygments_lexer": "ipython3",
   "version": "3.7.1"
  }
 },
 "nbformat": 4,
 "nbformat_minor": 2
}
