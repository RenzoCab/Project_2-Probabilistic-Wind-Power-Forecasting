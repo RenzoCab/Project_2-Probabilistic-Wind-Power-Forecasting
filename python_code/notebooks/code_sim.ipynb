{
 "cells": [
  {
   "cell_type": "code",
   "execution_count": null,
   "metadata": {},
   "outputs": [],
   "source": [
    "import numpy as np\n",
    "import matplotlib.pyplot as plt\n",
    "import matplotlib.cm as cm\n",
    "import scipy.stats\n",
    "from scipy.optimize import minimize\n",
    "from scipy.stats import multivariate_normal\n",
    "from mpl_toolkits.mplot3d import Axes3D\n",
    "import operator\n",
    "from scipy.optimize import minimize"
   ]
  },
  {
   "cell_type": "code",
   "execution_count": null,
   "metadata": {},
   "outputs": [],
   "source": [
    "#initialize plotting canvas\n",
    "%matplotlib tk \n",
    "fig = plt.figure( num=1, clear=True)"
   ]
  },
  {
   "cell_type": "code",
   "execution_count": null,
   "metadata": {},
   "outputs": [],
   "source": [
    "#generate one path\n",
    "def gen_path(x_0in,N_in,T_in, b_in, sig_in):\n",
    "    #T  time limit\n",
    "    # N #steps\n",
    "    dt = T_in/N_in \n",
    "    x = np.zeros(N_in) #container\n",
    "    #b=np.zeros_like(x)\n",
    "    #sig=np.zeros_like(x)\n",
    "    #generate normal distributed \n",
    "    dW=np.random.normal(0, 1, N_in)\n",
    "    #initialize\n",
    "    # x_0 \n",
    "    x[0]=x_0in\n",
    "    for i in range(1,N):\n",
    "        x[i] =x[i-1] + b_in[i]*dt + sig_in[i]*np.sqrt(dt)*dW[i]\n",
    "    return(x)"
   ]
  },
  {
   "cell_type": "code",
   "execution_count": null,
   "metadata": {},
   "outputs": [],
   "source": [
    "#generate l number of paths\n",
    "def sample_paths(x_0in,N_in,T_in, b_in, sig_in,l_in):\n",
    "    x_set=np.zeros((N_in,l_in))\n",
    "    for i in range(0,l_in):\n",
    "        x_set[:,i]=gen_path(x_0in,N_in,T_in, b_in, sig_in)\n",
    "    return(x_set)"
   ]
  },
  {
   "cell_type": "code",
   "execution_count": null,
   "metadata": {},
   "outputs": [],
   "source": [
    "# the liklihood function of the gaussian transition densities\n",
    "def dist_m(param,X): #X are pairs of x_i and x_{i-1}\n",
    "    f=0\n",
    "    for i in range(1,len(X)):\n",
    "        f=f+np.log(multivariate_normal.pdf(X[i]-X[i-1],param[0], int_param[1]  )) \n",
    "        #f=f+np.log(multivariate_normal.pdf(X[i]-X[i-1],param[1:3]*, int_param[2:6].reshape((2, 2))  )) \n",
    "    return(-1*f)"
   ]
  },
  {
   "cell_type": "code",
   "execution_count": null,
   "metadata": {},
   "outputs": [],
   "source": [
    "# the liklihood function of the gaussian transition densities\n",
    "def dist_m2(param,X_in): #X are vector pairs of x_i and x_{i-1}\n",
    "    f=0\n",
    "    \n",
    "    X_in.shape[1] # number of paths\n",
    "    \n",
    "    mean=np.repeat(param[0],X_in.shape[1]) #vectorize the mean\n",
    "    \n",
    "    sig=np.diag(np.repeat(param[1],X_in.shape[1])) #covariance diagonal matrix\n",
    "    \n",
    "    for i in range(1,X_in.shape[0]):\n",
    "        f=f + log(exp(-x**2/2)/sqrt(2*pi))\n",
    "        #f=f+np.log(multivariate_normal.pdf(X_in[i,:]-X_in[i-1,:],mean, sig  )) \n",
    "        #f=f+np.log(multivariate_normal.pdf(X[i]-X[i-1],param[1:3]*, int_param[2:6].reshape((2, 2))  )) \n",
    "    return(-1*f)\n"
   ]
  },
  {
   "cell_type": "code",
   "execution_count": null,
   "metadata": {},
   "outputs": [],
   "source": [
    "#path set parameters\n",
    "\n",
    "N=1000\n",
    "sig1 = np.zeros(N);\n",
    "b1 = np.zeros(N);\n",
    "sig1[:]=50\n",
    "b1[:]=100\n",
    "x_01=0\n",
    "T1=1\n",
    "l1=10\n",
    "dt=T1/N\n",
    "\n",
    "#genrate paths\n",
    "xs=sample_paths(x_01,N,T1, b1, sig1,l1)\n",
    "\n",
    "#plotting the paths\n",
    "ax1 = fig.add_subplot(421)\n",
    "ax1.cla()\n",
    "ax1.plot(xs);\n",
    "\n",
    "print('mean=',(b1*dt)[0], 'variance=',(sig1*dt)[0]);"
   ]
  },
  {
   "cell_type": "code",
   "execution_count": null,
   "metadata": {},
   "outputs": [],
   "source": [
    "ax2 = fig.add_subplot(422)\n",
    "ax2.cla()\n",
    "ax2.plot(xs[:,0]);"
   ]
  },
  {
   "cell_type": "code",
   "execution_count": null,
   "metadata": {},
   "outputs": [],
   "source": [
    "#plot the liklihood\n",
    "#dist_m2(int_param, xs)"
   ]
  },
  {
   "cell_type": "code",
   "execution_count": null,
   "metadata": {},
   "outputs": [],
   "source": [
    "int_param=np.array(  [1.5,0.1]  , dtype=float);\n",
    "#dist_m2(int_param, xs)\n",
    "args=xs\n",
    "x0=int_param\n",
    "bnds = ((0.001, 0.001), (5000, 5000))\n",
    "min_param=minimize(dist_m2,x0,args,bounds=bnds, tol=1e-10);min_param"
   ]
  },
  {
   "cell_type": "code",
   "execution_count": null,
   "metadata": {},
   "outputs": [],
   "source": []
  },
  {
   "cell_type": "code",
   "execution_count": null,
   "metadata": {},
   "outputs": [],
   "source": [
    "#X=np.array([ 1,7,3,5,4,7,8,5 ]);\n",
    "X=xs\n",
    "int_param=np.array(  [0.1,1]  , dtype=float);\n",
    "dist_m(int_param, X)\n",
    "args=X\n",
    "x0=int_param\n",
    "min_param=minimize(dist_m,x0,args);min_param"
   ]
  },
  {
   "cell_type": "code",
   "execution_count": null,
   "metadata": {},
   "outputs": [],
   "source": [
    "#contour plot - toy model\n",
    "#x, y = np.mgrid[-1:1:.01, -1:1:.01]\n",
    "#pos = np.empty(x.shape + (2,))\n",
    "#pos[:, :, 0] = x; pos[:, :, 1] = y\n",
    "#f1 = multivariate_normal.pdf(pos, mean=[0, 0], cov=[5, 2])\n",
    "#f2 = multivariate_normal.pdf(pos, mean=[1, 2], cov=[5, 2])\n",
    "#ax2 = fig.add_subplot(623)\n",
    "#ax2.contourf(x, y, f1);\n",
    "\n",
    "#Inverted Multivariate normal as a function (with flattened param) - Toy Model\n",
    "\n",
    "#dist_func_flat = lambda param,pos_in: -1*multivariate_normal.pdf(pos_in,param[1:3], param[2:4])\n",
    "\n",
    "#optimizing x wrt to given parameters - toy model\n",
    "\n",
    "#param= np.array( [ [0,0] , [1,1] ] )\n",
    "#x0=[2,4] #initial position\n",
    "#min1=minimize(dist_func,x0, args=(param));min1\n",
    "\n",
    "#ax4 = fig.add_subplot(624, projection='3d')\n",
    "#f=dist_func(pos,param)\n",
    "\n",
    "#ax4.plot_surface(x, y, f, cmap=cm.coolwarm,linewidth=0, antialiased=False)\n",
    "#ax4.scatter(min1.x[0], min1.x[1], dist_func(min1.x,param), marker='^',s=600)\n",
    "\n",
    "# rotate the axes and update\n",
    "#for angle in range(0, 360):\n",
    "    #ax.view_init(30, angle)\n",
    "    #plt.draw()\n",
    "    #plt.pause(.001)\n",
    "\n",
    "#4D coordinates\n",
    "#x, y,z,w = np.mgrid[-1:1:.01,-1:1:.01,-1:1:.01,-1:1:.01]\n",
    "#pos = np.empty(x.shape + (4,))\n",
    "#pos[:, :,:,:, 0] = x; pos[:, :,:,:, 1] = y; pos[:, :,:,:, 2] = z; pos[:, :,:,:, 3] = w\n",
    "\n",
    "#2D case of minimization\n",
    "\n",
    "#int_param=np.array(  [0,0,1,7,2,10]  , dtype=float)\n",
    "#X=np.array([ [0,0],[2,4],[1,4], [2,6] ])\n",
    "#args=X\n",
    "#x0=int_param\n",
    "#min_param=minimize(dist_m,x0,args);min_param"
   ]
  },
  {
   "cell_type": "code",
   "execution_count": null,
   "metadata": {},
   "outputs": [],
   "source": []
  },
  {
   "cell_type": "code",
   "execution_count": null,
   "metadata": {},
   "outputs": [],
   "source": []
  }
 ],
 "metadata": {
  "kernelspec": {
   "display_name": "Python 3",
   "language": "python",
   "name": "python3"
  },
  "language_info": {
   "codemirror_mode": {
    "name": "ipython",
    "version": 3
   },
   "file_extension": ".py",
   "mimetype": "text/x-python",
   "name": "python",
   "nbconvert_exporter": "python",
   "pygments_lexer": "ipython3",
   "version": "3.7.1"
  }
 },
 "nbformat": 4,
 "nbformat_minor": 2
}
