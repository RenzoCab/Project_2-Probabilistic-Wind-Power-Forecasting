{
 "cells": [
  {
   "cell_type": "markdown",
   "metadata": {},
   "source": [
    "## gives excellent convergence in number of samples and paths with reasonable parameters. Case of constant forecast = 1/2 and constant parameters "
   ]
  },
  {
   "cell_type": "code",
   "execution_count": 1,
   "metadata": {},
   "outputs": [],
   "source": [
    "from multi_path_base import *"
   ]
  },
  {
   "cell_type": "code",
   "execution_count": null,
   "metadata": {},
   "outputs": [
    {
     "name": "stdout",
     "output_type": "stream",
     "text": [
      "Try # : 1\n"
     ]
    }
   ],
   "source": [
    "#Increasing number of paths M\n",
    "\n",
    "real_1 = real(0.5,0.3)\n",
    "N=100\n",
    "dt=1\n",
    "\n",
    "sandy=np.linspace(1e-3,60,N)\n",
    "\n",
    "forecast=lambda x: 0.5 +0.30*np.sin(0.1*x)\n",
    "p= forecast(sandy)\n",
    "\n",
    "M_test=np.array((2,4,10,100,500,1000)) #,500,10000\n",
    "\n",
    "models_M=[]\n",
    "error_M=np.zeros((len(M_test),2))\n",
    "for j in range(0,len(M_test)):\n",
    "\n",
    "    disct_temp = disct(N,dt,M_test[j])\n",
    "        \n",
    "    X=gen_path_beta_robust(X0=0, disct=disct_temp,real=real_1, forecast=p )\n",
    "        \n",
    "    this_model=model_beta_flex(disct_temp,X, forecast=p )\n",
    "    this_model.optimize()\n",
    "        \n",
    "    error_M[j]=this_model.get_error(real_1)\n",
    "    \n",
    "    del this_model\n",
    "    #models_M.append(this_model)\n",
    "    "
   ]
  },
  {
   "cell_type": "code",
   "execution_count": null,
   "metadata": {},
   "outputs": [],
   "source": [
    "plt.title('Convergence in the number of paths M with N=100')\n",
    "plt.xlabel('log(M)')\n",
    "plt.ylabel('log(relative error)')\n",
    "plt.plot(np.log10(M_test),  np.log10(error_M[:,0]),'-o', label='$\\mu$')\n",
    "plt.plot(np.log10(M_test),  np.log10(error_M[:,1]) ,'-o', label='$\\sigma$')\n",
    "abline(-0.5,0.1)\n",
    "plt.legend()\n",
    "plt.savefig('conv_M_beta_flex_15.pdf')"
   ]
  },
  {
   "cell_type": "code",
   "execution_count": null,
   "metadata": {},
   "outputs": [],
   "source": [
    "error_M[:,0]"
   ]
  },
  {
   "cell_type": "code",
   "execution_count": null,
   "metadata": {},
   "outputs": [],
   "source": [
    "error_M[:,1]"
   ]
  },
  {
   "cell_type": "code",
   "execution_count": null,
   "metadata": {},
   "outputs": [],
   "source": [
    "#Increasing number of samples N\n",
    "\n",
    "real_1 = real(0.5,0.3)\n",
    "\n",
    "N_test=np.array(( 10,50,100)) #,5000,10000\n",
    "\n",
    "#N_test=np.array((10,100,500))\n",
    "\n",
    "M=100\n",
    "\n",
    "dt=1\n",
    "forecast=lambda x: 0.3 +0.30*np.sin(x)\n",
    "models_N=[]\n",
    "error_N=np.zeros((len(N_test),2))\n",
    "\n",
    "for i in range(0,len(N_test)):\n",
    "    \n",
    "    sandy=np.linspace(1e-3,60,N_test[i])\n",
    "    \n",
    "    \n",
    "    p= forecast(sandy)\n",
    "\n",
    "    disct_temp = disct(N_test[i],dt,M)\n",
    "        \n",
    "    X=gen_path_beta_robust(X0=0, disct=disct_temp,real=real_1, forecast=p )\n",
    "        \n",
    "    this_model=model_beta_flex(disct_temp,X,forecast=p )\n",
    "    this_model.optimize()\n",
    "        \n",
    "    error_N[i]=this_model.get_error(real_1)\n",
    "    \n",
    "    del this_model\n",
    "    #models_N.append(this_model)"
   ]
  },
  {
   "cell_type": "code",
   "execution_count": null,
   "metadata": {},
   "outputs": [],
   "source": [
    "plt.title('Convergence in the number of samples N with M=100')\n",
    "plt.xlabel('log(N)')\n",
    "plt.ylabel('log(relative error)')\n",
    "plt.plot(np.log10(N_test),  np.log10(error_N[:,0]), '-o',label='$\\mu$')\n",
    "plt.plot(np.log10(N_test),  np.log10(error_N[:,1]) ,'-o', label='$\\sigma$')\n",
    "abline(-0.5,-1)\n",
    "plt.legend()\n",
    "plt.savefig('conv_N_beta_flex_15.pdf')"
   ]
  },
  {
   "cell_type": "code",
   "execution_count": null,
   "metadata": {},
   "outputs": [],
   "source": [
    "error_N[:,0]"
   ]
  },
  {
   "cell_type": "code",
   "execution_count": null,
   "metadata": {},
   "outputs": [],
   "source": [
    "error_N[:,1]"
   ]
  },
  {
   "cell_type": "code",
   "execution_count": null,
   "metadata": {},
   "outputs": [],
   "source": []
  }
 ],
 "metadata": {
  "kernelspec": {
   "display_name": "Python 3",
   "language": "python",
   "name": "python3"
  },
  "language_info": {
   "codemirror_mode": {
    "name": "ipython",
    "version": 3
   },
   "file_extension": ".py",
   "mimetype": "text/x-python",
   "name": "python",
   "nbconvert_exporter": "python",
   "pygments_lexer": "ipython3",
   "version": "3.7.1"
  }
 },
 "nbformat": 4,
 "nbformat_minor": 2
}
