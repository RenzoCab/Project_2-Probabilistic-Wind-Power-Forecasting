{
 "cells": [
  {
   "cell_type": "markdown",
   "metadata": {},
   "source": [
    "### Does not provide a clear cut conclusion about increasing theta and how it affects the optimization of the likelihood"
   ]
  },
  {
   "cell_type": "code",
   "execution_count": 110,
   "metadata": {},
   "outputs": [],
   "source": [
    "from multi_path_base import *"
   ]
  },
  {
   "cell_type": "code",
   "execution_count": 133,
   "metadata": {},
   "outputs": [
    {
     "name": "stderr",
     "output_type": "stream",
     "text": [
      "/Users/alhaddwt/Dropbox/GitLab/wind-power/python_code/multi_path_base.py:277: RuntimeWarning: overflow encountered in double_scalars\n",
      "  L_n = L_n  - ( X[j,i] - a   )**2/(2*b**2) -0.5*np.log(2*math.pi*b**2) #  removed dt from both terms\n"
     ]
    }
   ],
   "source": [
    "#changing theta \n",
    "\n",
    "#theta= 0.5\n",
    "alpha=0.8\n",
    "M=1000\n",
    "N=50\n",
    "X0=0\n",
    "\n",
    "start=1e-3\n",
    "end=7\n",
    "L=100\n",
    "theta_test=[0.05,0.1,1,5]\n",
    "alpha_result=np.zeros((len(theta_test)))\n",
    "\n",
    "r=np.zeros((len(theta_test), L))\n",
    "s=np.linspace(start,end,L)\n",
    "\n",
    "for j in range(0,len(theta_test)):\n",
    "    dt=0.1\n",
    "    theta=theta_test[j]\n",
    "    test_1_param=real(theta,alpha)\n",
    "    disct_test=disct(N=N,dt=dt,M=M)\n",
    "    V=gen_path_model_moments(X0,disct_test,test_1_param)\n",
    "    mm_1=model_moments(disct_test,V )\n",
    "    mm_1.optimize()\n",
    "    alpha_result[j]=mm_1.optimal.sigma\n",
    "    \n",
    "    for i in range(0,L):\n",
    "        r[j,i]=mm_1.likelihood(np.array([s[i] , alpha_result[j]]))"
   ]
  },
  {
   "cell_type": "code",
   "execution_count": 135,
   "metadata": {},
   "outputs": [
    {
     "data": {
      "text/plain": [
       "Text(0, 0.5, 'log(Likelihood)')"
      ]
     },
     "execution_count": 135,
     "metadata": {},
     "output_type": "execute_result"
    },
    {
     "data": {
      "image/png": "[encoded data removed]",
      "text/plain": [
       "<Figure size 432x288 with 1 Axes>"
      ]
     },
     "metadata": {
      "needs_background": "light"
     },
     "output_type": "display_data"
    }
   ],
   "source": [
    "st=0;\n",
    "f=200;\n",
    "\n",
    "#plt.plot(s[st:f],r[7,st:f], label='$\\\\theta$ = '+str(theta_test[7]))\n",
    "#plt.plot(s[st:f],r[6,st:f], label='$\\\\theta$ = '+str(theta_test[6]))\n",
    "#plt.plot(s[st:f],r[5,st:f], label='$\\\\theta$ = '+str(theta_test[5]))\n",
    "\n",
    "#plt.plot(s[st:f],r[4,st:f], label='$\\\\theta$ = '+str(theta_test[4]))\n",
    "\n",
    "plt.plot(s[st:f],r[3,st:f], label='$\\\\theta$ = '+str(theta_test[3]))\n",
    "plt.plot(s[st:f],r[2,st:f], label='$\\\\theta$ = '+str(theta_test[2]))\n",
    "plt.plot(s[st:f],r[1,st:f], label='$\\\\theta$ = '+str(theta_test[1]))\n",
    "plt.plot(s[st:f],r[0,st:f], label='$\\\\theta$ = '+str(theta_test[0]))\n",
    "plt.ylim([-2e9, 1e11])\n",
    "plt.xlim([-0.1, 7])\n",
    "plt.legend()\n",
    "plt.title('Increasing $\\\\theta$ ')\n",
    "plt.xlabel('$\\\\theta$')\n",
    "plt.ylabel('log(Likelihood)')\n",
    "\n"
   ]
  },
  {
   "cell_type": "code",
   "execution_count": 145,
   "metadata": {},
   "outputs": [
    {
     "data": {
      "text/plain": [
       "Text(0, 0.5, 'log(Likelihood)')"
      ]
     },
     "execution_count": 145,
     "metadata": {},
     "output_type": "execute_result"
    },
    {
     "data": {
      "image/png": "[encoded data removed]",
      "text/plain": [
       "<Figure size 432x288 with 1 Axes>"
      ]
     },
     "metadata": {
      "needs_background": "light"
     },
     "output_type": "display_data"
    }
   ],
   "source": [
    "st=0;\n",
    "f=200;\n",
    "\n",
    "#plt.plot(s[st:f],r[7,st:f], label='$\\\\theta$ = '+str(theta_test[7]))\n",
    "#plt.plot(s[st:f],r[6,st:f], label='$\\\\theta$ = '+str(theta_test[6]))\n",
    "#plt.plot(s[st:f],r[5,st:f], label='$\\\\theta$ = '+str(theta_test[5]))\n",
    "\n",
    "#plt.plot(s[st:f],r[4,st:f], label='$\\\\theta$ = '+str(theta_test[4]))\n",
    "\n",
    "#plt.plot(s[st:f],r[3,st:f], label='$\\\\theta$ = '+str(theta_test[3]))\n",
    "#plt.plot(s[st:f],r[2,st:f], label='$\\\\theta$ = '+str(theta_test[2]))\n",
    "plt.plot(s[st:f],r[1,st:f],'o', label='$\\\\theta$ = '+str(theta_test[1]))\n",
    "#plt.plot(s[st:f],r[0,st:f], label='$\\\\theta$ = '+str(theta_test[0]))\n",
    "\n",
    "#plt.ylim([0, 1e1])\n",
    "plt.xlim([0.08, 0.12])\n",
    "plt.legend()\n",
    "plt.title('Increasing $\\\\theta$ ')\n",
    "plt.xlabel('$\\\\theta$')\n",
    "plt.ylabel('log(Likelihood)')"
   ]
  },
  {
   "cell_type": "code",
   "execution_count": null,
   "metadata": {},
   "outputs": [],
   "source": []
  }
 ],
 "metadata": {
  "kernelspec": {
   "display_name": "Python 3",
   "language": "python",
   "name": "python3"
  },
  "language_info": {
   "codemirror_mode": {
    "name": "ipython",
    "version": 3
   },
   "file_extension": ".py",
   "mimetype": "text/x-python",
   "name": "python",
   "nbconvert_exporter": "python",
   "pygments_lexer": "ipython3",
   "version": "3.7.1"
  }
 },
 "nbformat": 4,
 "nbformat_minor": 2
}
