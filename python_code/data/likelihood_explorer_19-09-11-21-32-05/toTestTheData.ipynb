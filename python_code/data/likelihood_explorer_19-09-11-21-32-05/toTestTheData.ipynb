{
 "cells": [
  {
   "cell_type": "code",
   "execution_count": 1,
   "metadata": {},
   "outputs": [],
   "source": [
    "import numpy as np"
   ]
  },
  {
   "cell_type": "code",
   "execution_count": 4,
   "metadata": {},
   "outputs": [],
   "source": [
    "Z_grid = np.load('value.npy')\n",
    "X_grid = np.load('theta.npy')\n",
    "Y_grid = np.load('alpha.npy')\n",
    "M      = np.load('num_paths.npy')\n",
    "N      = np.load('interpolation_points.npy')"
   ]
  },
  {
   "cell_type": "code",
   "execution_count": 14,
   "metadata": {},
   "outputs": [
    {
     "name": "stdout",
     "output_type": "stream",
     "text": [
      "3.1528405056610984e+16\n",
      "1.05125\n",
      "0.051250000000000004\n",
      "100\n",
      "427\n"
     ]
    }
   ],
   "source": [
    "print(Z_grid[1][1])\n",
    "print(X_grid[1][1])\n",
    "print(Y_grid[1][1])\n",
    "print(M)\n",
    "print(N)"
   ]
  },
  {
   "cell_type": "code",
   "execution_count": null,
   "metadata": {},
   "outputs": [],
   "source": []
  }
 ],
 "metadata": {
  "kernelspec": {
   "display_name": "Python 3",
   "language": "python",
   "name": "python3"
  },
  "language_info": {
   "codemirror_mode": {
    "name": "ipython",
    "version": 3
   },
   "file_extension": ".py",
   "mimetype": "text/x-python",
   "name": "python",
   "nbconvert_exporter": "python",
   "pygments_lexer": "ipython3",
   "version": "3.7.4"
  }
 },
 "nbformat": 4,
 "nbformat_minor": 2
}
