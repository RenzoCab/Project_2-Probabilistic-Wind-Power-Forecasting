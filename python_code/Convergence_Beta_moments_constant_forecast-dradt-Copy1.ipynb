{
 "cells": [
  {
   "cell_type": "markdown",
   "metadata": {},
   "source": [
    "## gives excellent convergence in number of samples and paths with reasonable parameters. Case of constant forecast = 1/2 and constant parameters "
   ]
  },
  {
   "cell_type": "code",
   "execution_count": 1,
   "metadata": {},
   "outputs": [],
   "source": [
    "from multi_path_base import *\n",
    "#plt.rcParams['figure.figsize'] = [15, 10]\n",
    "#initialize plotting canvas\n",
    "%matplotlib tk \n"
   ]
  },
  {
   "cell_type": "code",
   "execution_count": 69,
   "metadata": {},
   "outputs": [
    {
     "name": "stdout",
     "output_type": "stream",
     "text": [
      "Try # : 1\n",
      "Try # : 2\n"
     ]
    }
   ],
   "source": [
    "#Increasing number of paths M\n",
    "\n",
    "real_1 = real(0.5,0.3);\n",
    "N=100;\n",
    "dt=1;\n",
    "M_test=100;\n",
    "\n",
    "sandy=np.linspace(1e-3,60,N)\n",
    "forecast=lambda x: 0.5 +0.37*np.sin(0.1*x)\n",
    "p= forecast(sandy)\n",
    "\n",
    "disct_temp = disct(N,dt,M_test)\n",
    "\n",
    "#X=gen_path_beta_flex(X0=0, disct=disct_temp,real=real_1, forecast=p )\n",
    "#gen_path_beta_robust\n",
    "X=gen_path_beta_robust(X0=0, disct=disct_temp,real=real_1, forecast=p )\n",
    "\n",
    "this_model=model_beta_flex(disct=disct_temp,data=X, forecast=p )\n"
   ]
  },
  {
   "cell_type": "code",
   "execution_count": 50,
   "metadata": {},
   "outputs": [],
   "source": [
    "fig = plt.figure( num=3, clear=True)\n",
    "plt.plot(this_model.forecast,'-');"
   ]
  },
  {
   "cell_type": "code",
   "execution_count": 42,
   "metadata": {},
   "outputs": [
    {
     "data": {
      "text/plain": [
       "(array([0.49163903, 0.309639  ]),\n",
       " b'CONVERGENCE: REL_REDUCTION_OF_F_<=_FACTR*EPSMCH')"
      ]
     },
     "execution_count": 42,
     "metadata": {},
     "output_type": "execute_result"
    }
   ],
   "source": [
    "this_model.optimize()"
   ]
  },
  {
   "cell_type": "code",
   "execution_count": 70,
   "metadata": {},
   "outputs": [],
   "source": [
    "%matplotlib tk \n",
    "sandy_plt=np.linspace(0,1,N)\n",
    "fig = plt.figure( num=2, clear=True)\n",
    "plt.ylim(0, 1)\n",
    "plt.plot(sandy_plt,this_model.forecast+this_model.data[0]);\n",
    "plt.plot(sandy_plt,this_model.forecast+this_model.data[1]);\n",
    "plt.plot(sandy_plt,this_model.forecast+this_model.data[2]);\n",
    "plt.plot(sandy_plt,this_model.forecast+this_model.data[3]);\n",
    "plt.plot(sandy_plt,this_model.forecast+this_model.data[4]);\n",
    "plt.title('Sample Paths with Beta transitions and a Time-dependent Forecast ')\n",
    "plt.ylabel('Normalized Forecast')\n",
    "plt.xlabel('Time')\n",
    "plt.grid(color='grey', linestyle='--', linewidth=0.2)\n",
    "plt.plot(sandy_plt,this_model.forecast);\n",
    "plt.savefig('sample_paths_beta_flex_0503.pdf')"
   ]
  },
  {
   "cell_type": "code",
   "execution_count": null,
   "metadata": {},
   "outputs": [],
   "source": [
    "this_model.likelihood(np.array((real_1.mu, real_1.sigma) ))  < this_model.likelihood(np.array((this_model.optimal.mu, this_model.optimal.sigma) ))"
   ]
  },
  {
   "cell_type": "code",
   "execution_count": 31,
   "metadata": {},
   "outputs": [],
   "source": [
    "plt.plot(sandy/60,this_model.forecast+this_model.data[0]);"
   ]
  },
  {
   "cell_type": "code",
   "execution_count": null,
   "metadata": {},
   "outputs": [],
   "source": [
    "this_model.likelihood(np.array((0.3,0.49)))"
   ]
  },
  {
   "cell_type": "code",
   "execution_count": 71,
   "metadata": {},
   "outputs": [],
   "source": [
    "x = np.linspace(1e-2, 1, 100)\n",
    "y = np.linspace(1e-2, 1, 100)\n",
    "X, Y = np.meshgrid(x, y)\n",
    "Z = this_model.likelihood(np.array((X,Y)))"
   ]
  },
  {
   "cell_type": "code",
   "execution_count": 74,
   "metadata": {},
   "outputs": [
    {
     "data": {
      "text/plain": [
       "<mpl_toolkits.mplot3d.art3d.Poly3DCollection at 0x7ff1a0f7b630>"
      ]
     },
     "execution_count": 74,
     "metadata": {},
     "output_type": "execute_result"
    }
   ],
   "source": [
    "%matplotlib tk \n",
    "fig = plt.figure( num=1, clear=True)\n",
    "ax = plt.axes(projection='3d')\n",
    "#ax.contour3D(X, Y, Z, 1000, cmap='binary')\n",
    "ax.set_xlabel('x');\n",
    "ax.set_ylabel('y');\n",
    "ax.set_zlabel('z');\n",
    "ax.set_zlim([-0.5e7,1e7])\n",
    "ax.plot_surface(X, Y, Z, rstride=5, cstride=5,cmap='viridis')"
   ]
  },
  {
   "cell_type": "code",
   "execution_count": null,
   "metadata": {},
   "outputs": [],
   "source": []
  }
 ],
 "metadata": {
  "kernelspec": {
   "display_name": "Python 3",
   "language": "python",
   "name": "python3"
  },
  "language_info": {
   "codemirror_mode": {
    "name": "ipython",
    "version": 3
   },
   "file_extension": ".py",
   "mimetype": "text/x-python",
   "name": "python",
   "nbconvert_exporter": "python",
   "pygments_lexer": "ipython3",
   "version": "3.7.1"
  }
 },
 "nbformat": 4,
 "nbformat_minor": 2
}
