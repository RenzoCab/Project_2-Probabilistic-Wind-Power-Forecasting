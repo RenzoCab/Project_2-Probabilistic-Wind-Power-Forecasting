{
 "cells": [
  {
   "cell_type": "code",
   "execution_count": 8,
   "metadata": {},
   "outputs": [],
   "source": [
    "from multi_path_base import *"
   ]
  },
  {
   "cell_type": "code",
   "execution_count": 9,
   "metadata": {},
   "outputs": [
    {
     "data": {
      "image/png": "[encoded data removed]",
      "text/plain": [
       "<Figure size 432x288 with 1 Axes>"
      ]
     },
     "metadata": {
      "needs_background": "light"
     },
     "output_type": "display_data"
    }
   ],
   "source": [
    "#changing alpha\n",
    "\n",
    "theta= 10\n",
    "#alpha=10\n",
    "M=1000\n",
    "N=50\n",
    "X0=0\n",
    "\n",
    "start=1e-3\n",
    "end=10\n",
    "L=100\n",
    "r=np.zeros((L))\n",
    "s=np.linspace(start,end,L)\n",
    "\n",
    "\n",
    "for j in [0.1,0.5,1,2,3]:\n",
    "    dt=0.1\n",
    "    alpha=j\n",
    "    test_1_param=real(theta,alpha)\n",
    "    disct_test=disct(N=N,dt=dt,M=M)\n",
    "    V=gen_path_model_moments(X0,disct_test,test_1_param)\n",
    "    mm_1=model_moments(disct_test,V )\n",
    "    \n",
    "    for i in range(0,L):\n",
    "        r[i]=mm_1.likelihood(np.array([ theta, s[i]]))\n",
    "    plt.plot(s,r, label='alpha = '+str(j))\n",
    "    plt.legend()\n",
    "    plt.savefig(str(j)+'_alpha_close_up_moments.pdf')"
   ]
  },
  {
   "cell_type": "code",
   "execution_count": null,
   "metadata": {},
   "outputs": [],
   "source": []
  }
 ],
 "metadata": {
  "kernelspec": {
   "display_name": "Python 3",
   "language": "python",
   "name": "python3"
  },
  "language_info": {
   "codemirror_mode": {
    "name": "ipython",
    "version": 3
   },
   "file_extension": ".py",
   "mimetype": "text/x-python",
   "name": "python",
   "nbconvert_exporter": "python",
   "pygments_lexer": "ipython3",
   "version": "3.7.1"
  }
 },
 "nbformat": 4,
 "nbformat_minor": 2
}
