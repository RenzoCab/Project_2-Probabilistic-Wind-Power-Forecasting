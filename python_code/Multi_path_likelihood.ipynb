{
 "cells": [
  {
   "cell_type": "code",
   "execution_count": 376,
   "metadata": {},
   "outputs": [],
   "source": [
    "import numpy as np\n",
    "import matplotlib.pyplot as plt\n",
    "import matplotlib.cm as cm\n",
    "import scipy.stats\n",
    "from scipy.optimize import minimize\n",
    "from scipy.stats import multivariate_normal\n",
    "from mpl_toolkits.mplot3d import Axes3D\n",
    "import operator\n",
    "from scipy.optimize import minimize\n",
    "import math\n",
    "import random"
   ]
  },
  {
   "cell_type": "code",
   "execution_count": 72,
   "metadata": {},
   "outputs": [],
   "source": [
    "class disct:\n",
    "  def __init__(self, N, dt, M ):\n",
    "    self.N = N\n",
    "    self.dt = dt\n",
    "    self.M = M"
   ]
  },
  {
   "cell_type": "code",
   "execution_count": 77,
   "metadata": {},
   "outputs": [],
   "source": [
    "class real:\n",
    "  def __init__(self, mu,sigma ):\n",
    "    self.mu = mu\n",
    "    self.sigma = sigma"
   ]
  },
  {
   "cell_type": "code",
   "execution_count": 315,
   "metadata": {},
   "outputs": [],
   "source": [
    "class optimal(real):\n",
    "  def __init__(self):\n",
    "    real.__init__(self, 0,0 )"
   ]
  },
  {
   "cell_type": "code",
   "execution_count": 407,
   "metadata": {},
   "outputs": [],
   "source": [
    "class model:\n",
    "    def __init__(self, disct, data,ic=0 ):\n",
    "        self.disct = disct\n",
    "        self.data = data\n",
    "        self.ic = ic\n",
    "        self.optimal=optimal()\n",
    "\n",
    "    def likelihood(self,param):\n",
    "        #data\n",
    "        X=self.data\n",
    "    \n",
    "        #discretization object\n",
    "        N=self.disct.N\n",
    "        dt=self.disct.dt\n",
    "        M=self.disct.M\n",
    "    \n",
    "        #input parameters\n",
    "        a,b = param;\n",
    "    \n",
    "        L_n=0\n",
    "        L_m=0\n",
    "    \n",
    "        for j in range(0,M):\n",
    "            L_m = L_m + L_n\n",
    "            for i in range(1,N): \n",
    "                L_n = L_n  - (X[j,i]- X[j,i-1] - a*dt )**2/(2*dt*b**2) -0.5*np.log(2*math.pi*b**2*dt)    \n",
    "    \n",
    "        return(-1*L_m)\n",
    "    \n",
    "    def renew(self,real):\n",
    "    \n",
    "        N=self.disct.N\n",
    "        dt=self.disct.dt\n",
    "        M=self.disct.M\n",
    "\n",
    "        X = np.zeros((M,N))\n",
    "\n",
    "        #p=0.5 + 0.5*np.sin(np.linspace(0,2*math.pi,N))\n",
    "\n",
    "        dW=np.sqrt(dt)*np.random.normal(0, 1, N)\n",
    "\n",
    "        X0=self.ic\n",
    "\n",
    "        for j in range(0,M):\n",
    "\n",
    "            dW=np.sqrt(dt)*np.random.normal(0, 1, N)\n",
    "\n",
    "            for i in range(1,N):\n",
    "                X[j,0]=X0\n",
    "                b= real.sigma      #sig_real*X[i-1]*(1-X[i-1])\n",
    "                a= real.mu       #mu_real*(0.5 - X[i-1])\n",
    "                X[j,i]= X[j,i-1]+ a*dt+ b*dW[i-1]\n",
    "        self.data = X\n",
    "        \n",
    "        return()\n",
    "    \n",
    "    def optimize(self, param_initial=np.random.uniform(size=2)*10, bnds = ((None, None), (1e-5, None))):\n",
    "    \n",
    "        mu_initial,sig_initial=param_initial\n",
    "        \n",
    "        min_param=minimize(self.likelihood,param_initial,bounds=bnds);min_param\n",
    "        \n",
    "        self.optimal.mu= min_param.x[0]\n",
    "        self.optimal.sigma= min_param.x[1]\n",
    "        \n",
    "        return(min_param.x)"
   ]
  },
  {
   "cell_type": "code",
   "execution_count": 123,
   "metadata": {},
   "outputs": [],
   "source": [
    "def gen_path(X0,disct,real):\n",
    "    \n",
    "    N=disct.N\n",
    "    dt=disct.dt\n",
    "    M=disct.M\n",
    "    \n",
    "    X = np.zeros((M,N))\n",
    "    \n",
    "    #p=0.5 + 0.5*np.sin(np.linspace(0,2*math.pi,N))\n",
    "    \n",
    "    dW=np.sqrt(dt)*np.random.normal(0, 1, N)\n",
    "    \n",
    "    X0=0\n",
    "    \n",
    "    for j in range(0,M):\n",
    "        \n",
    "        dW=np.sqrt(dt)*np.random.normal(0, 1, N)\n",
    "        \n",
    "        for i in range(1,N):\n",
    "            X[j,0]=X0\n",
    "            b= sig_real      #sig_real*X[i-1]*(1-X[i-1])\n",
    "            a= mu_real       #mu_real*(0.5 - X[i-1])\n",
    "            X[j,i]= X[j,i-1]+ a*dt+ b*dW[i-1]\n",
    "        \n",
    "    return(X)"
   ]
  },
  {
   "cell_type": "code",
   "execution_count": 415,
   "metadata": {},
   "outputs": [],
   "source": [
    "disct_1 = disct(100,1/100,10)\n",
    "\n",
    "real_1 = real(100,10)\n",
    "\n",
    "X=gen_path(X0=0, disct=disct_1,real=real_1 )\n",
    "\n",
    "model_2 = model(disct_1,X )"
   ]
  },
  {
   "cell_type": "code",
   "execution_count": 416,
   "metadata": {},
   "outputs": [
    {
     "data": {
      "text/plain": [
       "110356.3034034913"
      ]
     },
     "execution_count": 416,
     "metadata": {},
     "output_type": "execute_result"
    }
   ],
   "source": [
    "\n",
    "param_test=np.array((1,2))\n",
    "\n",
    "model_2.likelihood(param_test)\n"
   ]
  },
  {
   "cell_type": "code",
   "execution_count": 418,
   "metadata": {},
   "outputs": [
    {
     "data": {
      "text/plain": [
       "0"
      ]
     },
     "execution_count": 418,
     "metadata": {},
     "output_type": "execute_result"
    }
   ],
   "source": [
    "model_2.optimal.sigma"
   ]
  },
  {
   "cell_type": "code",
   "execution_count": 426,
   "metadata": {},
   "outputs": [
    {
     "data": {
      "text/plain": [
       "array([99.3952996 , 10.21356798])"
      ]
     },
     "execution_count": 426,
     "metadata": {},
     "output_type": "execute_result"
    }
   ],
   "source": [
    "model_2.renew(real_1)\n",
    "\n",
    "model_2.optimize()\n"
   ]
  },
  {
   "cell_type": "code",
   "execution_count": 420,
   "metadata": {},
   "outputs": [
    {
     "data": {
      "text/plain": [
       "98.6250196442731"
      ]
     },
     "execution_count": 420,
     "metadata": {},
     "output_type": "execute_result"
    }
   ],
   "source": [
    "model_2.optimal.mu"
   ]
  },
  {
   "cell_type": "code",
   "execution_count": 421,
   "metadata": {},
   "outputs": [
    {
     "data": {
      "text/plain": [
       "10.41089621543373"
      ]
     },
     "execution_count": 421,
     "metadata": {},
     "output_type": "execute_result"
    }
   ],
   "source": [
    "model_2.optimal.sigma"
   ]
  },
  {
   "cell_type": "code",
   "execution_count": 424,
   "metadata": {},
   "outputs": [
    {
     "data": {
      "text/plain": [
       "0.01"
      ]
     },
     "execution_count": 424,
     "metadata": {},
     "output_type": "execute_result"
    }
   ],
   "source": [
    "model_2.disct.dt"
   ]
  },
  {
   "cell_type": "code",
   "execution_count": null,
   "metadata": {},
   "outputs": [],
   "source": []
  }
 ],
 "metadata": {
  "kernelspec": {
   "display_name": "Python 3",
   "language": "python",
   "name": "python3"
  },
  "language_info": {
   "codemirror_mode": {
    "name": "ipython",
    "version": 3
   },
   "file_extension": ".py",
   "mimetype": "text/x-python",
   "name": "python",
   "nbconvert_exporter": "python",
   "pygments_lexer": "ipython3",
   "version": "3.7.1"
  }
 },
 "nbformat": 4,
 "nbformat_minor": 2
}
