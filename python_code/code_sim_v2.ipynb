{
 "cells": [
  {
   "cell_type": "code",
   "execution_count": 36,
   "metadata": {},
   "outputs": [],
   "source": [
    "import numpy as np\n",
    "import matplotlib.pyplot as plt\n",
    "import matplotlib.cm as cm\n",
    "import scipy.stats\n",
    "from scipy.optimize import minimize\n",
    "from scipy.stats import multivariate_normal\n",
    "from mpl_toolkits.mplot3d import Axes3D\n",
    "import operator\n",
    "from scipy.optimize import minimize\n",
    "import math"
   ]
  },
  {
   "cell_type": "code",
   "execution_count": 37,
   "metadata": {},
   "outputs": [],
   "source": [
    "#initialize plotting canvas\n",
    "%matplotlib tk \n",
    "fig = plt.figure( num=1, clear=True)\n",
    "#seed\n",
    "seed_gen=np.random.uniform(0,1000,1).astype(int)\n",
    "np.random.seed(seed=seed_gen)"
   ]
  },
  {
   "cell_type": "code",
   "execution_count": 38,
   "metadata": {},
   "outputs": [],
   "source": [
    "#generate one path\n",
    "def gen_path(x_0in,N_in,T_in, b_in, sig_in):\n",
    "    #T  time limit\n",
    "    # N #steps\n",
    "    dt = T_in/N_in \n",
    "    x = np.zeros(N_in) #container\n",
    "    #generate normal distributed \n",
    "    dW=np.random.normal(0, 1, N_in)\n",
    "    #initialize\n",
    "    # x_0 \n",
    "    x[0]=x_0in\n",
    "    for i in range(1,N):\n",
    "        x[i] =x[i-1] + b_in*dt + sig_in*np.sqrt(dt)*dW[i]\n",
    "    return(x)"
   ]
  },
  {
   "cell_type": "code",
   "execution_count": 39,
   "metadata": {},
   "outputs": [],
   "source": [
    "# the liklihood function of the gaussian transition densities\n",
    "def dist_b(param_b,X,sig_in,T_in): #X are pairs of x_i and x_{i-1}\n",
    "    f=0\n",
    "    dt=T_in/len(X)\n",
    "    sig=10#set sigma\n",
    "    b=param_b\n",
    "    for i in range(1,len(X)):\n",
    "        f=f -(X[i]-X[i-1] - b*dt)**2/(2*dt*(sig)**2) - np.log(np.sqrt(2*math.pi*dt)*sig)\n",
    "    return(-1*f)"
   ]
  },
  {
   "cell_type": "code",
   "execution_count": 40,
   "metadata": {},
   "outputs": [],
   "source": [
    "# the liklihood function of the gaussian transition densities\n",
    "def dist_sig(param_sig,X,b_in,T_in): #X are pairs of x_i and x_{i-1}\n",
    "    f=0\n",
    "    dt=T_in/len(X)\n",
    "    b=b_in # set b\n",
    "    sig=param_sig\n",
    "    for i in range(1,len(X)):\n",
    "        f=f -(X[i]-X[i-1] - b*dt)**2/(2*dt*(sig)**2) - np.log(np.sqrt(2*math.pi*dt)*sig) \n",
    "    return(-1*f)"
   ]
  },
  {
   "cell_type": "code",
   "execution_count": 41,
   "metadata": {},
   "outputs": [],
   "source": [
    "# the liklihood function of the gaussian transition densities\n",
    "def dist_2d(param_2d,X, T_in): #X are pairs of x_i and x_{i-1}\n",
    "    f=0\n",
    "    dt=T_in/len(X)\n",
    "    sig=param_2d[1]\n",
    "    b=param_2d[0]\n",
    "    \n",
    "    #gamma prior\n",
    "    \n",
    "    a=2\n",
    "    loc=9\n",
    "    scale=3\n",
    "    \n",
    "    for i in range(1,len(X)):\n",
    "        f=f -(X[i]-X[i-1] - b*dt)**2/(2*dt*(sig)**2) - np.log(np.sqrt(2*math.pi*dt)*sig) \n",
    "            #+np.log(scipy.stats.gamma.pdf(sig, a, loc, scale))\n",
    "    return(-1*f)"
   ]
  },
  {
   "cell_type": "code",
   "execution_count": 42,
   "metadata": {},
   "outputs": [
    {
     "data": {
      "text/plain": [
       "0.8263064759476444"
      ]
     },
     "execution_count": 42,
     "metadata": {},
     "output_type": "execute_result"
    }
   ],
   "source": [
    "a=1.5\n",
    "loc=8\n",
    "scale=0.5\n",
    "scipy.stats.gamma.pdf(8.1, a, loc, scale)"
   ]
  },
  {
   "cell_type": "code",
   "execution_count": 43,
   "metadata": {},
   "outputs": [],
   "source": [
    "#path set parameters\n",
    "N=10000\n",
    "#sig_gen = np.zeros(N);\n",
    "#b_gen = np.zeros(N);\n",
    "sig_gen=10\n",
    "b_gen=100\n",
    "x_0=0\n",
    "T=1\n",
    "dt=T/N\n",
    "\n",
    "data=gen_path(x_0in=x_0,N_in=N,T_in=T, b_in=b_gen, sig_in=sig_gen)\n"
   ]
  },
  {
   "cell_type": "code",
   "execution_count": 44,
   "metadata": {},
   "outputs": [],
   "source": [
    "ax1 = fig.add_subplot(221)\n",
    "ax1.cla()\n",
    "ax1.plot(data);"
   ]
  },
  {
   "cell_type": "code",
   "execution_count": 45,
   "metadata": {},
   "outputs": [
    {
     "data": {
      "text/plain": [
       "      fun: -8741.90964369142\n",
       " hess_inv: array([[32.74598835]])\n",
       "      jac: array([-0.00024414])\n",
       "  message: 'Desired error not necessarily achieved due to precision loss.'\n",
       "     nfev: 179\n",
       "      nit: 5\n",
       "     njev: 56\n",
       "   status: 2\n",
       "  success: False\n",
       "        x: array([76.89430856])"
      ]
     },
     "execution_count": 45,
     "metadata": {},
     "output_type": "execute_result"
    }
   ],
   "source": [
    "int_mean=np.random.uniform(-1000,1000,1)\n",
    "T=1\n",
    "sig_op=sig_gen\n",
    "args=(data,sig_op,T)\n",
    "x0=int_mean\n",
    "min_param=minimize(dist_b,x0,args, tol=1e-15);min_param"
   ]
  },
  {
   "cell_type": "code",
   "execution_count": 46,
   "metadata": {},
   "outputs": [
    {
     "data": {
      "text/plain": [
       "      fun: array([-8740.15613733])\n",
       " hess_inv: <1x1 LbfgsInvHessProduct with dtype=float64>\n",
       "      jac: array([0.0336513])\n",
       "  message: b'CONVERGENCE: REL_REDUCTION_OF_F_<=_FACTR*EPSMCH'\n",
       "     nfev: 36\n",
       "      nit: 6\n",
       "   status: 0\n",
       "  success: True\n",
       "        x: array([10.09588029])"
      ]
     },
     "execution_count": 46,
     "metadata": {},
     "output_type": "execute_result"
    }
   ],
   "source": [
    "int_sig=np.random.uniform(0,100,1)\n",
    "T=1\n",
    "b_op=b_gen\n",
    "args=(data,b_op ,T)\n",
    "x0=int_sig\n",
    "bnds = np.array([(0.001,5000)])\n",
    "min_param=minimize(dist_sig,x0,args,bounds=bnds, tol=1e-12);min_param"
   ]
  },
  {
   "cell_type": "code",
   "execution_count": 47,
   "metadata": {},
   "outputs": [
    {
     "data": {
      "text/plain": [
       "      fun: -8742.776369865423\n",
       " hess_inv: array([[ 0.0127695 , -0.00637836],\n",
       "       [-0.00637836,  0.00326803]])\n",
       "      jac: array([-0.00427246, -0.01672363])\n",
       "  message: 'Desired error not necessarily achieved due to precision loss.'\n",
       "     nfev: 619\n",
       "      nit: 34\n",
       "     njev: 152\n",
       "   status: 2\n",
       "  success: False\n",
       "        x: array([76.86859668, 10.09324915])"
      ]
     },
     "execution_count": 47,
     "metadata": {},
     "output_type": "execute_result"
    }
   ],
   "source": [
    "int_param=np.array(  [3,1]  , dtype=float);\n",
    "T=1\n",
    "args=(data,T)\n",
    "x0=int_param\n",
    "#bnds = ((10, 10), (500, 25))\n",
    "#min_param=minimize(dist_2d,x0,args,bounds=bnds, tol=1e-12);min_param\n",
    "min_param=minimize(dist_2d,x0,args, tol=1e-12);min_param"
   ]
  },
  {
   "cell_type": "code",
   "execution_count": 48,
   "metadata": {},
   "outputs": [],
   "source": [
    "x, y = np.mgrid[-200:200:10, 1:25:1]\n",
    "pos = np.empty(x.shape + (2,))\n",
    "pos[:, :, 0] = x; pos[:, :, 1] = y"
   ]
  },
  {
   "cell_type": "code",
   "execution_count": 49,
   "metadata": {},
   "outputs": [],
   "source": [
    "value_pos=np.empty((pos.shape[0],pos.shape[1] ))\n",
    "for i in range(0,pos.shape[0]):\n",
    "    for j in range(0,pos.shape[1]):\n",
    "        value_pos[i,j]=dist_2d(pos[i,j,:],data,T_in=1)"
   ]
  },
  {
   "cell_type": "code",
   "execution_count": 53,
   "metadata": {},
   "outputs": [
    {
     "data": {
      "text/plain": [
       "<mpl_toolkits.mplot3d.art3d.Path3DCollection at 0x7f96881ef7b8>"
      ]
     },
     "execution_count": 53,
     "metadata": {},
     "output_type": "execute_result"
    }
   ],
   "source": [
    "ax2 = fig.add_subplot(212, projection='3d')\n",
    "ax2.cla()\n",
    "ax2.plot_surface(x, y, value_pos, cmap=cm.coolwarm,linewidth=0, antialiased=False)\n",
    "ax2.scatter(min_param.x[0], min_param.x[1], dist_2d(min_param.x,data,T_in=1), marker='^',s=600)"
   ]
  },
  {
   "cell_type": "code",
   "execution_count": null,
   "metadata": {},
   "outputs": [],
   "source": []
  }
 ],
 "metadata": {
  "kernelspec": {
   "display_name": "Python 3",
   "language": "python",
   "name": "python3"
  },
  "language_info": {
   "codemirror_mode": {
    "name": "ipython",
    "version": 3
   },
   "file_extension": ".py",
   "mimetype": "text/x-python",
   "name": "python",
   "nbconvert_exporter": "python",
   "pygments_lexer": "ipython3",
   "version": "3.7.1"
  }
 },
 "nbformat": 4,
 "nbformat_minor": 2
}
