{
 "cells": [
  {
   "cell_type": "markdown",
   "metadata": {},
   "source": [
    "## gives excellent convergence in number of samples and paths with reasonable parameters. Case of Sine wave forecast  and constant parameters "
   ]
  },
  {
   "cell_type": "code",
   "execution_count": 1,
   "metadata": {},
   "outputs": [],
   "source": [
    "from multi_path_base import *"
   ]
  },
  {
   "cell_type": "code",
   "execution_count": 2,
   "metadata": {},
   "outputs": [],
   "source": [
    "#Increasing number of paths M\n",
    "\n",
    "real_1 = real(0.15878588, 1.40043092) \n",
    "N=1000\n",
    "dt=1\n",
    "\n",
    "sandy=np.linspace(1e-3,60,N)\n",
    "\n",
    "forecast=lambda x: 0.5 +0.25*np.sin(0.1*x)\n",
    "p= forecast(sandy)\n",
    "\n",
    "M_test=np.array((1000,5000,10000)) #,500,10000\n",
    "\n",
    "models_M=[]\n",
    "error_M=np.zeros((len(M_test),2))\n",
    "for j in range(0,len(M_test)):\n",
    "\n",
    "    disct_temp = disct(N,dt,M_test[j])\n",
    "        \n",
    "    X=gen_path_beta_robust(X0=0, disct=disct_temp,real=real_1, forecast=p )\n",
    "        \n",
    "    this_model=model_beta_flex(disct_temp,X, forecast=p )\n",
    "    this_model.optimize()\n",
    "        \n",
    "    error_M[j]=this_model.get_error(real_1)\n",
    "    \n",
    "    del this_model\n",
    "    #models_M.append(this_model)\n"
   ]
  },
  {
   "cell_type": "code",
   "execution_count": 3,
   "metadata": {},
   "outputs": [
    {
     "data": {
      "image/png": "[encoded data removed]",
      "text/plain": [
       "<Figure size 432x288 with 1 Axes>"
      ]
     },
     "metadata": {
      "needs_background": "light"
     },
     "output_type": "display_data"
    }
   ],
   "source": [
    "plt.title('Convergence in the number of paths M with N=100')\n",
    "plt.xlabel('log(M)')\n",
    "plt.ylabel('log(relative error)')\n",
    "plt.plot(np.log10(M_test),  np.log10(error_M[:,0]),'-o', label='$\\\\theta$')\n",
    "plt.plot(np.log10(M_test),  np.log10(error_M[:,1]) ,'-o', label='$\\\\alpha$')\n",
    "abline(-0.5,0.7)\n",
    "plt.legend()\n",
    "plt.savefig('conv_M_beta_flex_25.pdf')"
   ]
  },
  {
   "cell_type": "code",
   "execution_count": 4,
   "metadata": {},
   "outputs": [
    {
     "data": {
      "text/plain": [
       "array([[3.61683794, 0.78346116],\n",
       "       [3.70379857, 0.78721125],\n",
       "       [3.8061834 , 0.79155138]])"
      ]
     },
     "execution_count": 4,
     "metadata": {},
     "output_type": "execute_result"
    }
   ],
   "source": [
    "error_M"
   ]
  },
  {
   "cell_type": "code",
   "execution_count": null,
   "metadata": {},
   "outputs": [],
   "source": [
    "plt.title('Convergence in the number of paths M with N=100')\n",
    "plt.xlabel('log(M)')\n",
    "plt.ylabel('log(relative error)')\n",
    "plt.plot(np.log10(M_test),  np.log10(error_M[:,0]),'-o', label='$\\\\theta$')\n",
    "plt.plot(np.log10(M_test),  np.log10(error_M[:,1]) ,'-o', label='$\\\\alpha$')\n",
    "abline(-0.5,0.7)\n",
    "plt.legend()\n",
    "plt.savefig('conv_M_beta_flex_25_3.pdf')"
   ]
  },
  {
   "cell_type": "code",
   "execution_count": null,
   "metadata": {},
   "outputs": [],
   "source": [
    "error_M"
   ]
  },
  {
   "cell_type": "code",
   "execution_count": null,
   "metadata": {},
   "outputs": [],
   "source": [
    "plt.plot(p +X[0,:])\n",
    "plt.plot(p +X[2,:])\n",
    "\n",
    "plt.plot(p ,'r-')"
   ]
  },
  {
   "cell_type": "code",
   "execution_count": null,
   "metadata": {},
   "outputs": [],
   "source": [
    "error_M[:,0]+0.5"
   ]
  },
  {
   "cell_type": "code",
   "execution_count": null,
   "metadata": {},
   "outputs": [],
   "source": [
    "error_M[:,1]+0.3"
   ]
  },
  {
   "cell_type": "code",
   "execution_count": null,
   "metadata": {},
   "outputs": [],
   "source": [
    "#Increasing number of samples N\n",
    "\n",
    "real_1 = real(0.5,0.3)\n",
    "\n",
    "N_test=np.array((50,100,150,200,250)) #,5000,10000\n",
    "\n",
    "#N_test=np.array((10,100,500))\n",
    "\n",
    "M=100\n",
    "\n",
    "dt=1\n",
    "forecast=lambda x: 0.5 +0.25*np.sin(0.1*x)\n",
    "#models_N=[]\n",
    "error_N=np.zeros((len(N_test),2))\n",
    "\n",
    "for i in range(0,len(N_test)):\n",
    "\n",
    "    sandy=np.linspace(0,60,N_test[i])\n",
    "    \n",
    "    p= forecast(sandy)\n",
    "    disct_temp = disct(N_test[i],dt,M)\n",
    "        \n",
    "    X=gen_path_beta_robust(X0=0, disct=disct_temp,real=real_1, forecast=p )\n",
    "        \n",
    "    this_model=model_beta_flex(disct_temp,X,forecast=p )\n",
    "    this_model.optimize()\n",
    "        \n",
    "    error_N[i]=this_model.get_error(real_1)\n",
    "    \n",
    "    del this_model\n",
    "    #models_N.append(this_model)"
   ]
  },
  {
   "cell_type": "code",
   "execution_count": null,
   "metadata": {},
   "outputs": [],
   "source": [
    "plt.title('Convergence in the number of samples N with M=100')\n",
    "plt.xlabel('log(N)')\n",
    "plt.ylabel('log(relative error)')\n",
    "plt.plot(np.log10(N_test),  np.log10(error_N[:,0]), '-o',label='$\\\\theta$')\n",
    "plt.plot(np.log10(N_test),  np.log10(error_N[:,1]) ,'-o', label='$\\\\alpha$')\n",
    "abline(-0.5,0.3)\n",
    "plt.legend()\n",
    "plt.savefig('conv_N_beta_flex_35.pdf')"
   ]
  },
  {
   "cell_type": "code",
   "execution_count": null,
   "metadata": {},
   "outputs": [],
   "source": [
    "error_N[:,0]"
   ]
  },
  {
   "cell_type": "code",
   "execution_count": null,
   "metadata": {},
   "outputs": [],
   "source": [
    "error_N[:,1]"
   ]
  },
  {
   "cell_type": "code",
   "execution_count": null,
   "metadata": {},
   "outputs": [],
   "source": []
  }
 ],
 "metadata": {
  "kernelspec": {
   "display_name": "Python 3",
   "language": "python",
   "name": "python3"
  },
  "language_info": {
   "codemirror_mode": {
    "name": "ipython",
    "version": 3
   },
   "file_extension": ".py",
   "mimetype": "text/x-python",
   "name": "python",
   "nbconvert_exporter": "python",
   "pygments_lexer": "ipython3",
   "version": "3.7.1"
  }
 },
 "nbformat": 4,
 "nbformat_minor": 2
}
