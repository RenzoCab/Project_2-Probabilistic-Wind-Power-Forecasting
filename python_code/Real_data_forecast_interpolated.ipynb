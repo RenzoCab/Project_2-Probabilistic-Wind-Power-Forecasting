{
 "cells": [
  {
   "cell_type": "code",
   "execution_count": 1,
   "metadata": {},
   "outputs": [],
   "source": [
    "from multi_path_base import *\n",
    "from scipy import interpolate\n",
    "forecast_with_data=np.load('forecast_with_data.npy')"
   ]
  },
  {
   "cell_type": "code",
   "execution_count": 2,
   "metadata": {},
   "outputs": [],
   "source": [
    "interp_points=1\n",
    "forecast_data_inter= np.zeros((2,1217, interp_points*72 ))\n",
    "x = np.arange(1,72+1,1)\n",
    "xnew = np.arange(1,72+1,1/interp_points)\n",
    "counter=0\n",
    "i=0;j=0\n",
    "while j< forecast_with_data.shape[0]:\n",
    "    if  sum(1*np.isnan(forecast_with_data[j,:,1]))==0 and \\\n",
    "        sum(1*np.isnan(forecast_with_data[j,:,2]))==0 and \\\n",
    "        np.max(forecast_with_data[j,:,1])<=1 and \\\n",
    "        np.min(forecast_with_data[j,:,1])>=0 and \\\n",
    "        np.max(forecast_with_data[j,:,2])<=1 and \\\n",
    "        np.min(forecast_with_data[j,:,2])>=0:\n",
    "        \n",
    "        #tck_forecast = interpolate.splrep(x, forecast_with_data[j,:,1], s=0)\n",
    "        #tck_data = interpolate.splrep(x, forecast_with_data[j,:,2], s=0)\n",
    "        #forecast_data_inter[0,i,:]= interpolate.splev(xnew, tck_forecast, der=0)\n",
    "        #forecast_data_inter[1,i,:]= interpolate.splev(xnew, tck_data, der=0)\n",
    "        forecast_data_inter[0,i,:]= forecast_with_data[j,:,1]\n",
    "        forecast_data_inter[1,i,:]= forecast_with_data[j,:,2]\n",
    "        i+=1\n",
    "    j+=1"
   ]
  },
  {
   "cell_type": "code",
   "execution_count": 15,
   "metadata": {},
   "outputs": [
    {
     "data": {
      "text/plain": [
       "1217"
      ]
     },
     "execution_count": 15,
     "metadata": {},
     "output_type": "execute_result"
    }
   ],
   "source": [
    "i"
   ]
  },
  {
   "cell_type": "code",
   "execution_count": 9,
   "metadata": {},
   "outputs": [],
   "source": [
    "N=forecast_data_inter.shape[2]\n",
    "#M=forecast_data_inter.shape[1]\n",
    "M=100\n",
    "dt=1\n",
    "\n",
    "#forecast_data_inter[0,:,:] #forecast\n",
    "\n",
    "disct_temp = disct(N,dt,M)\n",
    "p=forecast_data_inter[0,:M,:]\n",
    "V= forecast_data_inter[1,:M,:] -forecast_data_inter[0,:M,:]\n",
    "\n",
    "this_model=model_beta_flex(disct_temp,V, forecast= p)\n"
   ]
  },
  {
   "cell_type": "code",
   "execution_count": 10,
   "metadata": {},
   "outputs": [
    {
     "data": {
      "text/plain": [
       "(array([6.59606798, 1.90405951]),\n",
       " b'CONVERGENCE: REL_REDUCTION_OF_F_<=_FACTR*EPSMCH')"
      ]
     },
     "execution_count": 10,
     "metadata": {},
     "output_type": "execute_result"
    }
   ],
   "source": [
    "this_model.optimize()"
   ]
  },
  {
   "cell_type": "code",
   "execution_count": 11,
   "metadata": {},
   "outputs": [],
   "source": [
    "N=forecast_data_inter.shape[2]\n",
    "#M=forecast_data_inter.shape[1]\n",
    "M=500\n",
    "dt=1\n",
    "\n",
    "#forecast_data_inter[0,:,:] #forecast\n",
    "\n",
    "disct_temp = disct(N,dt,M)\n",
    "p=forecast_data_inter[0,:M,:]\n",
    "V= forecast_data_inter[1,:M,:] -forecast_data_inter[0,:M,:]\n",
    "\n",
    "this_model=model_beta_flex(disct_temp,V, forecast= p)"
   ]
  },
  {
   "cell_type": "code",
   "execution_count": 12,
   "metadata": {},
   "outputs": [
    {
     "data": {
      "text/plain": [
       "(array([8.72160813, 2.33880891]),\n",
       " b'CONVERGENCE: REL_REDUCTION_OF_F_<=_FACTR*EPSMCH')"
      ]
     },
     "execution_count": 12,
     "metadata": {},
     "output_type": "execute_result"
    }
   ],
   "source": [
    "this_model.optimize()"
   ]
  },
  {
   "cell_type": "code",
   "execution_count": 13,
   "metadata": {},
   "outputs": [],
   "source": [
    "N=forecast_data_inter.shape[2]\n",
    "#M=forecast_data_inter.shape[1]\n",
    "M=800\n",
    "dt=1\n",
    "\n",
    "#forecast_data_inter[0,:,:] #forecast\n",
    "\n",
    "disct_temp = disct(N,dt,M)\n",
    "p=forecast_data_inter[0,:M,:]\n",
    "V= forecast_data_inter[1,:M,:] -forecast_data_inter[0,:M,:]\n",
    "\n",
    "this_model=model_beta_flex(disct_temp,V, forecast= p)"
   ]
  },
  {
   "cell_type": "code",
   "execution_count": 14,
   "metadata": {},
   "outputs": [
    {
     "data": {
      "text/plain": [
       "(array([12.32867695,  2.1602106 ]),\n",
       " b'CONVERGENCE: REL_REDUCTION_OF_F_<=_FACTR*EPSMCH')"
      ]
     },
     "execution_count": 14,
     "metadata": {},
     "output_type": "execute_result"
    }
   ],
   "source": [
    "this_model.optimize()"
   ]
  },
  {
   "cell_type": "code",
   "execution_count": 16,
   "metadata": {},
   "outputs": [],
   "source": [
    "N=forecast_data_inter.shape[2]\n",
    "#M=forecast_data_inter.shape[1]\n",
    "M=1000\n",
    "dt=1\n",
    "\n",
    "#forecast_data_inter[0,:,:] #forecast\n",
    "\n",
    "disct_temp = disct(N,dt,M)\n",
    "p=forecast_data_inter[0,:M,:]\n",
    "V= forecast_data_inter[1,:M,:] -forecast_data_inter[0,:M,:]\n",
    "\n",
    "this_model=model_beta_flex(disct_temp,V, forecast= p)"
   ]
  },
  {
   "cell_type": "code",
   "execution_count": 17,
   "metadata": {},
   "outputs": [
    {
     "data": {
      "text/plain": [
       "(array([12.06135847,  2.21912519]), b'ABNORMAL_TERMINATION_IN_LNSRCH')"
      ]
     },
     "execution_count": 17,
     "metadata": {},
     "output_type": "execute_result"
    }
   ],
   "source": [
    "this_model.optimize()"
   ]
  },
  {
   "cell_type": "code",
   "execution_count": 18,
   "metadata": {},
   "outputs": [],
   "source": [
    "N=forecast_data_inter.shape[2]\n",
    "#M=forecast_data_inter.shape[1]\n",
    "M=1216\n",
    "dt=1\n",
    "\n",
    "#forecast_data_inter[0,:,:] #forecast\n",
    "\n",
    "disct_temp = disct(N,dt,M)\n",
    "p=forecast_data_inter[0,:M,:]\n",
    "V= forecast_data_inter[1,:M,:] -forecast_data_inter[0,:M,:]\n",
    "\n",
    "this_model=model_beta_flex(disct_temp,V, forecast= p)"
   ]
  },
  {
   "cell_type": "code",
   "execution_count": 19,
   "metadata": {},
   "outputs": [
    {
     "data": {
      "text/plain": [
       "(array([11.69054785,  2.23761191]), b'ABNORMAL_TERMINATION_IN_LNSRCH')"
      ]
     },
     "execution_count": 19,
     "metadata": {},
     "output_type": "execute_result"
    }
   ],
   "source": [
    "this_model.optimize()"
   ]
  },
  {
   "cell_type": "code",
   "execution_count": 22,
   "metadata": {},
   "outputs": [],
   "source": [
    "N=forecast_data_inter.shape[2]\n",
    "#M=forecast_data_inter.shape[1]\n",
    "M=1216\n",
    "dt=1\n",
    "\n",
    "#forecast_data_inter[0,:,:] #forecast\n",
    "\n",
    "disct_temp = disct(N,dt,M)\n",
    "p=forecast_data_inter[0,:M,:]\n",
    "V= forecast_data_inter[1,:M,:] -forecast_data_inter[0,:M,:]\n",
    "\n",
    "this_model=model_beta_flex(disct_temp,V, forecast= p)"
   ]
  },
  {
   "cell_type": "code",
   "execution_count": 24,
   "metadata": {},
   "outputs": [
    {
     "data": {
      "text/plain": [
       "(array([11.68794424,  2.238174  ]), b'ABNORMAL_TERMINATION_IN_LNSRCH')"
      ]
     },
     "execution_count": 24,
     "metadata": {},
     "output_type": "execute_result"
    }
   ],
   "source": [
    "this_model.optimize(param_initial=np.array(( 12,1.5 )) )"
   ]
  },
  {
   "cell_type": "code",
   "execution_count": null,
   "metadata": {},
   "outputs": [],
   "source": []
  }
 ],
 "metadata": {
  "kernelspec": {
   "display_name": "Python 3",
   "language": "python",
   "name": "python3"
  },
  "language_info": {
   "codemirror_mode": {
    "name": "ipython",
    "version": 3
   },
   "file_extension": ".py",
   "mimetype": "text/x-python",
   "name": "python",
   "nbconvert_exporter": "python",
   "pygments_lexer": "ipython3",
   "version": "3.7.1"
  }
 },
 "nbformat": 4,
 "nbformat_minor": 2
}
