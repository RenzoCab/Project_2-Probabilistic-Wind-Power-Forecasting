{
 "cells": [
  {
   "cell_type": "code",
   "execution_count": 1,
   "metadata": {},
   "outputs": [],
   "source": [
    "from multi_path_base import *\n",
    "#%matplotlib tk \n",
    "forecast_with_data=np.load('forecast_with_data.npy')"
   ]
  },
  {
   "cell_type": "code",
   "execution_count": 7,
   "metadata": {},
   "outputs": [],
   "source": [
    "interpolation_points=100\n",
    "x = np.arange(1,72+1,1)\n",
    "\n",
    "y = forecast_with_data[80,:,1] #X[j,:]\n",
    "tck = interpolate.splrep(x, y, s=0)\n",
    "\n",
    "xnew=np.linspace(1,72,interpolation_points)\n",
    "p_inter = interpolate.splev(xnew, tck, der=0)\n",
    "p=p_inter\n",
    "\n",
    "N=len(p_inter)\n",
    "dt=1\n",
    "\n",
    "real_1 = real(0.5, 0.3) \n"
   ]
  },
  {
   "cell_type": "code",
   "execution_count": null,
   "metadata": {},
   "outputs": [],
   "source": [
    "M_test=np.array((100,500,1000)) #,500,10000\n",
    "\n",
    "models_M=[]\n",
    "error_M=np.zeros((len(M_test),2))\n",
    "for j in range(0,len(M_test)):\n",
    "\n",
    "    disct_temp = disct(N,dt,M_test[j])\n",
    "        \n",
    "    X=gen_path_beta_robust(X0=0, disct=disct_temp,real=real_1, forecast=p )\n",
    "        \n",
    "    this_model=model_beta_flex(disct_temp,X, forecast=p )\n",
    "    this_model.optimize()\n",
    "        \n",
    "    error_M[j]=this_model.get_error(real_1)\n",
    "    \n",
    "    del this_model\n",
    "    #models_M.append(this_model)"
   ]
  },
  {
   "cell_type": "code",
   "execution_count": null,
   "metadata": {},
   "outputs": [],
   "source": [
    "error_M"
   ]
  },
  {
   "cell_type": "code",
   "execution_count": null,
   "metadata": {},
   "outputs": [],
   "source": [
    "plt.title('Convergence in the number of paths M with N=100')\n",
    "plt.xlabel('log(M)')\n",
    "plt.ylabel('log(relative error)')\n",
    "plt.plot(np.log10(M_test),  np.log10(error_M[:,0]),'-o', label='$\\\\theta$')\n",
    "plt.plot(np.log10(M_test),  np.log10(error_M[:,1]) ,'-o', label='$\\\\alpha$')\n",
    "abline(-0.5,0.7)\n",
    "plt.legend()\n",
    "plt.savefig('conv_M_real_forecast_beta.pdf')"
   ]
  },
  {
   "cell_type": "code",
   "execution_count": null,
   "metadata": {},
   "outputs": [],
   "source": []
  }
 ],
 "metadata": {
  "kernelspec": {
   "display_name": "Python 3",
   "language": "python",
   "name": "python3"
  },
  "language_info": {
   "codemirror_mode": {
    "name": "ipython",
    "version": 3
   },
   "file_extension": ".py",
   "mimetype": "text/x-python",
   "name": "python",
   "nbconvert_exporter": "python",
   "pygments_lexer": "ipython3",
   "version": "3.7.1"
  }
 },
 "nbformat": 4,
 "nbformat_minor": 2
}
