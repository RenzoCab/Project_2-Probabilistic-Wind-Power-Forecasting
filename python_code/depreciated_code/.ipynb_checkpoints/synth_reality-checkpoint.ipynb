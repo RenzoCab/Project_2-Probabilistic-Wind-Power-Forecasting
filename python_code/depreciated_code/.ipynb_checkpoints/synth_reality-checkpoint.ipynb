{
 "cells": [
  {
   "cell_type": "code",
   "execution_count": 5,
   "metadata": {},
   "outputs": [],
   "source": [
    "from multi_path_base import *\n",
    "from joblib import Parallel, delayed\n",
    "%matplotlib tk "
   ]
  },
  {
   "cell_type": "code",
   "execution_count": 2,
   "metadata": {},
   "outputs": [],
   "source": [
    "forecast_with_data=np.load('forecast_with_data.npy')"
   ]
  },
  {
   "cell_type": "code",
   "execution_count": null,
   "metadata": {},
   "outputs": [],
   "source": [
    "#Increasing number of paths M\n",
    "\n",
    "real_1 = real(0.46839903,0.82688411) \n",
    "N=72\n",
    "dt=1\n",
    "\n",
    "sandy=np.linspace(1e-3,60,N)\n",
    "\n",
    "forecast=lambda x: 0.5 +0.25*np.sin(0.1*x)\n",
    "p= forecast(sandy)\n",
    "\n",
    "M_test=100 #,500,10000\n",
    "\n",
    "\n",
    "disct_temp = disct(N,dt,M_test)\n",
    "        \n",
    "X=gen_path_beta_robust(X0=0, disct=disct_temp,real=real_1, forecast=p )\n",
    "        \n",
    "this_model=model_beta_flex(disct_temp,X, forecast=p )\n",
    "#this_model.optimize()\n",
    "        \n"
   ]
  },
  {
   "cell_type": "code",
   "execution_count": null,
   "metadata": {},
   "outputs": [],
   "source": [
    "plt.plot(X[1]+p) \n",
    "plt.plot(p)"
   ]
  },
  {
   "cell_type": "code",
   "execution_count": null,
   "metadata": {},
   "outputs": [],
   "source": [
    "#Increasing number of paths M\n",
    "\n",
    "\n",
    "#real_1 = real(0.46839903,0.82688411) \n",
    "real_1 = real(0.04,0.08) \n",
    "\n",
    "N=72\n",
    "dt=1\n",
    "\n",
    "\n",
    "#sandy=np.linspace(1e-3,60,N)\n",
    "\n",
    "#forecast=lambda x: 0.5 +0.25*np.sin(0.1*x)\n",
    "#p= forecast(sandy)\n",
    "\n",
    "M_test=100 #,500,10000\n",
    "\n",
    "#p=forecast_with_data[2:M_test,:,1]\n",
    "\n",
    "p=0.01*forecast_with_data[10,:,1]\n",
    "\n",
    "\n",
    "disct_temp = disct(N,dt,M_test)\n",
    "        \n",
    "X=gen_path_beta_robust(X0=0, disct=disct_temp,real=real_1, forecast=p )\n",
    "        \n",
    "this_model=model_beta_flex(disct_temp,X, forecast=p )\n",
    "#this_model.optimize()\n",
    "        \n"
   ]
  },
  {
   "cell_type": "code",
   "execution_count": null,
   "metadata": {},
   "outputs": [],
   "source": [
    "plt.plot(X[0]+p)\n",
    "plt.plot(p)"
   ]
  },
  {
   "cell_type": "code",
   "execution_count": null,
   "metadata": {},
   "outputs": [],
   "source": [
    "#Increasing number of paths M\n",
    "\n",
    "\n",
    "#real_1 = real(0.46839903,0.82688411) \n",
    "real_1 = real(0.15, 1.7) \n",
    "\n",
    "N=72\n",
    "dt=1\n",
    "\n",
    "\n",
    "M_test=10 #,500,10000\n",
    "\n",
    "\n",
    "p=forecast_with_data[2:,:,1]\n",
    "\n",
    "\n",
    "disct_temp = disct(N,dt,M_test)\n",
    "        \n",
    "X=gen_path_beta_robust_interpolate(X0=0, disct=disct_temp,real=real_1, forecast=p )\n",
    "        \n",
    "this_model=model_beta_data(disct_temp,X, forecast=p )\n",
    "this_model.optimize()"
   ]
  },
  {
   "cell_type": "code",
   "execution_count": null,
   "metadata": {},
   "outputs": [],
   "source": [
    "N=72\n",
    "dt=1\n",
    "p=forecast_with_data[2:,:,1]\n",
    "M_test=5\n",
    "real_1 = real(0.15878588, 1.40043092) \n",
    "disct_temp = disct(N,dt,M_test)\n",
    "L=10\n",
    "V_sim = np.empty((L,M_test,10000))\n",
    "for j in range(0,L):\n",
    "    V_sim[j,:,:]=gen_path_beta_robust_interpolate(X0=0, disct=disct_temp,real=real_1, forecast=p )\n"
   ]
  },
  {
   "cell_type": "code",
   "execution_count": null,
   "metadata": {},
   "outputs": [],
   "source": [
    "plt.plot(p[0])"
   ]
  },
  {
   "cell_type": "code",
   "execution_count": null,
   "metadata": {},
   "outputs": [],
   "source": [
    "plt.ylim(0, 1)\n",
    "plt.plot(V_sim[0,2])\n",
    "plt.plot(p[0])"
   ]
  },
  {
   "cell_type": "code",
   "execution_count": null,
   "metadata": {},
   "outputs": [],
   "source": [
    "interpolation_points=1000 #add to inputs\n",
    "dx=1/interpolation_points\n",
    "np.arange(1,72+1,dx).shape"
   ]
  },
  {
   "cell_type": "code",
   "execution_count": null,
   "metadata": {},
   "outputs": [],
   "source": [
    "fig = plt.figure(5)\n",
    "fig.clf()\n",
    "for j in range(0,M_test):\n",
    "    ax = fig.add_subplot(5,4,j+1)\n",
    "    plt.xlim(0, 72)\n",
    "    plt.ylim(0, 1)\n",
    "    for i in range(0,L):\n",
    "        plt.plot(z[i,j],'--')\n",
    "    #plt.plot(p[j,:])\n",
    "    #plt.plot(forecast_with_data[2+j,:,2])"
   ]
  },
  {
   "cell_type": "code",
   "execution_count": null,
   "metadata": {},
   "outputs": [],
   "source": [
    "fig = plt.figure(1)\n",
    "fig.clf()\n",
    "for i in range(0,30): #number_forecasts\n",
    "    ax = fig.add_subplot(6,5,i+1)\n",
    "    plt.xlim(0, 72)\n",
    "    plt.ylim(0, 1)\n",
    "    plt.plot(X[i]+p[i], label='forecast')\n",
    "    plt.plot(p[i], label='data')\n",
    "    forecast_with_data[2:,:,1]\n",
    "    plt.plot(forecast_with_data[2+i,:,2], label='data')\n",
    "plt.legend()"
   ]
  },
  {
   "cell_type": "code",
   "execution_count": null,
   "metadata": {},
   "outputs": [],
   "source": [
    "np.arange(1,72+1,0.01).shape"
   ]
  },
  {
   "cell_type": "code",
   "execution_count": null,
   "metadata": {},
   "outputs": [],
   "source": [
    "np.linspace(1,72,10)"
   ]
  },
  {
   "cell_type": "code",
   "execution_count": 3,
   "metadata": {},
   "outputs": [],
   "source": [
    "interpolation_points=10000\n",
    "x = np.arange(1,72+1,1)\n",
    "\n",
    "y = forecast_with_data[80,:,1] #X[j,:]\n",
    "tck = interpolate.splrep(x, y, s=0)\n",
    "\n",
    "\n",
    "xnew=np.linspace(1,72,interpolation_points)\n",
    "p_inter = interpolate.splev(xnew, tck, der=0)"
   ]
  },
  {
   "cell_type": "code",
   "execution_count": 4,
   "metadata": {},
   "outputs": [
    {
     "data": {
      "text/plain": [
       "[<matplotlib.lines.Line2D at 0x7f62fae98198>]"
      ]
     },
     "execution_count": 4,
     "metadata": {},
     "output_type": "execute_result"
    },
    {
     "data": {
      "image/png": "[encoded data removed]",
      "text/plain": [
       "<Figure size 432x288 with 1 Axes>"
      ]
     },
     "metadata": {
      "needs_background": "light"
     },
     "output_type": "display_data"
    }
   ],
   "source": [
    "fig = plt.figure(2)\n",
    "fig.clf()\n",
    "plt.plot(xnew,p_inter)"
   ]
  },
  {
   "cell_type": "code",
   "execution_count": 6,
   "metadata": {},
   "outputs": [
    {
     "data": {
      "text/plain": [
       "[<matplotlib.lines.Line2D at 0x7f62fa7b4390>]"
      ]
     },
     "execution_count": 6,
     "metadata": {},
     "output_type": "execute_result"
    }
   ],
   "source": [
    "fig = plt.figure(3)\n",
    "fig.clf()\n",
    "plt.plot(x,y)"
   ]
  },
  {
   "cell_type": "code",
   "execution_count": 7,
   "metadata": {},
   "outputs": [],
   "source": [
    "N=len(p_inter)\n",
    "dt=1\n",
    "M_test=1\n",
    "real_1 = real(0.16142489, 1.40763976) \n",
    "disct_temp = disct(N,dt,M_test)\n",
    "\n",
    "L=100\n",
    "V_sim = np.empty((L,len(p_inter)))\n",
    "for j in range(0,L):\n",
    "    V_sim[j,:]=gen_path_beta_robust(X0=0, disct=disct_temp,real=real_1, forecast=p_inter )\n"
   ]
  },
  {
   "cell_type": "code",
   "execution_count": 32,
   "metadata": {},
   "outputs": [],
   "source": [
    "fig = plt.figure(10)\n",
    "fig.clf()\n",
    "for i in range(0,50):\n",
    "    plt.plot(xnew,V_sim[i,:]+p_inter,'k-')\n",
    "plt.plot(xnew,p_inter,'r-', label='Forecast')\n",
    "plt.plot(xnew,V_sim[i,:]+p_inter,'k-', label='Simulated paths')\n",
    "plt.legend()\n",
    "plt.xlabel('Time [hr]')\n",
    "plt.ylabel('Power')\n",
    "plt.savefig('forecast_simulated.pdf')"
   ]
  },
  {
   "cell_type": "code",
   "execution_count": 28,
   "metadata": {},
   "outputs": [],
   "source": [
    "fig = plt.figure(6)\n",
    "fig.clf()\n",
    "for i in range(0,50):\n",
    "    plt.plot(xnew,V_sim[i,:],'k-')\n",
    "plt.xlabel('Time [hr]')\n",
    "plt.ylabel('Forecast Error')\n",
    "plt.savefig('forecast_error_simulated.pdf')"
   ]
  },
  {
   "cell_type": "code",
   "execution_count": null,
   "metadata": {},
   "outputs": [],
   "source": []
  }
 ],
 "metadata": {
  "kernelspec": {
   "display_name": "Python 3",
   "language": "python",
   "name": "python3"
  },
  "language_info": {
   "codemirror_mode": {
    "name": "ipython",
    "version": 3
   },
   "file_extension": ".py",
   "mimetype": "text/x-python",
   "name": "python",
   "nbconvert_exporter": "python",
   "pygments_lexer": "ipython3",
   "version": "3.7.1"
  }
 },
 "nbformat": 4,
 "nbformat_minor": 2
}
