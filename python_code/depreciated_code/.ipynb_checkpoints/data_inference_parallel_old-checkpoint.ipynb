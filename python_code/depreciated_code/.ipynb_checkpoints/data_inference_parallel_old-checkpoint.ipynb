{
 "cells": [
  {
   "cell_type": "code",
   "execution_count": 1,
   "metadata": {},
   "outputs": [],
   "source": [
    "from multi_path_base import *\n",
    "from joblib import Parallel, delayed\n",
    "%matplotlib tk "
   ]
  },
  {
   "cell_type": "code",
   "execution_count": 2,
   "metadata": {},
   "outputs": [],
   "source": [
    "forecast_with_data=np.load('forecast_with_data.npy')"
   ]
  },
  {
   "cell_type": "code",
   "execution_count": 8,
   "metadata": {},
   "outputs": [],
   "source": [
    "def optimize(M):    \n",
    "    X=forecast_with_data[2:M,:,2] #first two sample paths are bad\n",
    "\n",
    "    disct_temp =  disct(N=X.shape[1],dt=1,M=N=X.shape[0])\n",
    "        \n",
    "    this_model=model_beta_data(disct_temp,X, forecast=forecast_with_data[2:M,:,1] )\n",
    "    this_model.optimize()\n",
    "    \n",
    "    print(this_model.optimal.mu, this_model.optimal.sigma)\n",
    "    \n",
    "    del this_model\n",
    "    \n",
    "    return(this_model.optimal.mu, this_model.optimal.sigma)"
   ]
  },
  {
   "cell_type": "code",
   "execution_count": 9,
   "metadata": {},
   "outputs": [
    {
     "name": "stdout",
     "output_type": "stream",
     "text": [
      "[Parallel(n_jobs=20)]: Using backend LokyBackend with 20 concurrent workers.\n",
      "[Parallel(n_jobs=20)]: Done   1 tasks      | elapsed:    6.5s\n",
      "[Parallel(n_jobs=20)]: Done   3 out of   3 | elapsed:  1.5min remaining:    0.0s\n",
      "[Parallel(n_jobs=20)]: Done   3 out of   3 | elapsed:  1.5min finished\n"
     ]
    }
   ],
   "source": [
    "#M_test=[100,200,300,400,500,600,700,800,900,1265]\n",
    "M_test=[100,200,300]\n",
    "out=Parallel(n_jobs=20, verbose=50)(delayed(optimize)(i) for i in M_test)"
   ]
  },
  {
   "cell_type": "code",
   "execution_count": 10,
   "metadata": {},
   "outputs": [
    {
     "data": {
      "text/plain": [
       "[(0.8087938124815637, 0.8103638577025263),\n",
       " (0.46942841108103966, 1.3855053326906266),\n",
       " (0.17117107535463638, 0.882092548965159)]"
      ]
     },
     "execution_count": 10,
     "metadata": {},
     "output_type": "execute_result"
    }
   ],
   "source": [
    "out"
   ]
  },
  {
   "cell_type": "code",
   "execution_count": null,
   "metadata": {},
   "outputs": [],
   "source": []
  },
  {
   "cell_type": "code",
   "execution_count": 25,
   "metadata": {},
   "outputs": [
    {
     "data": {
      "text/plain": [
       "(8, 72)"
      ]
     },
     "execution_count": 25,
     "metadata": {},
     "output_type": "execute_result"
    }
   ],
   "source": [
    "M=10\n",
    "forecast_with_data[2:M,:,2].shape"
   ]
  },
  {
   "cell_type": "code",
   "execution_count": null,
   "metadata": {},
   "outputs": [],
   "source": []
  },
  {
   "cell_type": "code",
   "execution_count": 7,
   "metadata": {},
   "outputs": [
    {
     "name": "stderr",
     "output_type": "stream",
     "text": [
      "/home/alhaddwt/anaconda3/lib/python3.7/site-packages/scipy/optimize/optimize.py:663: RuntimeWarning: invalid value encountered in double_scalars\n",
      "  grad[k] = (f(*((xk + d,) + args)) - f0) / d[k]\n"
     ]
    }
   ],
   "source": [
    "\n",
    "M_test=np.array((10,250,450)) #,500,10000\n",
    "\n",
    "models_M=[]\n",
    "\n",
    "error_M=np.zeros((len(M_test),2))\n",
    "for j in range(0,len(M_test)):\n",
    "\n",
    "    X=forecast_with_data[2:M_test[j],:,2] #first two sample paths are bad\n",
    "\n",
    "    disct_temp = disct(N=X.shape[1],dt=1,M=X.shape[0])\n",
    "        \n",
    "    this_model=model_beta_data(disct_temp,X, forecast=forecast_with_data[2:M_test[j],:,1] )\n",
    "    this_model.optimize()\n",
    "    \n",
    "    #prev_model= this_model\n",
    "    models_M.append( this_model)\n",
    "    #models_M.append(this_model)\n",
    "    "
   ]
  },
  {
   "cell_type": "code",
   "execution_count": 17,
   "metadata": {},
   "outputs": [
    {
     "data": {
      "text/plain": [
       "0.983492931209372"
      ]
     },
     "execution_count": 17,
     "metadata": {},
     "output_type": "execute_result"
    }
   ],
   "source": [
    "models_M[2].optimal.mu"
   ]
  },
  {
   "cell_type": "code",
   "execution_count": 23,
   "metadata": {},
   "outputs": [
    {
     "data": {
      "text/plain": [
       "0.5010100691774964"
      ]
     },
     "execution_count": 23,
     "metadata": {},
     "output_type": "execute_result"
    }
   ],
   "source": [
    "models_M[0].optimal.sigma"
   ]
  },
  {
   "cell_type": "code",
   "execution_count": null,
   "metadata": {},
   "outputs": [],
   "source": []
  }
 ],
 "metadata": {
  "kernelspec": {
   "display_name": "Python 3",
   "language": "python",
   "name": "python3"
  },
  "language_info": {
   "codemirror_mode": {
    "name": "ipython",
    "version": 3
   },
   "file_extension": ".py",
   "mimetype": "text/x-python",
   "name": "python",
   "nbconvert_exporter": "python",
   "pygments_lexer": "ipython3",
   "version": "3.7.1"
  }
 },
 "nbformat": 4,
 "nbformat_minor": 2
}
