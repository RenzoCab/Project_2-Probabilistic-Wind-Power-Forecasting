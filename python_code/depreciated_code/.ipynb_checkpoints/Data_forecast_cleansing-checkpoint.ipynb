{
 "cells": [
  {
   "cell_type": "code",
   "execution_count": 42,
   "metadata": {},
   "outputs": [],
   "source": [
    "from multi_path_base import *\n",
    "import pandas as pd\n",
    "import datetime as dt\n",
    "from scipy import interpolate\n",
    "%matplotlib tk "
   ]
  },
  {
   "cell_type": "code",
   "execution_count": 96,
   "metadata": {},
   "outputs": [],
   "source": [
    "f = pd.read_csv('sal_utep3_h72_2016_130317.txt', delimiter= '\\s+', index_col=False,header=1)\n",
    "d = pd.read_csv('sal_uter1_2016_130317_iniper.txt', delimiter= '\\s+', index_col=False,header=1)\n",
    "n = pd.read_csv('historico_potnom_uruy.txt', delimiter= '\\s+', index_col=False,header=None)\n"
   ]
  },
  {
   "cell_type": "code",
   "execution_count": 98,
   "metadata": {},
   "outputs": [],
   "source": [
    "#setting time and date of the forecasts\n",
    "p=f.values\n",
    "length_forecast=72 #[hr]\n",
    "number_forecasts=int(len(p[:,0])/length_forecast)\n",
    "#seperate the forecasts\n",
    "forecasts=p.reshape((number_forecasts,72, 10))\n",
    "\n",
    "#change format of date and time to a datetime object\n",
    "forecast_clean=np.empty((forecasts.shape[0],forecasts.shape[1],2))\n",
    "for i in range(0,number_forecasts):\n",
    "    for j in range(0,72):\n",
    "        date_object= dt.datetime.strptime( forecasts[i,j,1] , \"%d/%m/%y\").date()\n",
    "        time_object= dt.datetime.strptime(format(forecasts[i,j,6], '04d'), \"%H%M\").time()\n",
    "        datetime_object = dt.datetime.combine(date_object, time_object)\n",
    "        forecast_clean[i,j,0]=datetime_object.timestamp()\n",
    "        forecast_clean[i,j,1]=forecasts[i,j,8]\n",
    "        \n",
    "#forecasts[1,1,1].timestamp()\n",
    "#forecasts[1,1,1].isoformat()\n",
    "#dt.datetime.fromtimestamp(timestamp)"
   ]
  },
  {
   "cell_type": "code",
   "execution_count": 99,
   "metadata": {},
   "outputs": [],
   "source": [
    "#setting time and data of the data\n",
    "data=d.values\n",
    "data_clean=np.zeros((2,data.shape[0]))\n",
    "for i in range(0,data.shape[0]):\n",
    "    date_object= dt.datetime.strptime( data[i,2] , \"%d/%m/%Y\").date()\n",
    "    time_object= dt.datetime.strptime(data[i,3], \"%H:%M\").time()\n",
    "    datetime_object = dt.datetime.combine(date_object, time_object)\n",
    "    \n",
    "    data_clean[0,i]=datetime_object.timestamp()\n",
    "    data_clean[1,i]=data[i,4]\n",
    "#plt.plot(data_clean[1,:])"
   ]
  },
  {
   "cell_type": "code",
   "execution_count": 100,
   "metadata": {},
   "outputs": [],
   "source": [
    "#cleaning normalization data\n",
    "\n",
    "normalization_data=n.values\n",
    "normalization_clean=np.zeros((3,normalization_data.shape[0]))\n",
    "\n",
    "for i in range(0,normalization_data.shape[0]):\n",
    "    date_object= dt.datetime.strptime( normalization_data[i,0] , \"%d/%m/%Y\").date()\n",
    "    time_object= dt.datetime.strptime(normalization_data[i,1], \"%H:%M\").time()\n",
    "    datetime_object_st = dt.datetime.combine(date_object, time_object)\n",
    "    normalization_clean[0,i]=datetime_object_st.timestamp()\n",
    "    \n",
    "    date_object= dt.datetime.strptime( normalization_data[i,2] , \"%d/%m/%Y\").date()\n",
    "    time_object= dt.datetime.strptime(normalization_data[i,3], \"%H:%M\").time()\n",
    "    datetime_object_st = dt.datetime.combine(date_object, time_object)\n",
    "    normalization_clean[1,i]=datetime_object_st.timestamp()\n",
    "    \n",
    "    normalization_clean[2,i]= float(normalization_data[i,4].replace(',','.'))\n",
    "    "
   ]
  },
  {
   "cell_type": "code",
   "execution_count": 111,
   "metadata": {},
   "outputs": [],
   "source": [
    "#matching forecast with data\n",
    "normalization=float('nan')\n",
    "forecast_with_data= np.empty((forecast_clean.shape[0],\\\n",
    "                              forecast_clean.shape[1],forecast_clean.shape[2]+1))\n",
    "for j in range(0,number_forecasts):\n",
    "    for i in range(0, forecast_clean[j,:,0].size ):\n",
    "        temp=forecast_clean[j,i,0]\n",
    "        index=np.where(data_clean[0,:] == temp )\n",
    "        forecast_with_data[j,i,0]= temp\n",
    "        forecast_with_data[j,i,1]= forecast_clean[j,i,1]\n",
    "        if data_clean[1, index[0]].size != 0:\n",
    "            #print(dt.datetime.fromtimestamp(temp))\n",
    "            #print(data_clean[1, index[0]].size)\n",
    "            for k in range(0, normalization_clean.shape[1]):\n",
    "                if (normalization_clean[0,k] <= temp) and ( temp <= normalization_clean[1,k]):\n",
    "                    normalization= normalization_clean[2,k]\n",
    "            #print(dt.datetime.fromtimestamp(temp))\n",
    "            #print(normalization)\n",
    "            forecast_with_data[j,i,2]= data_clean[1, index[0]][0]/normalization\n",
    "            forecast_with_data[j,i,1]=forecast_with_data[j,i,1]/(normalization*1e3)\n",
    "        else: forecast_with_data[j,i,2]= float('nan')\n",
    "#index[2][:]=1"
   ]
  },
  {
   "cell_type": "code",
   "execution_count": 115,
   "metadata": {},
   "outputs": [
    {
     "data": {
      "text/plain": [
       "<matplotlib.legend.Legend at 0x7f66e788a208>"
      ]
     },
     "execution_count": 115,
     "metadata": {},
     "output_type": "execute_result"
    }
   ],
   "source": [
    "fig = plt.figure(1)\n",
    "fig.clf()\n",
    "for i in range(0,4): #number_forecasts\n",
    "    ax = fig.add_subplot(2,2,i+1)\n",
    "    plt.xlim(0, 72)\n",
    "    plt.ylim(0, 1)\n",
    "    plt.plot(forecast_with_data[i+36,:,1], label='forecast')\n",
    "    plt.plot(forecast_with_data[i+36,:,2], label='data')\n",
    "plt.legend()"
   ]
  },
  {
   "cell_type": "code",
   "execution_count": 116,
   "metadata": {},
   "outputs": [],
   "source": [
    "fig = plt.figure(1)\n",
    "fig.clf()\n",
    "for i in range(0,4): #number_forecasts\n",
    "    ax = fig.add_subplot(2,2,i+1)\n",
    "    plt.xlim(0, 72)\n",
    "    plt.ylim(0, 1)\n",
    "    \n",
    "    ind=random.randint(1,30)#forecast_with_data.shape[0])\n",
    "    \n",
    "    plt.plot(forecast_with_data[ind,:,1], label='forecast')\n",
    "    plt.plot(forecast_with_data[ind,:,2], label='data')\n",
    "    plt.xlabel('Time [hr]')\n",
    "    plt.ylabel('Power')\n",
    "    \n",
    "plt.legend()\n",
    "plt.savefig('forecast_data.eps')"
   ]
  },
  {
   "cell_type": "code",
   "execution_count": 118,
   "metadata": {},
   "outputs": [],
   "source": [
    "dt=0.001\n",
    "x = np.arange(1,72+1,1) #forecast_with_data[5,:,0]\n",
    "fig = plt.figure(2)\n",
    "fig.clf()\n",
    "#plt.title('Cubic-spline interpolation of the Forecast')\n",
    "\n",
    "for i in range(0,4):\n",
    "    \n",
    "    ind=random.randint(1,30)\n",
    "    \n",
    "    y = forecast_with_data[ind,:,1]\n",
    "    tck = interpolate.splrep(x, y, s=0)\n",
    "    xnew = np.arange(1,72+1,dt)\n",
    "    ynew = interpolate.splev(xnew, tck, der=0)\n",
    "\n",
    "    ax = fig.add_subplot(2,2,i+1)\n",
    "    plt.xlim(0, 72)\n",
    "    plt.ylim(0, 1)\n",
    "    #plt.axis('off')\n",
    "    plt.grid(True)\n",
    "    plt.plot(x,y,'x', label='Discrete' )\n",
    "    plt.plot(xnew,ynew,'-', label='cubic splines')\n",
    "    plt.xlabel('Time [hr]')\n",
    "    plt.ylabel('Forecast')\n",
    "\n",
    "plt.legend()\n",
    "plt.show()\n",
    "plt.savefig('forecast_splines.eps')"
   ]
  },
  {
   "cell_type": "code",
   "execution_count": 122,
   "metadata": {},
   "outputs": [],
   "source": [
    "dt=0.001\n",
    "x = np.arange(1,72+1,1) #forecast_with_data[5,:,0]\n",
    "fig = plt.figure(2)\n",
    "fig.clf()\n",
    "for i in range(0,4):\n",
    "    \n",
    "    ind=random.randint(1,30)\n",
    "    \n",
    "    y = forecast_with_data[ind,:,1]\n",
    "    tck = interpolate.splrep(x, y, s=0)\n",
    "    xnew = np.arange(1,72+1,dt)\n",
    "    ynew = interpolate.splev(xnew, tck, der=0)\n",
    "\n",
    "    ax = fig.add_subplot(7,7,i+1)\n",
    "    plt.xlim(0, 72)\n",
    "    plt.ylim(0, 1)\n",
    "    #plt.axis('off')\n",
    "    plt.grid(True)\n",
    "    plt.plot(x,y,'x')\n",
    "    plt.plot(xnew,ynew,'-')\n",
    "    #plt.title('Cubic-spline interpolation of the Forecast')\n",
    "    plt.show()"
   ]
  },
  {
   "cell_type": "code",
   "execution_count": 120,
   "metadata": {},
   "outputs": [
    {
     "data": {
      "text/plain": [
       "Text(0.5, 1.0, 'Cubic-spline interpolation of the Forecast')"
      ]
     },
     "execution_count": 120,
     "metadata": {},
     "output_type": "execute_result"
    }
   ],
   "source": [
    "dt=0.001\n",
    "x = np.arange(1,72+1,1) #forecast_with_data[5,:,0]\n",
    " \n",
    "y = forecast_with_data[5,:,1]\n",
    "tck = interpolate.splrep(x, y, s=0.5)\n",
    "xnew = np.arange(1,72+1,dt)\n",
    "ynew = interpolate.splev(xnew, tck, der=0)\n",
    "\n",
    "#ax = fig.add_subplot(7,7,i+1)\n",
    "plt.figure()\n",
    "plt.xlim(0, 72)\n",
    "plt.ylim(0, 1)\n",
    "plt.plot(x,y,'o')\n",
    "plt.grid(True)\n",
    "plt.plot(xnew,ynew,'-')\n",
    "plt.title('Cubic-spline interpolation of the Forecast')"
   ]
  },
  {
   "cell_type": "code",
   "execution_count": 17,
   "metadata": {},
   "outputs": [
    {
     "data": {
      "text/plain": [
       "array([ 1.  ,  1.01,  1.02, ..., 72.97, 72.98, 72.99])"
      ]
     },
     "execution_count": 17,
     "metadata": {},
     "output_type": "execute_result"
    }
   ],
   "source": [
    "np.arange(1,72+1,0.01)"
   ]
  },
  {
   "cell_type": "code",
   "execution_count": null,
   "metadata": {},
   "outputs": [],
   "source": []
  }
 ],
 "metadata": {
  "kernelspec": {
   "display_name": "Python 3",
   "language": "python",
   "name": "python3"
  },
  "language_info": {
   "codemirror_mode": {
    "name": "ipython",
    "version": 3
   },
   "file_extension": ".py",
   "mimetype": "text/x-python",
   "name": "python",
   "nbconvert_exporter": "python",
   "pygments_lexer": "ipython3",
   "version": "3.7.1"
  }
 },
 "nbformat": 4,
 "nbformat_minor": 2
}
