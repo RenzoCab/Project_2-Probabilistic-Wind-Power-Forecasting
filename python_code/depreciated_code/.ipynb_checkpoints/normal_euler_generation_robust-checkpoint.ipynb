{
 "cells": [
  {
   "cell_type": "code",
   "execution_count": 769,
   "metadata": {},
   "outputs": [],
   "source": [
    "from multi_path_base import *\n",
    "%matplotlib tk \n",
    "forecast_with_data=np.load('forecast_with_data.npy')"
   ]
  },
  {
   "cell_type": "code",
   "execution_count": 770,
   "metadata": {},
   "outputs": [],
   "source": [
    "interpolation_points=1000\n",
    "x = np.arange(1,72+1,1)\n",
    "\n",
    "y = forecast_with_data[80,:,1] #X[j,:]\n",
    "tck = interpolate.splrep(x, y, s=0)\n",
    "\n",
    "xnew_global=np.linspace(1,72,interpolation_points)\n",
    "p = interpolate.splev(xnew_global, tck, der=0)\n",
    "\n",
    "N=len(p)\n",
    "dt=1\n",
    "M_test=100\n",
    "#real_1 = real(15, 0.1)\n",
    "real_1 = real(0.15878588, 1.40043092) \n",
    "#real_1 = real(1e-1,1e-5) \n",
    "\n",
    "disct_temp = disct(N,dt,M_test)"
   ]
  },
  {
   "cell_type": "code",
   "execution_count": 771,
   "metadata": {},
   "outputs": [
    {
     "name": "stderr",
     "output_type": "stream",
     "text": [
      "/home/alhaddwt/anaconda3/lib/python3.7/site-packages/ipykernel_launcher.py:62: RuntimeWarning: invalid value encountered in sqrt\n"
     ]
    },
    {
     "name": "stdout",
     "output_type": "stream",
     "text": [
      "249  issues resolved\n"
     ]
    }
   ],
   "source": [
    "N=disct_temp.N\n",
    "dt=disct_temp.dt\n",
    "M=disct_temp.M\n",
    "X0=p[0]\n",
    "\n",
    "theta=real_1.mu\n",
    "alpha=real_1.sigma\n",
    "issue_counter=0\n",
    "X=np.zeros((M,N))\n",
    "max_tries=100\n",
    "i=0\n",
    "j=0\n",
    "while j < M:\n",
    "    X[j,0]=X0\n",
    "    a=0\n",
    "    b=0\n",
    "    dW=np.sqrt(dN)*np.random.normal(0, 1, N)\n",
    "    i=0\n",
    "    while i<N-1:\n",
    "        try:\n",
    "            try_count=0\n",
    "            X[j,0]=X0\n",
    "    \n",
    "            b=  2*alpha*theta*p[i]*(1-p[i])*X[j,i]*(1-X[j,i])\n",
    "            a= - theta*(X[j,i]-p[i]) + (p[i+1]-p[i])/dN\n",
    "\n",
    "            X[j,i+1]= X[j,i] + a*dN+ np.sqrt(b)*dW[i]\n",
    "            #print(X[j,i+1])\n",
    "            if (X[j,i+1]<0) or (X[j,i+1])>1:\n",
    "                #print('EXCEPTION !! ')\n",
    "                Z0=X[j,i+1]\n",
    "                raise Exception('outside: {}'.format(X[j,i+1]) )\n",
    "            #print('here')\n",
    "        except:\n",
    "            #print('issue with ', X[j,i+1])\n",
    "            interpolation_count=0\n",
    "            Z_init=X[j,i]\n",
    "            Z_sol=X[j,i+1]\n",
    "            while Z_sol<0 or Z_sol>1:\n",
    "                #print('Solving Expection')\n",
    "                try_count += 1\n",
    "                interpolation_count+=1\n",
    "               \n",
    "                #print('Try # : ' +str(try_count))\n",
    "                \n",
    "                interpolation_points=10*interpolation_count\n",
    "                x = np.array((0,1))\n",
    "                y = np.array(( p[i-1] , p[i] ))\n",
    "                f = interpolate.interp1d(x, y)\n",
    "                xnew=np.linspace(0,1,interpolation_points)\n",
    "                p_inside = f(xnew) \n",
    "                \n",
    "                dN_in=1/(N+ interpolation_points)\n",
    "                dW_inner=np.sqrt(dN_in)*np.random.normal(0, 1, interpolation_points) \n",
    "                \n",
    "                Z=np.zeros((interpolation_points))\n",
    "                Z[0]=Z_init\n",
    "                for  k in range(0,interpolation_points-1):\n",
    "                    b=  2*alpha*theta*p_inside[k]*(1-p_inside[k])*Z[k]*(1-Z[k])\n",
    "                    a= - theta*(Z[k]-p_inside[k]) + (p_inside[k+1]-p_inside[k])/dN_in\n",
    "                    #print(b)\n",
    "                    Z[k+1]= Z[k] + a*dN_in+ np.sqrt(b)*dW_inner[k]\n",
    "                    \n",
    "                    #print(Z[k+1])\n",
    "                if np.isnan(Z[k+1])==False:\n",
    "                    Z_sol = Z[k+1]\n",
    "                    #print('achieved ',Z_sol)\n",
    "            pass\n",
    "            X[j,i+1]= Z_sol\n",
    "            #print('achieved ',Z_sol)\n",
    "            issue_counter+=1\n",
    "            i+=1\n",
    "            if try_count >= max_tries:\n",
    "                raise Exception(\"Unable to generate after %s tries\" % max_tries)\n",
    "        else:\n",
    "            i+=1\n",
    "    j+=1\n",
    "print(issue_counter, ' issues resolved')"
   ]
  },
  {
   "cell_type": "code",
   "execution_count": null,
   "metadata": {},
   "outputs": [],
   "source": [
    "#plt.plot(X[0,:])\n",
    "fig = plt.figure(0)\n",
    "fig.clf()\n",
    "\n",
    "plt.xlim(0, 72)\n",
    "plt.ylim(0, 1)\n",
    "for j in range(0,M):\n",
    "    plt.plot(xnew_global,X[j,:], 'k-')\n",
    "plt.plot(xnew_global,X[j,:], 'k-', label='simulated forecast')\n",
    "plt.plot(xnew_global,p, 'r-', label='forecast')\n",
    "plt.title('')\n",
    "plt.legend()"
   ]
  },
  {
   "cell_type": "code",
   "execution_count": null,
   "metadata": {},
   "outputs": [],
   "source": []
  }
 ],
 "metadata": {
  "kernelspec": {
   "display_name": "Python 3",
   "language": "python",
   "name": "python3"
  },
  "language_info": {
   "codemirror_mode": {
    "name": "ipython",
    "version": 3
   },
   "file_extension": ".py",
   "mimetype": "text/x-python",
   "name": "python",
   "nbconvert_exporter": "python",
   "pygments_lexer": "ipython3",
   "version": "3.7.1"
  }
 },
 "nbformat": 4,
 "nbformat_minor": 2
}
