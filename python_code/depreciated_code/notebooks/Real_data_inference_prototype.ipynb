{
 "cells": [
  {
   "cell_type": "code",
   "execution_count": 9,
   "metadata": {},
   "outputs": [],
   "source": [
    "from multi_path_base import *\n",
    "from scipy import interpolate\n",
    "%matplotlib tk "
   ]
  },
  {
   "cell_type": "code",
   "execution_count": 4,
   "metadata": {},
   "outputs": [],
   "source": [
    "forecast_with_data=np.load('forecast_with_data.npy')"
   ]
  },
  {
   "cell_type": "code",
   "execution_count": 12,
   "metadata": {},
   "outputs": [],
   "source": [
    "dt=0.001\n",
    "x = np.arange(1,72+1,1) #forecast_with_data[5,:,0]\n",
    "fig = plt.figure(2)\n",
    "fig.clf()\n",
    "for i in range(0,4):\n",
    "    \n",
    "    ind=random.randint(1,30)\n",
    "    \n",
    "    y = forecast_with_data[ind,:,1]\n",
    "    tck = interpolate.splrep(x, y, s=0)\n",
    "    xnew = np.arange(1,72+1,dt)\n",
    "    ynew = interpolate.splev(xnew, tck, der=0)\n",
    "\n",
    "    ax = fig.add_subplot(2,2,i+1)\n",
    "    plt.xlim(0, 72)\n",
    "    plt.ylim(0, 1)\n",
    "    #plt.axis('off')\n",
    "    plt.grid(True)\n",
    "    plt.plot(x,y,'x')\n",
    "    plt.plot(xnew,ynew,'-')\n",
    "    #plt.title('Cubic-spline interpolation of the Forecast')\n",
    "    plt.show()"
   ]
  },
  {
   "cell_type": "code",
   "execution_count": 51,
   "metadata": {},
   "outputs": [
    {
     "data": {
      "text/plain": [
       "[<matplotlib.lines.Line2D at 0x7f52bd27db70>]"
      ]
     },
     "execution_count": 51,
     "metadata": {},
     "output_type": "execute_result"
    }
   ],
   "source": [
    "#interpolate a forecast\n",
    "\n",
    "interpolation_points=100\n",
    "dx=1/interpolation_points\n",
    "\n",
    "\n",
    "y = forecast_with_data[ind,:,1]\n",
    "tck = interpolate.splrep(x, y, s=0)\n",
    "xnew = np.arange(1,72+1,dx)\n",
    "ynew = interpolate.splev(xnew, tck, der=0)\n",
    "fig = plt.figure(0)\n",
    "fig.clf()\n",
    "plt.plot(x,y,'x')\n",
    "plt.plot(xnew,ynew,'-')\n",
    "plt.plot(x[45],y[45],'o')\n",
    "plt.plot(xnew[45*interpolation_points],ynew[45*interpolation_points],'o')"
   ]
  },
  {
   "cell_type": "code",
   "execution_count": 55,
   "metadata": {},
   "outputs": [
    {
     "ename": "NameError",
     "evalue": "name 'N' is not defined",
     "output_type": "error",
     "traceback": [
      "\u001b[0;31m---------------------------------------------------------------------------\u001b[0m",
      "\u001b[0;31mNameError\u001b[0m                                 Traceback (most recent call last)",
      "\u001b[0;32m<ipython-input-55-b237f2b51301>\u001b[0m in \u001b[0;36m<module>\u001b[0;34m\u001b[0m\n\u001b[0;32m----> 1\u001b[0;31m \u001b[0mdisct_temp\u001b[0m \u001b[0;34m=\u001b[0m \u001b[0mdisct\u001b[0m\u001b[0;34m(\u001b[0m\u001b[0mN\u001b[0m\u001b[0;34m,\u001b[0m\u001b[0mdt\u001b[0m\u001b[0;34m,\u001b[0m\u001b[0mM_test\u001b[0m\u001b[0;34m[\u001b[0m\u001b[0mj\u001b[0m\u001b[0;34m]\u001b[0m\u001b[0;34m)\u001b[0m\u001b[0;34m\u001b[0m\u001b[0;34m\u001b[0m\u001b[0m\n\u001b[0m\u001b[1;32m      2\u001b[0m \u001b[0;34m\u001b[0m\u001b[0m\n\u001b[1;32m      3\u001b[0m \u001b[0mX\u001b[0m\u001b[0;34m=\u001b[0m\u001b[0mgen_path_beta_robust\u001b[0m\u001b[0;34m(\u001b[0m\u001b[0mX0\u001b[0m\u001b[0;34m=\u001b[0m\u001b[0;36m0\u001b[0m\u001b[0;34m,\u001b[0m \u001b[0mdisct\u001b[0m\u001b[0;34m=\u001b[0m\u001b[0mdisct_temp\u001b[0m\u001b[0;34m,\u001b[0m\u001b[0mreal\u001b[0m\u001b[0;34m=\u001b[0m\u001b[0mreal_1\u001b[0m\u001b[0;34m,\u001b[0m \u001b[0mforecast\u001b[0m\u001b[0;34m=\u001b[0m\u001b[0mp\u001b[0m \u001b[0;34m)\u001b[0m\u001b[0;34m\u001b[0m\u001b[0;34m\u001b[0m\u001b[0m\n",
      "\u001b[0;31mNameError\u001b[0m: name 'N' is not defined"
     ]
    }
   ],
   "source": [
    "    #disct_temp = disct(N,dt,M_test[j])\n",
    "        \n",
    "    #X=gen_path_beta_robust(X0=0, disct=disct_temp,real=real_1, forecast=p )"
   ]
  },
  {
   "cell_type": "code",
   "execution_count": 398,
   "metadata": {},
   "outputs": [
    {
     "data": {
      "text/plain": [
       "array([1.45165320e+09, 1.45152124e-01, 3.03897316e-01])"
      ]
     },
     "execution_count": 398,
     "metadata": {},
     "output_type": "execute_result"
    }
   ],
   "source": [
    "forecast_with_data[1,1,:]"
   ]
  },
  {
   "cell_type": "code",
   "execution_count": 412,
   "metadata": {},
   "outputs": [],
   "source": [
    "j=30\n",
    "n=2\n",
    "theta=0.5\n",
    "alpha=0.1\n",
    "\n",
    "interpolation_points=1000\n",
    "dN=1/72\n",
    "dx=1/interpolation_points\n",
    "x = np.arange(1,72+1,1)\n",
    "y = forecast_with_data[j,:,1]\n",
    "tck = interpolate.splrep(x, y, s=0)\n",
    "xnew = np.arange(1,72+1,dx)\n",
    "p_inter = interpolate.splev(xnew, tck, der=0)\n",
    "\n",
    "\n",
    "m_1=forecast_with_data[j,n,2]*np.exp(- dN*theta)\n",
    "\n",
    "m_2=forecast_with_data[j,n,2]**2\n",
    "for k in range(n*interpolation_points, interpolation_points*(n+1)):\n",
    "    p=p_inter[k]\n",
    "    m_2 = m_2 + dN*dx*2*(-forecast_with_data[j,n,2]**2*(theta+alpha*theta*p*(1-p) ) + \\\n",
    "                            forecast_with_data[j,n,2]*(alpha*theta*p*(1-p)*(1-2*p )) + \\\n",
    "                                alpha*theta*p**2*(1-p)**2)"
   ]
  },
  {
   "cell_type": "code",
   "execution_count": 413,
   "metadata": {},
   "outputs": [
    {
     "data": {
      "text/plain": [
       "0.1901451967485834"
      ]
     },
     "execution_count": 413,
     "metadata": {},
     "output_type": "execute_result"
    }
   ],
   "source": [
    "m_1"
   ]
  },
  {
   "cell_type": "code",
   "execution_count": 414,
   "metadata": {},
   "outputs": [
    {
     "data": {
      "text/plain": [
       "0.03617273737589759"
      ]
     },
     "execution_count": 414,
     "metadata": {},
     "output_type": "execute_result"
    }
   ],
   "source": [
    "m_2"
   ]
  },
  {
   "cell_type": "code",
   "execution_count": 415,
   "metadata": {},
   "outputs": [
    {
     "name": "stdout",
     "output_type": "stream",
     "text": [
      "32696.53303504862\n",
      "22248.91920787753\n"
     ]
    }
   ],
   "source": [
    "a=m_1\n",
    "b=m_2 - m_1**2\n",
    "#print('mean=',a)\n",
    "#print('variance=',b)\n",
    "beta_param_alpha= - ( (1+a)*(a**2 +b -1)    )/(2*b )\n",
    "beta_param_beta= ( (a-1)*(a**2 + b -1)  )  /(2*b)\n",
    "print(beta_param_alpha);print(beta_param_beta)"
   ]
  },
  {
   "cell_type": "code",
   "execution_count": 416,
   "metadata": {},
   "outputs": [],
   "source": [
    "m_1= forecast_with_data[j,n,2]*np.exp(- dN*theta)\n",
    "\n",
    "p=forecast_with_data[j,n,1]\n",
    "\n",
    "m_2_one= forecast_with_data[j,n,2]**2 +\\\n",
    "        dN*2*(- forecast_with_data[j,n,2]**2*(theta+alpha*theta*p*(1-p) ) + \\\n",
    "                forecast_with_data[j,n,2]*(alpha*theta*p*(1-p)*(1-2*p )) + \\\n",
    "                        alpha*theta*p**2*(1-p)**2)"
   ]
  },
  {
   "cell_type": "code",
   "execution_count": 417,
   "metadata": {},
   "outputs": [
    {
     "data": {
      "text/plain": [
       "0.1901451967485834"
      ]
     },
     "execution_count": 417,
     "metadata": {},
     "output_type": "execute_result"
    }
   ],
   "source": [
    "m_1"
   ]
  },
  {
   "cell_type": "code",
   "execution_count": 418,
   "metadata": {},
   "outputs": [
    {
     "name": "stdout",
     "output_type": "stream",
     "text": [
      "34592.627763771896\n",
      "23539.149532439034\n"
     ]
    }
   ],
   "source": [
    "a=m_1\n",
    "b=m_2_one - m_1**2\n",
    "#print('mean=',a)\n",
    "#print('variance=',b)\n",
    "beta_param_alpha_one= - ( (1+a)*(a**2 +b -1)    )/(2*b )\n",
    "beta_param_beta_one= ( (a-1)*(a**2 + b -1)  )  /(2*b)\n",
    "print(beta_param_alpha_one);print(beta_param_beta_one)"
   ]
  },
  {
   "cell_type": "code",
   "execution_count": 419,
   "metadata": {},
   "outputs": [
    {
     "data": {
      "text/plain": [
       "9.614716001693502e-07"
      ]
     },
     "execution_count": 419,
     "metadata": {},
     "output_type": "execute_result"
    }
   ],
   "source": [
    "m_2-m_2_one"
   ]
  },
  {
   "cell_type": "code",
   "execution_count": 420,
   "metadata": {},
   "outputs": [
    {
     "data": {
      "text/plain": [
       "1896.0947287232775"
      ]
     },
     "execution_count": 420,
     "metadata": {},
     "output_type": "execute_result"
    }
   ],
   "source": [
    "beta_param_alpha_one - beta_param_alpha"
   ]
  },
  {
   "cell_type": "code",
   "execution_count": 421,
   "metadata": {},
   "outputs": [
    {
     "data": {
      "text/plain": [
       "-1290.230324561504"
      ]
     },
     "execution_count": 421,
     "metadata": {},
     "output_type": "execute_result"
    }
   ],
   "source": [
    "beta_param_beta-beta_param_beta_one"
   ]
  },
  {
   "cell_type": "code",
   "execution_count": null,
   "metadata": {},
   "outputs": [],
   "source": []
  }
 ],
 "metadata": {
  "kernelspec": {
   "display_name": "Python 3",
   "language": "python",
   "name": "python3"
  },
  "language_info": {
   "codemirror_mode": {
    "name": "ipython",
    "version": 3
   },
   "file_extension": ".py",
   "mimetype": "text/x-python",
   "name": "python",
   "nbconvert_exporter": "python",
   "pygments_lexer": "ipython3",
   "version": "3.7.1"
  }
 },
 "nbformat": 4,
 "nbformat_minor": 2
}
