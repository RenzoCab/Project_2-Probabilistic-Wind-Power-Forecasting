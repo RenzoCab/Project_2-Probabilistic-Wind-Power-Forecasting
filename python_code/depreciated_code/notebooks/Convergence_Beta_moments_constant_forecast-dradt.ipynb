{
 "cells": [
  {
   "cell_type": "markdown",
   "metadata": {},
   "source": [
    "## gives excellent convergence in number of samples and paths with reasonable parameters. Case of constant forecast = 1/2 and constant parameters "
   ]
  },
  {
   "cell_type": "code",
   "execution_count": 1,
   "metadata": {},
   "outputs": [],
   "source": [
    "from multi_path_base import *\n",
    "#plt.rcParams['figure.figsize'] = [15, 10]\n",
    "#initialize plotting canvas\n",
    "%matplotlib tk \n"
   ]
  },
  {
   "cell_type": "code",
   "execution_count": 9,
   "metadata": {},
   "outputs": [],
   "source": [
    "#Increasing number of paths M\n",
    "\n",
    "real_1 = real(0.3,0.1);\n",
    "N=100;\n",
    "dt=1;\n",
    "M_test=50;\n",
    "\n",
    "sandy=np.linspace(1e-3,10,N)\n",
    "forecast=lambda x: 0.5 +0.25*np.sin(x)\n",
    "p= np.ones(N)*0.5 #forecast(sandy)\n",
    "\n",
    "disct_temp = disct(N,dt,M_test)\n",
    "\n",
    "X=gen_path_beta_flex(X0=0, disct=disct_temp,real=real_1, forecast=p )\n"
   ]
  },
  {
   "cell_type": "code",
   "execution_count": 10,
   "metadata": {},
   "outputs": [
    {
     "data": {
      "text/plain": [
       "(array([75578.27132432, 58112.58336645]),\n",
       " b'CONVERGENCE: NORM_OF_PROJECTED_GRADIENT_<=_PGTOL')"
      ]
     },
     "execution_count": 10,
     "metadata": {},
     "output_type": "execute_result"
    }
   ],
   "source": [
    "this_model=model_beta_flex(disct=disct_temp,data=X, forecast=p )\n",
    "op=this_model.optimize();op"
   ]
  },
  {
   "cell_type": "code",
   "execution_count": 11,
   "metadata": {},
   "outputs": [
    {
     "data": {
      "text/plain": [
       "False"
      ]
     },
     "execution_count": 11,
     "metadata": {},
     "output_type": "execute_result"
    }
   ],
   "source": [
    "this_model.likelihood(np.array((real_1.mu, real_1.sigma) ))  < this_model.likelihood(np.array((this_model.optimal.mu, this_model.optimal.sigma) ))"
   ]
  },
  {
   "cell_type": "code",
   "execution_count": 12,
   "metadata": {},
   "outputs": [
    {
     "data": {
      "image/png": "[encoded data removed]",
      "text/plain": [
       "<Figure size 432x288 with 1 Axes>"
      ]
     },
     "metadata": {
      "needs_background": "light"
     },
     "output_type": "display_data"
    }
   ],
   "source": [
    "fig = plt.figure( num=2, clear=True)\n",
    "plt.plot(this_model.data[1]);"
   ]
  },
  {
   "cell_type": "code",
   "execution_count": 13,
   "metadata": {},
   "outputs": [
    {
     "data": {
      "image/png": "[encoded data removed]",
      "text/plain": [
       "<Figure size 432x288 with 1 Axes>"
      ]
     },
     "metadata": {
      "needs_background": "light"
     },
     "output_type": "display_data"
    }
   ],
   "source": [
    "fig = plt.figure( num=4, clear=True)\n",
    "plt.plot(this_model.forecast);"
   ]
  },
  {
   "cell_type": "code",
   "execution_count": null,
   "metadata": {},
   "outputs": [],
   "source": [
    "this_model.likelihood(np.array((0.4,0.3))) <this_model.likelihood(this_model.optimal())"
   ]
  },
  {
   "cell_type": "code",
   "execution_count": null,
   "metadata": {},
   "outputs": [],
   "source": [
    "np.array((this_model.optimal.mu, this_model.optimal.sigma) )"
   ]
  },
  {
   "cell_type": "code",
   "execution_count": null,
   "metadata": {},
   "outputs": [],
   "source": [
    "this_model.likelihood(np.array((0.3,0.49)))"
   ]
  },
  {
   "cell_type": "code",
   "execution_count": null,
   "metadata": {},
   "outputs": [],
   "source": [
    "x = np.linspace(1e-2, 1, 100)\n",
    "y = np.linspace(1e-2, 1, 100)\n",
    "X, Y = np.meshgrid(x, y)\n",
    "Z = this_model.likelihood(np.array((X,Y)))"
   ]
  },
  {
   "cell_type": "code",
   "execution_count": null,
   "metadata": {},
   "outputs": [],
   "source": [
    "%matplotlib tk \n",
    "fig = plt.figure( num=1, clear=True)\n",
    "ax = plt.axes(projection='3d')\n",
    "#ax.contour3D(X, Y, Z, 1000, cmap='binary')\n",
    "ax.set_xlabel('x');\n",
    "ax.set_ylabel('y');\n",
    "ax.set_zlabel('z');\n",
    "ax.set_zlim([-1e7,1e6])\n",
    "ax.plot_surface(X, Y, Z, rstride=5, cstride=5,cmap='viridis')"
   ]
  },
  {
   "cell_type": "code",
   "execution_count": null,
   "metadata": {},
   "outputs": [],
   "source": [
    "a=-10 ; b=-30\n",
    "while((a <= 0) or (b <= 0) ):\n",
    "    a=a+1\n",
    "    b=b+1"
   ]
  },
  {
   "cell_type": "code",
   "execution_count": null,
   "metadata": {},
   "outputs": [],
   "source": [
    "np.random.beta(a,b,1)"
   ]
  },
  {
   "cell_type": "code",
   "execution_count": null,
   "metadata": {},
   "outputs": [],
   "source": [
    "b"
   ]
  },
  {
   "cell_type": "code",
   "execution_count": null,
   "metadata": {},
   "outputs": [],
   "source": []
  }
 ],
 "metadata": {
  "kernelspec": {
   "display_name": "Python 3",
   "language": "python",
   "name": "python3"
  },
  "language_info": {
   "codemirror_mode": {
    "name": "ipython",
    "version": 3
   },
   "file_extension": ".py",
   "mimetype": "text/x-python",
   "name": "python",
   "nbconvert_exporter": "python",
   "pygments_lexer": "ipython3",
   "version": "3.7.1"
  }
 },
 "nbformat": 4,
 "nbformat_minor": 2
}
