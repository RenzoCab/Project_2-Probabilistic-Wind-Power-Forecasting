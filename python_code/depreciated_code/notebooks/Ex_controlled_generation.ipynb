{
 "cells": [
  {
   "cell_type": "code",
   "execution_count": 167,
   "metadata": {},
   "outputs": [],
   "source": [
    "import numpy as np\n",
    "import matplotlib.pyplot as plt\n",
    "import matplotlib.cm as cm\n",
    "import scipy.stats\n",
    "from scipy.optimize import minimize\n",
    "from scipy.stats import multivariate_normal\n",
    "from mpl_toolkits.mplot3d import Axes3D\n",
    "import operator\n",
    "from scipy.optimize import minimize\n",
    "import math"
   ]
  },
  {
   "cell_type": "code",
   "execution_count": 168,
   "metadata": {},
   "outputs": [],
   "source": [
    "def gen_dx_recursive(mu_real,sig_real,dt,N):\n",
    "    N=np.int64(N)\n",
    "    X = np.zeros((N))\n",
    "    X[0]=0.5\n",
    "    dW=np.sqrt(dt)*np.random.normal(0, 1, N)\n",
    "    e = np.zeros((N))\n",
    "    for i in range(1,N):\n",
    "        b= sig_real*X[i-1]*(1-X[i-1])\n",
    "        a= mu_real*(0.5 - X[i-1])\n",
    "        X[i]= X[i-1]+ a*dt+ b*dW[i-1]\n",
    "    return(X)"
   ]
  },
  {
   "cell_type": "code",
   "execution_count": 169,
   "metadata": {},
   "outputs": [],
   "source": [
    "def liklihood(param,data, disc):\n",
    "    L=0\n",
    "    X=data\n",
    "    N,dt=disc;\n",
    "    N=np.int64(N)\n",
    "    mu,sig =param;\n",
    "    for i in range(1,N):\n",
    "        b= sig*X[i-1]*(1-X[i-1])\n",
    "        a= mu*(0.5 - X[i-1])\n",
    "        L = L  - (X[i]-X[i-1]-a*dt )**2/(2*dt*b**2) -0.5*np.log(2*math.pi*b**2*dt)\n",
    "    return(-1*L)"
   ]
  },
  {
   "cell_type": "code",
   "execution_count": 170,
   "metadata": {},
   "outputs": [],
   "source": [
    "def gen_paths(mu_real,sig_real,dt,N,num_paths=1):\n",
    "    L = np.zeros((num_paths,N))\n",
    "    for i in range(0,num_paths):\n",
    "        L[i]=gen_dx_recursive(mu_real,sig_real,dt,N)\n",
    "    return(L)"
   ]
  },
  {
   "cell_type": "code",
   "execution_count": 171,
   "metadata": {},
   "outputs": [],
   "source": [
    "def covergence_test(disc ,param_real, param_initial):\n",
    "    \n",
    "    N,dt=disc;\n",
    "    mu_real,sig_real=param_real\n",
    "    mu_initial,sig_initial=param_initial\n",
    "    \n",
    "    e=gen_dx_recursive(mu_real,sig_real,dt,N)\n",
    "    \n",
    "    args=(e,disc)\n",
    "    x0=param_initial\n",
    "    bnds = ((None, None), (1e-5, None))\n",
    "    \n",
    "    min_param=minimize(liklihood,x0,args,bounds=bnds);min_param\n",
    "    #min_param=minimize(liklihood,x0,args,method='SLSQP',bounds=bnds,\\\n",
    "                   #tol=1e-24,options={  'ftol': 1e-24,  'eps': 1e-12});min_param\n",
    "    error = np.divide ( abs(min_param.x - param_real),param_real )\n",
    "    \n",
    "    return(min_param.x, error)"
   ]
  },
  {
   "cell_type": "code",
   "execution_count": 172,
   "metadata": {},
   "outputs": [],
   "source": [
    "#varying number of samples\n",
    "\n",
    "def convergence_in_N(N_test,fix_dt,param_real_test,param_initial_test):\n",
    "\n",
    "    err_fixeddt=np.zeros((len(N_test),2))\n",
    "    result_fixeddt=np.zeros((len(N_test),2))\n",
    "\n",
    "    for i in range(0,len(N_test)):\n",
    "        disc_test=np.array([N_test[i],fix_dt])\n",
    "        result_fixeddt[i,:],err_fixeddt[i,:]=covergence_test(disc_test,param_real_test,param_initial_test)\n",
    "        \n",
    "    return(result_fixeddt,err_fixeddt)"
   ]
  },
  {
   "cell_type": "code",
   "execution_count": 173,
   "metadata": {},
   "outputs": [],
   "source": [
    "#varying number of paths\n",
    "\n",
    "def convergence_in_L(N_test,fix_dt,param_real_test,param_initial_test,num_paths ):\n",
    "    result_fixeddt= np.zeros(( num_paths ,len(N_test),2))\n",
    "    err_fixeddt= np.zeros(( num_paths ,len(N_test),2))\n",
    "\n",
    "    for i in range(0,num_paths):\n",
    "        result_fixeddt[i,:,:],err_fixeddt[i,:,:]=convergence_in_N(N_test,fix_dt,param_real_test,param_initial_test)\n",
    "    return(result_fixeddt, err_fixeddt)"
   ]
  },
  {
   "cell_type": "code",
   "execution_count": 174,
   "metadata": {},
   "outputs": [],
   "source": [
    "def abline(slope, intercept):\n",
    "    \"\"\"Plot a line from slope and intercept\"\"\"\n",
    "    axes = plt.gca()\n",
    "    x_vals = np.array(axes.get_xlim())\n",
    "    y_vals = intercept + slope * x_vals\n",
    "    plt.plot(x_vals, y_vals, '--', label='slope='+str(slope))"
   ]
  },
  {
   "cell_type": "code",
   "execution_count": 175,
   "metadata": {},
   "outputs": [
    {
     "data": {
      "text/plain": [
       "[<matplotlib.lines.Line2D at 0x7f9c70fb5eb8>]"
      ]
     },
     "execution_count": 175,
     "metadata": {},
     "output_type": "execute_result"
    },
    {
     "data": {
      "image/png": "[encoded data removed]",
      "text/plain": [
       "<Figure size 432x288 with 1 Axes>"
      ]
     },
     "metadata": {
      "needs_background": "light"
     },
     "output_type": "display_data"
    }
   ],
   "source": [
    "y=gen_dx_recursive(mu_real=0.1,sig_real=0.05,dt=1,N=100)\n",
    "plt.plot(y)"
   ]
  },
  {
   "cell_type": "code",
   "execution_count": 183,
   "metadata": {},
   "outputs": [],
   "source": [
    "#convergence for increasing number of paths and samples\n",
    "\n",
    "N_test=np.array([2,10,100,1000]) #,100,500,1000,10000,50000\n",
    "\n",
    "fix_dt=1\n",
    "param_real_test=np.array([0.1,0.01])\n",
    "param_initial_test= np.array([0.5,0.03])\n",
    "\n",
    "num_paths_test=np.array([2,10,100,1000]) #,1000,10000\n",
    "\n",
    "\n",
    "result_fixeddt_avg=np.zeros((len(num_paths_test),len(N_test),2))\n",
    "err_fixeddt_avg=np.zeros((len(num_paths_test),len(N_test),2))\n",
    "\n",
    "for i in range(0,len(num_paths_test)):\n",
    "    result_fixeddt,_=convergence_in_L(N_test,fix_dt,param_real_test,param_initial_test,num_paths_test[i] )\n",
    "    #obtain averaging estimator\n",
    "    result_fixeddt_avg[i]=np.average(result_fixeddt, axis=0)\n",
    "    #error estimates\n",
    "    err_fixeddt_avg[i,:,0] = np.divide ( abs(result_fixeddt_avg[i,:,0] - param_real_test[0]), param_real_test[0] )\n",
    "    err_fixeddt_avg[i,:,1]=np.divide ( abs(result_fixeddt_avg[i,:,1] - param_real_test[1]), param_real_test[1] )"
   ]
  },
  {
   "cell_type": "code",
   "execution_count": 184,
   "metadata": {},
   "outputs": [
    {
     "data": {
      "text/plain": [
       "array([[[0.5       , 0.00710553],\n",
       "        [0.19386921, 0.0068948 ],\n",
       "        [0.13187257, 0.00841517],\n",
       "        [0.11175433, 0.01012629]],\n",
       "\n",
       "       [[0.5       , 0.0080254 ],\n",
       "        [0.20396668, 0.00921145],\n",
       "        [0.11743061, 0.01045879],\n",
       "        [0.10909929, 0.0100069 ]],\n",
       "\n",
       "       [[0.5       , 0.00816443],\n",
       "        [0.19536127, 0.00953918],\n",
       "        [0.11322972, 0.0099964 ],\n",
       "        [0.10038548, 0.0100188 ]],\n",
       "\n",
       "       [[0.5       , 0.0080809 ],\n",
       "        [0.24672179, 0.00924654],\n",
       "        [0.11715503, 0.00989319],\n",
       "        [0.10155818, 0.00998629]]])"
      ]
     },
     "execution_count": 184,
     "metadata": {},
     "output_type": "execute_result"
    }
   ],
   "source": [
    "result_fixeddt_avg"
   ]
  },
  {
   "cell_type": "code",
   "execution_count": 185,
   "metadata": {},
   "outputs": [
    {
     "data": {
      "text/plain": [
       "array([[[4.00000000e+00, 2.89446673e-01],\n",
       "        [9.38692102e-01, 3.10519859e-01],\n",
       "        [3.18725658e-01, 1.58483498e-01],\n",
       "        [1.17543286e-01, 1.26290853e-02]],\n",
       "\n",
       "       [[4.00000000e+00, 1.97459618e-01],\n",
       "        [1.03966683e+00, 7.88552015e-02],\n",
       "        [1.74306128e-01, 4.58787410e-02],\n",
       "        [9.09929334e-02, 6.89906709e-04]],\n",
       "\n",
       "       [[4.00000000e+00, 1.83556958e-01],\n",
       "        [9.53612656e-01, 4.60821900e-02],\n",
       "        [1.32297151e-01, 3.59689418e-04],\n",
       "        [3.85482468e-03, 1.88002440e-03]],\n",
       "\n",
       "       [[4.00000000e+00, 1.91909865e-01],\n",
       "        [1.46721786e+00, 7.53464416e-02],\n",
       "        [1.71550290e-01, 1.06807412e-02],\n",
       "        [1.55818393e-02, 1.37128105e-03]]])"
      ]
     },
     "execution_count": 185,
     "metadata": {},
     "output_type": "execute_result"
    }
   ],
   "source": [
    "err_fixeddt_avg"
   ]
  },
  {
   "cell_type": "code",
   "execution_count": null,
   "metadata": {},
   "outputs": [],
   "source": []
  }
 ],
 "metadata": {
  "kernelspec": {
   "display_name": "Python 3",
   "language": "python",
   "name": "python3"
  },
  "language_info": {
   "codemirror_mode": {
    "name": "ipython",
    "version": 3
   },
   "file_extension": ".py",
   "mimetype": "text/x-python",
   "name": "python",
   "nbconvert_exporter": "python",
   "pygments_lexer": "ipython3",
   "version": "3.7.1"
  }
 },
 "nbformat": 4,
 "nbformat_minor": 2
}
